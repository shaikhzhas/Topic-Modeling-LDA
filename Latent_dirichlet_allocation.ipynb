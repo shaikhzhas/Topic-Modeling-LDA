{
 "cells": [
  {
   "cell_type": "markdown",
   "metadata": {},
   "source": [
    "## Step 0: Latent Dirichlet Allocation ##\n",
    "\n",
    "LDA is used to classify text in a document to a particular topic. It builds a topic per document model and words per topic model, modeled as Dirichlet distributions. \n",
    "\n",
    "* Each document is modeled as a multinomial distribution of topics and each topic is modeled as a multinomial distribution of words.\n",
    "* LDA assumes that the every chunk of text we feed into it will contain words that are somehow related. Therefore choosing the right corpus of data is crucial. \n",
    "* It also assumes documents are produced from a mixture of topics. Those topics then generate words based on their probability distribution. "
   ]
  },
  {
   "cell_type": "markdown",
   "metadata": {},
   "source": [
    "## Step 1: Load the dataset\n",
    "\n",
    "The dataset we'll use is a list of over one million news headlines published over a period of 15 years. We'll start by loading it from the `abcnews-date-text.csv` file."
   ]
  },
  {
   "cell_type": "code",
   "execution_count": 1,
   "metadata": {},
   "outputs": [],
   "source": [
    "'''\n",
    "Load the dataset from the CSV and save it to 'data_text'\n",
    "'''\n",
    "import pandas as pd\n",
    "data = pd.read_csv('abcnews-date-text.csv', error_bad_lines=False);\n"
   ]
  },
  {
   "cell_type": "code",
   "execution_count": 2,
   "metadata": {},
   "outputs": [
    {
     "data": {
      "text/html": [
       "<div>\n",
       "<style scoped>\n",
       "    .dataframe tbody tr th:only-of-type {\n",
       "        vertical-align: middle;\n",
       "    }\n",
       "\n",
       "    .dataframe tbody tr th {\n",
       "        vertical-align: top;\n",
       "    }\n",
       "\n",
       "    .dataframe thead th {\n",
       "        text-align: right;\n",
       "    }\n",
       "</style>\n",
       "<table border=\"1\" class=\"dataframe\">\n",
       "  <thead>\n",
       "    <tr style=\"text-align: right;\">\n",
       "      <th></th>\n",
       "      <th>publish_date</th>\n",
       "      <th>headline_text</th>\n",
       "    </tr>\n",
       "  </thead>\n",
       "  <tbody>\n",
       "    <tr>\n",
       "      <th>0</th>\n",
       "      <td>20030219</td>\n",
       "      <td>aba decides against community broadcasting lic...</td>\n",
       "    </tr>\n",
       "    <tr>\n",
       "      <th>1</th>\n",
       "      <td>20030219</td>\n",
       "      <td>act fire witnesses must be aware of defamation</td>\n",
       "    </tr>\n",
       "    <tr>\n",
       "      <th>2</th>\n",
       "      <td>20030219</td>\n",
       "      <td>a g calls for infrastructure protection summit</td>\n",
       "    </tr>\n",
       "    <tr>\n",
       "      <th>3</th>\n",
       "      <td>20030219</td>\n",
       "      <td>air nz staff in aust strike for pay rise</td>\n",
       "    </tr>\n",
       "    <tr>\n",
       "      <th>4</th>\n",
       "      <td>20030219</td>\n",
       "      <td>air nz strike to affect australian travellers</td>\n",
       "    </tr>\n",
       "  </tbody>\n",
       "</table>\n",
       "</div>"
      ],
      "text/plain": [
       "   publish_date                                      headline_text\n",
       "0      20030219  aba decides against community broadcasting lic...\n",
       "1      20030219     act fire witnesses must be aware of defamation\n",
       "2      20030219     a g calls for infrastructure protection summit\n",
       "3      20030219           air nz staff in aust strike for pay rise\n",
       "4      20030219      air nz strike to affect australian travellers"
      ]
     },
     "execution_count": 2,
     "metadata": {},
     "output_type": "execute_result"
    }
   ],
   "source": [
    "data.head()"
   ]
  },
  {
   "cell_type": "code",
   "execution_count": 3,
   "metadata": {},
   "outputs": [
    {
     "data": {
      "text/plain": [
       "(1103665, 2)"
      ]
     },
     "execution_count": 3,
     "metadata": {},
     "output_type": "execute_result"
    }
   ],
   "source": [
    "data.shape"
   ]
  },
  {
   "cell_type": "code",
   "execution_count": 4,
   "metadata": {},
   "outputs": [],
   "source": [
    "# We only need the Headlines text column from the data\n",
    "data_text = data[:300000][['headline_text']];\n",
    "data_text['index'] = data_text.index\n",
    "\n",
    "documents = data_text"
   ]
  },
  {
   "cell_type": "code",
   "execution_count": 5,
   "metadata": {},
   "outputs": [
    {
     "data": {
      "text/html": [
       "<div>\n",
       "<style scoped>\n",
       "    .dataframe tbody tr th:only-of-type {\n",
       "        vertical-align: middle;\n",
       "    }\n",
       "\n",
       "    .dataframe tbody tr th {\n",
       "        vertical-align: top;\n",
       "    }\n",
       "\n",
       "    .dataframe thead th {\n",
       "        text-align: right;\n",
       "    }\n",
       "</style>\n",
       "<table border=\"1\" class=\"dataframe\">\n",
       "  <thead>\n",
       "    <tr style=\"text-align: right;\">\n",
       "      <th></th>\n",
       "      <th>headline_text</th>\n",
       "      <th>index</th>\n",
       "    </tr>\n",
       "  </thead>\n",
       "  <tbody>\n",
       "    <tr>\n",
       "      <th>0</th>\n",
       "      <td>aba decides against community broadcasting lic...</td>\n",
       "      <td>0</td>\n",
       "    </tr>\n",
       "    <tr>\n",
       "      <th>1</th>\n",
       "      <td>act fire witnesses must be aware of defamation</td>\n",
       "      <td>1</td>\n",
       "    </tr>\n",
       "    <tr>\n",
       "      <th>2</th>\n",
       "      <td>a g calls for infrastructure protection summit</td>\n",
       "      <td>2</td>\n",
       "    </tr>\n",
       "    <tr>\n",
       "      <th>3</th>\n",
       "      <td>air nz staff in aust strike for pay rise</td>\n",
       "      <td>3</td>\n",
       "    </tr>\n",
       "    <tr>\n",
       "      <th>4</th>\n",
       "      <td>air nz strike to affect australian travellers</td>\n",
       "      <td>4</td>\n",
       "    </tr>\n",
       "  </tbody>\n",
       "</table>\n",
       "</div>"
      ],
      "text/plain": [
       "                                       headline_text  index\n",
       "0  aba decides against community broadcasting lic...      0\n",
       "1     act fire witnesses must be aware of defamation      1\n",
       "2     a g calls for infrastructure protection summit      2\n",
       "3           air nz staff in aust strike for pay rise      3\n",
       "4      air nz strike to affect australian travellers      4"
      ]
     },
     "execution_count": 5,
     "metadata": {},
     "output_type": "execute_result"
    }
   ],
   "source": [
    "documents.head()"
   ]
  },
  {
   "cell_type": "markdown",
   "metadata": {},
   "source": [
    "Let's glance at the dataset:"
   ]
  },
  {
   "cell_type": "code",
   "execution_count": 6,
   "metadata": {},
   "outputs": [
    {
     "name": "stdout",
     "output_type": "stream",
     "text": [
      "300000\n"
     ]
    }
   ],
   "source": [
    "'''\n",
    "Get the total number of documents\n",
    "'''\n",
    "print(len(documents))"
   ]
  },
  {
   "cell_type": "code",
   "execution_count": 7,
   "metadata": {},
   "outputs": [
    {
     "data": {
      "text/html": [
       "<div>\n",
       "<style scoped>\n",
       "    .dataframe tbody tr th:only-of-type {\n",
       "        vertical-align: middle;\n",
       "    }\n",
       "\n",
       "    .dataframe tbody tr th {\n",
       "        vertical-align: top;\n",
       "    }\n",
       "\n",
       "    .dataframe thead th {\n",
       "        text-align: right;\n",
       "    }\n",
       "</style>\n",
       "<table border=\"1\" class=\"dataframe\">\n",
       "  <thead>\n",
       "    <tr style=\"text-align: right;\">\n",
       "      <th></th>\n",
       "      <th>headline_text</th>\n",
       "      <th>index</th>\n",
       "    </tr>\n",
       "  </thead>\n",
       "  <tbody>\n",
       "    <tr>\n",
       "      <th>0</th>\n",
       "      <td>aba decides against community broadcasting lic...</td>\n",
       "      <td>0</td>\n",
       "    </tr>\n",
       "    <tr>\n",
       "      <th>1</th>\n",
       "      <td>act fire witnesses must be aware of defamation</td>\n",
       "      <td>1</td>\n",
       "    </tr>\n",
       "    <tr>\n",
       "      <th>2</th>\n",
       "      <td>a g calls for infrastructure protection summit</td>\n",
       "      <td>2</td>\n",
       "    </tr>\n",
       "    <tr>\n",
       "      <th>3</th>\n",
       "      <td>air nz staff in aust strike for pay rise</td>\n",
       "      <td>3</td>\n",
       "    </tr>\n",
       "    <tr>\n",
       "      <th>4</th>\n",
       "      <td>air nz strike to affect australian travellers</td>\n",
       "      <td>4</td>\n",
       "    </tr>\n",
       "  </tbody>\n",
       "</table>\n",
       "</div>"
      ],
      "text/plain": [
       "                                       headline_text  index\n",
       "0  aba decides against community broadcasting lic...      0\n",
       "1     act fire witnesses must be aware of defamation      1\n",
       "2     a g calls for infrastructure protection summit      2\n",
       "3           air nz staff in aust strike for pay rise      3\n",
       "4      air nz strike to affect australian travellers      4"
      ]
     },
     "execution_count": 7,
     "metadata": {},
     "output_type": "execute_result"
    }
   ],
   "source": [
    "documents[:5]"
   ]
  },
  {
   "cell_type": "markdown",
   "metadata": {},
   "source": [
    "## Step 2: Data Preprocessing ##\n",
    "\n",
    "We will perform the following steps:\n",
    "\n",
    "* **Tokenization**: Split the text into sentences and the sentences into words. Lowercase the words and remove punctuation.\n",
    "* Words that have fewer than 3 characters are removed.\n",
    "* All **stopwords** are removed.\n",
    "* Words are **lemmatized** - words in third person are changed to first person and verbs in past and future tenses are changed into present.\n",
    "* Words are **stemmed** - words are reduced to their root form.\n"
   ]
  },
  {
   "cell_type": "code",
   "execution_count": 8,
   "metadata": {},
   "outputs": [],
   "source": [
    "'''\n",
    "Loading Gensim and nltk libraries\n",
    "'''\n",
    "# pip install gensim\n",
    "import gensim\n",
    "from gensim.utils import simple_preprocess\n",
    "from gensim.parsing.preprocessing import STOPWORDS\n",
    "from nltk.stem import WordNetLemmatizer, SnowballStemmer\n",
    "from nltk.stem.porter import *\n",
    "import numpy as np\n",
    "np.random.seed(400)"
   ]
  },
  {
   "cell_type": "code",
   "execution_count": 9,
   "metadata": {},
   "outputs": [
    {
     "name": "stdout",
     "output_type": "stream",
     "text": [
      "[nltk_data] Downloading package wordnet to /Users/dulan/nltk_data...\n",
      "[nltk_data]   Package wordnet is already up-to-date!\n"
     ]
    },
    {
     "data": {
      "text/plain": [
       "True"
      ]
     },
     "execution_count": 9,
     "metadata": {},
     "output_type": "execute_result"
    }
   ],
   "source": [
    "import nltk\n",
    "nltk.download('wordnet')"
   ]
  },
  {
   "cell_type": "markdown",
   "metadata": {},
   "source": [
    "### Lemmatizer Example\n",
    "Before preprocessing our dataset, let's first look at an lemmatizing example. What would be the output if we lemmatized the word 'went':"
   ]
  },
  {
   "cell_type": "code",
   "execution_count": 10,
   "metadata": {},
   "outputs": [
    {
     "name": "stdout",
     "output_type": "stream",
     "text": [
      "go\n"
     ]
    }
   ],
   "source": [
    "print(WordNetLemmatizer().lemmatize('went', pos = 'v')) # past tense to present tense"
   ]
  },
  {
   "cell_type": "markdown",
   "metadata": {},
   "source": [
    "### Stemmer Example\n",
    "Let's also look at a stemming example. Let's throw a number of words at the stemmer and see how it deals with each one:"
   ]
  },
  {
   "cell_type": "code",
   "execution_count": 11,
   "metadata": {},
   "outputs": [
    {
     "data": {
      "text/html": [
       "<div>\n",
       "<style scoped>\n",
       "    .dataframe tbody tr th:only-of-type {\n",
       "        vertical-align: middle;\n",
       "    }\n",
       "\n",
       "    .dataframe tbody tr th {\n",
       "        vertical-align: top;\n",
       "    }\n",
       "\n",
       "    .dataframe thead th {\n",
       "        text-align: right;\n",
       "    }\n",
       "</style>\n",
       "<table border=\"1\" class=\"dataframe\">\n",
       "  <thead>\n",
       "    <tr style=\"text-align: right;\">\n",
       "      <th></th>\n",
       "      <th>original word</th>\n",
       "      <th>stemmed</th>\n",
       "    </tr>\n",
       "  </thead>\n",
       "  <tbody>\n",
       "    <tr>\n",
       "      <th>0</th>\n",
       "      <td>caresses</td>\n",
       "      <td>caress</td>\n",
       "    </tr>\n",
       "    <tr>\n",
       "      <th>1</th>\n",
       "      <td>flies</td>\n",
       "      <td>fli</td>\n",
       "    </tr>\n",
       "    <tr>\n",
       "      <th>2</th>\n",
       "      <td>dies</td>\n",
       "      <td>die</td>\n",
       "    </tr>\n",
       "    <tr>\n",
       "      <th>3</th>\n",
       "      <td>mules</td>\n",
       "      <td>mule</td>\n",
       "    </tr>\n",
       "    <tr>\n",
       "      <th>4</th>\n",
       "      <td>denied</td>\n",
       "      <td>deni</td>\n",
       "    </tr>\n",
       "    <tr>\n",
       "      <th>5</th>\n",
       "      <td>died</td>\n",
       "      <td>die</td>\n",
       "    </tr>\n",
       "    <tr>\n",
       "      <th>6</th>\n",
       "      <td>agreed</td>\n",
       "      <td>agre</td>\n",
       "    </tr>\n",
       "    <tr>\n",
       "      <th>7</th>\n",
       "      <td>owned</td>\n",
       "      <td>own</td>\n",
       "    </tr>\n",
       "    <tr>\n",
       "      <th>8</th>\n",
       "      <td>humbled</td>\n",
       "      <td>humbl</td>\n",
       "    </tr>\n",
       "    <tr>\n",
       "      <th>9</th>\n",
       "      <td>sized</td>\n",
       "      <td>size</td>\n",
       "    </tr>\n",
       "    <tr>\n",
       "      <th>10</th>\n",
       "      <td>meeting</td>\n",
       "      <td>meet</td>\n",
       "    </tr>\n",
       "    <tr>\n",
       "      <th>11</th>\n",
       "      <td>stating</td>\n",
       "      <td>state</td>\n",
       "    </tr>\n",
       "    <tr>\n",
       "      <th>12</th>\n",
       "      <td>siezing</td>\n",
       "      <td>siez</td>\n",
       "    </tr>\n",
       "    <tr>\n",
       "      <th>13</th>\n",
       "      <td>itemization</td>\n",
       "      <td>item</td>\n",
       "    </tr>\n",
       "    <tr>\n",
       "      <th>14</th>\n",
       "      <td>sensational</td>\n",
       "      <td>sensat</td>\n",
       "    </tr>\n",
       "    <tr>\n",
       "      <th>15</th>\n",
       "      <td>traditional</td>\n",
       "      <td>tradit</td>\n",
       "    </tr>\n",
       "    <tr>\n",
       "      <th>16</th>\n",
       "      <td>reference</td>\n",
       "      <td>refer</td>\n",
       "    </tr>\n",
       "    <tr>\n",
       "      <th>17</th>\n",
       "      <td>colonizer</td>\n",
       "      <td>colon</td>\n",
       "    </tr>\n",
       "    <tr>\n",
       "      <th>18</th>\n",
       "      <td>plotted</td>\n",
       "      <td>plot</td>\n",
       "    </tr>\n",
       "  </tbody>\n",
       "</table>\n",
       "</div>"
      ],
      "text/plain": [
       "   original word stemmed\n",
       "0       caresses  caress\n",
       "1          flies     fli\n",
       "2           dies     die\n",
       "3          mules    mule\n",
       "4         denied    deni\n",
       "5           died     die\n",
       "6         agreed    agre\n",
       "7          owned     own\n",
       "8        humbled   humbl\n",
       "9          sized    size\n",
       "10       meeting    meet\n",
       "11       stating   state\n",
       "12       siezing    siez\n",
       "13   itemization    item\n",
       "14   sensational  sensat\n",
       "15   traditional  tradit\n",
       "16     reference   refer\n",
       "17     colonizer   colon\n",
       "18       plotted    plot"
      ]
     },
     "execution_count": 11,
     "metadata": {},
     "output_type": "execute_result"
    }
   ],
   "source": [
    "stemmer = SnowballStemmer(\"english\")\n",
    "original_words = ['caresses', 'flies', 'dies', 'mules', 'denied','died', 'agreed', 'owned', \n",
    "           'humbled', 'sized','meeting', 'stating', 'siezing', 'itemization','sensational', \n",
    "           'traditional', 'reference', 'colonizer','plotted']\n",
    "singles = [stemmer.stem(plural) for plural in original_words]\n",
    "\n",
    "pd.DataFrame(data={'original word':original_words, 'stemmed':singles })"
   ]
  },
  {
   "cell_type": "code",
   "execution_count": 12,
   "metadata": {},
   "outputs": [],
   "source": [
    "'''\n",
    "Write a function to perform the pre processing steps on the entire dataset\n",
    "'''\n",
    "def lemmatize_stemming(text):\n",
    "    return stemmer.stem(WordNetLemmatizer().lemmatize(text, pos='v'))\n",
    "\n",
    "# Tokenize and lemmatize\n",
    "def preprocess(text):\n",
    "    result=[]\n",
    "    for token in gensim.utils.simple_preprocess(text) :\n",
    "        if token not in gensim.parsing.preprocessing.STOPWORDS and len(token) > 3:\n",
    "            # TODO: Apply lemmatize_stemming() on the token, then add to the results list\n",
    "            result = [ lemmatize_stemming(word) for word in gensim.utils.simple_preprocess(text, min_len=4) ]\n",
    "    return result\n",
    "\n"
   ]
  },
  {
   "cell_type": "code",
   "execution_count": 13,
   "metadata": {},
   "outputs": [
    {
     "name": "stdout",
     "output_type": "stream",
     "text": [
      "Original document: \n",
      "['rain', 'helps', 'dampen', 'bushfires']\n",
      "\n",
      "\n",
      "Tokenized and lemmatized document: \n",
      "['rain', 'help', 'dampen', 'bushfir']\n"
     ]
    }
   ],
   "source": [
    "'''\n",
    "Preview a document after preprocessing\n",
    "'''\n",
    "document_num = 4310\n",
    "doc_sample = documents[documents['index'] == document_num].values[0][0]\n",
    "\n",
    "print(\"Original document: \")\n",
    "words = []\n",
    "for word in doc_sample.split(' '):\n",
    "    words.append(word)\n",
    "print(words)\n",
    "print(\"\\n\\nTokenized and lemmatized document: \")\n",
    "print(preprocess(doc_sample))"
   ]
  },
  {
   "cell_type": "code",
   "execution_count": 14,
   "metadata": {},
   "outputs": [
    {
     "data": {
      "text/plain": [
       "'rain helps dampen bushfires'"
      ]
     },
     "execution_count": 14,
     "metadata": {},
     "output_type": "execute_result"
    }
   ],
   "source": [
    "doc_sample"
   ]
  },
  {
   "cell_type": "code",
   "execution_count": 10,
   "metadata": {
    "scrolled": true
   },
   "outputs": [
    {
     "data": {
      "text/html": [
       "<div>\n",
       "<style>\n",
       "    .dataframe thead tr:only-child th {\n",
       "        text-align: right;\n",
       "    }\n",
       "\n",
       "    .dataframe thead th {\n",
       "        text-align: left;\n",
       "    }\n",
       "\n",
       "    .dataframe tbody tr th {\n",
       "        vertical-align: top;\n",
       "    }\n",
       "</style>\n",
       "<table border=\"1\" class=\"dataframe\">\n",
       "  <thead>\n",
       "    <tr style=\"text-align: right;\">\n",
       "      <th></th>\n",
       "      <th>headline_text</th>\n",
       "      <th>index</th>\n",
       "    </tr>\n",
       "  </thead>\n",
       "  <tbody>\n",
       "    <tr>\n",
       "      <th>0</th>\n",
       "      <td>aba decides against community broadcasting lic...</td>\n",
       "      <td>0</td>\n",
       "    </tr>\n",
       "    <tr>\n",
       "      <th>1</th>\n",
       "      <td>act fire witnesses must be aware of defamation</td>\n",
       "      <td>1</td>\n",
       "    </tr>\n",
       "    <tr>\n",
       "      <th>2</th>\n",
       "      <td>a g calls for infrastructure protection summit</td>\n",
       "      <td>2</td>\n",
       "    </tr>\n",
       "    <tr>\n",
       "      <th>3</th>\n",
       "      <td>air nz staff in aust strike for pay rise</td>\n",
       "      <td>3</td>\n",
       "    </tr>\n",
       "    <tr>\n",
       "      <th>4</th>\n",
       "      <td>air nz strike to affect australian travellers</td>\n",
       "      <td>4</td>\n",
       "    </tr>\n",
       "  </tbody>\n",
       "</table>\n",
       "</div>"
      ],
      "text/plain": [
       "                                       headline_text  index\n",
       "0  aba decides against community broadcasting lic...      0\n",
       "1     act fire witnesses must be aware of defamation      1\n",
       "2     a g calls for infrastructure protection summit      2\n",
       "3           air nz staff in aust strike for pay rise      3\n",
       "4      air nz strike to affect australian travellers      4"
      ]
     },
     "execution_count": 10,
     "metadata": {},
     "output_type": "execute_result"
    }
   ],
   "source": [
    "documents[:5]"
   ]
  },
  {
   "cell_type": "markdown",
   "metadata": {},
   "source": [
    "Let's now preprocess all the news headlines we have. To do that, let's use the [map](https://pandas.pydata.org/pandas-docs/stable/generated/pandas.Series.map.html) function from pandas to apply `preprocess()` to the `headline_text` column\n",
    "\n",
    "**Note**: This may take a few minutes (it take 6 minutes on my laptop)"
   ]
  },
  {
   "cell_type": "code",
   "execution_count": 16,
   "metadata": {},
   "outputs": [],
   "source": [
    "# TODO: preprocess all the headlines, saving the list of results as 'processed_docs'\n",
    "processed_docs = documents['headline_text'].map(preprocess)"
   ]
  },
  {
   "cell_type": "code",
   "execution_count": 17,
   "metadata": {},
   "outputs": [
    {
     "data": {
      "text/plain": [
       "0       [decid, against, communiti, broadcast, licenc]\n",
       "1                       [fire, wit, must, awar, defam]\n",
       "2               [call, infrastructur, protect, summit]\n",
       "3                          [staff, aust, strike, rise]\n",
       "4                 [strike, affect, australian, travel]\n",
       "5                   [ambiti, olsson, win, tripl, jump]\n",
       "6         [antic, delight, with, record, break, barca]\n",
       "7    [aussi, qualifi, stosur, wast, four, memphi, m...\n",
       "8          [aust, address, secur, council, over, iraq]\n",
       "9                       [australia, lock, into, timet]\n",
       "Name: headline_text, dtype: object"
      ]
     },
     "execution_count": 17,
     "metadata": {},
     "output_type": "execute_result"
    }
   ],
   "source": [
    "'''\n",
    "Preview 'processed_docs'\n",
    "'''\n",
    "processed_docs[:10]"
   ]
  },
  {
   "cell_type": "markdown",
   "metadata": {},
   "source": [
    "## Step 3.1: Bag of words on the dataset\n",
    "\n",
    "Now let's create a dictionary from 'processed_docs' containing the number of times a word appears in the training set. To do that, let's pass `processed_docs` to [`gensim.corpora.Dictionary()`](https://radimrehurek.com/gensim/corpora/dictionary.html) and call it '`dictionary`'."
   ]
  },
  {
   "cell_type": "code",
   "execution_count": 18,
   "metadata": {},
   "outputs": [],
   "source": [
    "'''\n",
    "Create a dictionary from 'processed_docs' containing the number of times a word appears \n",
    "in the training set using gensim.corpora.Dictionary and call it 'dictionary'\n",
    "'''\n",
    "dictionary = gensim.corpora.Dictionary(processed_docs)"
   ]
  },
  {
   "cell_type": "code",
   "execution_count": 21,
   "metadata": {},
   "outputs": [
    {
     "data": {
      "text/plain": [
       "<bound method Dictionary.doc2idx of <gensim.corpora.dictionary.Dictionary object at 0x125016400>>"
      ]
     },
     "execution_count": 21,
     "metadata": {},
     "output_type": "execute_result"
    }
   ],
   "source": [
    "dictionary.doc2idx"
   ]
  },
  {
   "cell_type": "code",
   "execution_count": 22,
   "metadata": {},
   "outputs": [
    {
     "name": "stdout",
     "output_type": "stream",
     "text": [
      "0 against\n",
      "1 broadcast\n",
      "2 communiti\n",
      "3 decid\n",
      "4 licenc\n",
      "5 awar\n",
      "6 defam\n",
      "7 fire\n",
      "8 must\n",
      "9 wit\n",
      "10 call\n"
     ]
    }
   ],
   "source": [
    "'''\n",
    "Checking dictionary created\n",
    "'''\n",
    "count = 0\n",
    "for k, v in dictionary.iteritems():\n",
    "    print(k, v)\n",
    "    count += 1\n",
    "    if count > 10:\n",
    "        break"
   ]
  },
  {
   "cell_type": "markdown",
   "metadata": {},
   "source": [
    "** Gensim filter_extremes **\n",
    "\n",
    "[`filter_extremes(no_below=5, no_above=0.5, keep_n=100000)`](https://radimrehurek.com/gensim/corpora/dictionary.html#gensim.corpora.dictionary.Dictionary.filter_extremes)\n",
    "\n",
    "Filter out tokens that appear in\n",
    "\n",
    "* less than no_below documents (absolute number) or\n",
    "* more than no_above documents (fraction of total corpus size, not absolute number).\n",
    "* after (1) and (2), keep only the first keep_n most frequent tokens (or keep all if None)."
   ]
  },
  {
   "cell_type": "code",
   "execution_count": 23,
   "metadata": {},
   "outputs": [],
   "source": [
    "'''\n",
    "OPTIONAL STEP\n",
    "Remove very rare and very common words:\n",
    "\n",
    "- words appearing less than 15 times\n",
    "- words appearing in more than 10% of all documents\n",
    "'''\n",
    "# TODO: apply dictionary.filter_extremes() with the parameters mentioned above\n",
    "dictionary.filter_extremes(no_below=15, no_above=0.1, keep_n=100000)"
   ]
  },
  {
   "cell_type": "markdown",
   "metadata": {},
   "source": [
    "** Gensim doc2bow **\n",
    "\n",
    "[`doc2bow(document)`](https://radimrehurek.com/gensim/corpora/dictionary.html#gensim.corpora.dictionary.Dictionary.doc2bow)\n",
    "\n",
    "* Convert document (a list of words) into the bag-of-words format = list of (token_id, token_count) 2-tuples. Each word is assumed to be a tokenized and normalized string (either unicode or utf8-encoded). No further preprocessing is done on the words in document; apply tokenization, stemming etc. before calling this method."
   ]
  },
  {
   "cell_type": "code",
   "execution_count": 24,
   "metadata": {},
   "outputs": [],
   "source": [
    "'''\n",
    "Create the Bag-of-words model for each document i.e for each document we create a dictionary reporting how many\n",
    "words and how many times those words appear. Save this to 'bow_corpus'\n",
    "'''\n",
    "bow_corpus = [dictionary.doc2bow(doc) for doc in processed_docs]"
   ]
  },
  {
   "cell_type": "code",
   "execution_count": 25,
   "metadata": {},
   "outputs": [
    {
     "data": {
      "text/plain": [
       "[(80, 1), (117, 1), (491, 1), (3620, 1)]"
      ]
     },
     "execution_count": 25,
     "metadata": {},
     "output_type": "execute_result"
    }
   ],
   "source": [
    "'''\n",
    "Checking Bag of Words corpus for our sample document --> (token_id, token_count)\n",
    "'''\n",
    "bow_corpus[document_num]"
   ]
  },
  {
   "cell_type": "code",
   "execution_count": 26,
   "metadata": {},
   "outputs": [
    {
     "name": "stdout",
     "output_type": "stream",
     "text": [
      "Word 80 (\"bushfir\") appears 1 time.\n",
      "Word 117 (\"help\") appears 1 time.\n",
      "Word 491 (\"rain\") appears 1 time.\n",
      "Word 3620 (\"dampen\") appears 1 time.\n"
     ]
    }
   ],
   "source": [
    "'''\n",
    "Preview BOW for our sample preprocessed document\n",
    "'''\n",
    "# Here document_num is document number 4310 which we have checked in Step 2\n",
    "bow_doc_4310 = bow_corpus[document_num]\n",
    "\n",
    "for i in range(len(bow_doc_4310)):\n",
    "    print(\"Word {} (\\\"{}\\\") appears {} time.\".format(bow_doc_4310[i][0], \n",
    "                                                     dictionary[bow_doc_4310[i][0]], \n",
    "                                                     bow_doc_4310[i][1]))"
   ]
  },
  {
   "cell_type": "markdown",
   "metadata": {},
   "source": [
    "## Step 3.2: TF-IDF on our document set ##\n",
    "\n",
    "While performing TF-IDF on the corpus is not necessary for LDA implemention using the gensim model, it is recemmended. TF-IDF expects a bag-of-words (integer values) training corpus during initialization. During transformation, it will take a vector and return another vector of the same dimensionality.\n",
    "\n",
    "*Please note: The author of Gensim dictates the standard procedure for LDA to be using the Bag of Words model.*"
   ]
  },
  {
   "cell_type": "markdown",
   "metadata": {},
   "source": [
    "** TF-IDF stands for \"Term Frequency, Inverse Document Frequency\".**\n",
    "\n",
    "* It is a way to score the importance of words (or \"terms\") in a document based on how frequently they appear across multiple documents.\n",
    "* If a word appears frequently in a document, it's important. Give the word a high score. But if a word appears in many documents, it's not a unique identifier. Give the word a low score.\n",
    "* Therefore, common words like \"the\" and \"for\", which appear in many documents, will be scaled down. Words that appear frequently in a single document will be scaled up.\n",
    "\n",
    "In other words:\n",
    "\n",
    "* TF(w) = `(Number of times term w appears in a document) / (Total number of terms in the document)`.\n",
    "* IDF(w) = `log_e(Total number of documents / Number of documents with term w in it)`.\n",
    "\n",
    "** For example **\n",
    "\n",
    "* Consider a document containing `100` words wherein the word 'tiger' appears 3 times. \n",
    "* The term frequency (i.e., tf) for 'tiger' is then: \n",
    "    - `TF = (3 / 100) = 0.03`. \n",
    "\n",
    "* Now, assume we have `10 million` documents and the word 'tiger' appears in `1000` of these. Then, the inverse document frequency (i.e., idf) is calculated as:\n",
    "    - `IDF = log(10,000,000 / 1,000) = 4`. \n",
    "\n",
    "* Thus, the Tf-idf weight is the product of these quantities: \n",
    "    - `TF-IDF = 0.03 * 4 = 0.12`."
   ]
  },
  {
   "cell_type": "code",
   "execution_count": 27,
   "metadata": {},
   "outputs": [],
   "source": [
    "'''\n",
    "Create tf-idf model object using models.TfidfModel on 'bow_corpus' and save it to 'tfidf'\n",
    "'''\n",
    "from gensim import corpora, models\n",
    "\n",
    "# TODO\n",
    "tfidf = models.TfidfModel(corpus=bow_corpus)"
   ]
  },
  {
   "cell_type": "code",
   "execution_count": 28,
   "metadata": {},
   "outputs": [],
   "source": [
    "'''\n",
    "Apply transformation to the entire corpus and call it 'corpus_tfidf'\n",
    "'''\n",
    "# TODO\n",
    "corpus_tfidf = tfidf[bow_corpus] "
   ]
  },
  {
   "cell_type": "code",
   "execution_count": 29,
   "metadata": {},
   "outputs": [
    {
     "name": "stdout",
     "output_type": "stream",
     "text": [
      "[(0, 0.31987178837257935),\n",
      " (1, 0.5646689747109036),\n",
      " (2, 0.3714475640917832),\n",
      " (3, 0.45981619161770948),\n",
      " (4, 0.47898514074940929)]\n"
     ]
    }
   ],
   "source": [
    "'''\n",
    "Preview TF-IDF scores for our first document --> --> (token_id, tfidf score)\n",
    "'''\n",
    "from pprint import pprint\n",
    "for doc in corpus_tfidf:\n",
    "    pprint(doc)\n",
    "    break"
   ]
  },
  {
   "cell_type": "markdown",
   "metadata": {},
   "source": [
    "## Step 4.1: Running LDA using Bag of Words ##\n",
    "\n",
    "We are going for 10 topics in the document corpus.\n",
    "\n",
    "** We will be running LDA using all CPU cores to parallelize and speed up model training.**\n",
    "\n",
    "Some of the parameters we will be tweaking are:\n",
    "\n",
    "* **num_topics** is the number of requested latent topics to be extracted from the training corpus.\n",
    "* **id2word** is a mapping from word ids (integers) to words (strings). It is used to determine the vocabulary size, as well as for debugging and topic printing.\n",
    "* **workers** is the number of extra processes to use for parallelization. Uses all available cores by default.\n",
    "* **alpha** and **eta** are hyperparameters that affect sparsity of the document-topic (theta) and topic-word (lambda) distributions. We will let these be the default values for now(default value is `1/num_topics`)\n",
    "    - Alpha is the per document topic distribution.\n",
    "        * High alpha: Every document has a mixture of all topics(documents appear similar to each other).\n",
    "        * Low alpha: Every document has a mixture of very few topics\n",
    "\n",
    "    - Eta is the per topic word distribution.\n",
    "        * High eta: Each topic has a mixture of most words(topics appear similar to each other).\n",
    "        * Low eta: Each topic has a mixture of few words.\n",
    "\n",
    "* ** passes ** is the number of training passes through the corpus. For  example, if the training corpus has 50,000 documents, chunksize is  10,000, passes is 2, then online training is done in 10 updates: \n",
    "    * `#1 documents 0-9,999 `\n",
    "    * `#2 documents 10,000-19,999 `\n",
    "    * `#3 documents 20,000-29,999 `\n",
    "    * `#4 documents 30,000-39,999 `\n",
    "    * `#5 documents 40,000-49,999 `\n",
    "    * `#6 documents 0-9,999 `\n",
    "    * `#7 documents 10,000-19,999 `\n",
    "    * `#8 documents 20,000-29,999 `\n",
    "    * `#9 documents 30,000-39,999 `\n",
    "    * `#10 documents 40,000-49,999` "
   ]
  },
  {
   "cell_type": "code",
   "execution_count": 30,
   "metadata": {},
   "outputs": [],
   "source": [
    "# LDA mono-core -- fallback code in case LdaMulticore throws an error on your machine\n",
    "# lda_model = gensim.models.LdaModel(bow_corpus, \n",
    "#                                    num_topics = 10, \n",
    "#                                    id2word = dictionary,                                    \n",
    "#                                    passes = 50)\n",
    "\n",
    "# LDA multicore \n",
    "'''\n",
    "Train your lda model using gensim.models.LdaMulticore and save it to 'lda_model'\n",
    "'''\n",
    "# TODO\n",
    "lda_model = gensim.models.LdaMulticore(bow_corpus,num_topics=10, id2word=dictionary, passes=2)"
   ]
  },
  {
   "cell_type": "code",
   "execution_count": 31,
   "metadata": {},
   "outputs": [
    {
     "name": "stdout",
     "output_type": "stream",
     "text": [
      "Topic: 0.017*\"lead\" + 0.015*\"australia\" + 0.015*\"elect\" + 0.014*\"test\" + 0.013*\"market\" + 0.012*\"world\" + 0.012*\"england\" + 0.011*\"aussi\" + 0.010*\"head\" + 0.010*\"take\" \n",
      "Words: 0\n",
      "\n",
      "\n",
      "Topic: 0.054*\"after\" + 0.035*\"fire\" + 0.028*\"crash\" + 0.021*\"polic\" + 0.020*\"miss\" + 0.019*\"continu\" + 0.018*\"find\" + 0.014*\"search\" + 0.013*\"die\" + 0.012*\"hospit\" \n",
      "Words: 1\n",
      "\n",
      "\n",
      "Topic: 0.056*\"over\" + 0.049*\"polic\" + 0.030*\"charg\" + 0.025*\"court\" + 0.023*\"face\" + 0.016*\"reject\" + 0.015*\"drug\" + 0.015*\"consid\" + 0.013*\"accus\" + 0.013*\"murder\" \n",
      "Words: 2\n",
      "\n",
      "\n",
      "Topic: 0.027*\"call\" + 0.023*\"plan\" + 0.022*\"fund\" + 0.019*\"govt\" + 0.017*\"urg\" + 0.017*\"council\" + 0.015*\"more\" + 0.013*\"boost\" + 0.011*\"work\" + 0.011*\"group\" \n",
      "Words: 3\n",
      "\n",
      "\n",
      "Topic: 0.019*\"with\" + 0.019*\"power\" + 0.017*\"closer\" + 0.017*\"down\" + 0.014*\"victim\" + 0.012*\"play\" + 0.012*\"famili\" + 0.011*\"stand\" + 0.010*\"say\" + 0.010*\"time\" \n",
      "Words: 4\n",
      "\n",
      "\n",
      "Topic: 0.019*\"record\" + 0.019*\"defend\" + 0.016*\"break\" + 0.015*\"govt\" + 0.013*\"sydney\" + 0.012*\"announc\" + 0.012*\"question\" + 0.011*\"secur\" + 0.010*\"plan\" + 0.009*\"criticis\" \n",
      "Words: 5\n",
      "\n",
      "\n",
      "Topic: 0.030*\"death\" + 0.022*\"health\" + 0.020*\"servic\" + 0.018*\"rise\" + 0.016*\"price\" + 0.013*\"over\" + 0.011*\"sale\" + 0.010*\"inquiri\" + 0.010*\"guilti\" + 0.009*\"report\" \n",
      "Words: 6\n",
      "\n",
      "\n",
      "Topic: 0.036*\"kill\" + 0.021*\"iraq\" + 0.019*\"concern\" + 0.018*\"over\" + 0.014*\"green\" + 0.014*\"attack\" + 0.014*\"bomb\" + 0.013*\"protest\" + 0.013*\"push\" + 0.012*\"nuclear\" \n",
      "Words: 7\n",
      "\n",
      "\n",
      "Topic: 0.041*\"water\" + 0.015*\"govt\" + 0.015*\"say\" + 0.014*\"deal\" + 0.012*\"law\" + 0.010*\"cost\" + 0.010*\"trade\" + 0.010*\"state\" + 0.010*\"keep\" + 0.009*\"liber\" \n",
      "Words: 8\n",
      "\n",
      "\n",
      "Topic: 0.018*\"support\" + 0.014*\"south\" + 0.013*\"expect\" + 0.013*\"open\" + 0.011*\"centr\" + 0.009*\"fall\" + 0.008*\"about\" + 0.008*\"rat\" + 0.008*\"final\" + 0.008*\"cyclon\" \n",
      "Words: 9\n",
      "\n",
      "\n"
     ]
    }
   ],
   "source": [
    "'''\n",
    "For each topic, we will explore the words occuring in that topic and its relative weight\n",
    "'''\n",
    "for idx, topic in lda_model.print_topics(-1):\n",
    "    print(\"Topic: {} \\nWords: {}\".format(topic, idx ))\n",
    "    print(\"\\n\")"
   ]
  },
  {
   "cell_type": "markdown",
   "metadata": {},
   "source": [
    "### Classification of the topics ###\n",
    "\n",
    "Using the words in each topic and their corresponding weights, what categories were you able to infer?\n",
    "\n",
    "* 0: \n",
    "* 1: \n",
    "* 2: \n",
    "* 3: \n",
    "* 4: \n",
    "* 5: \n",
    "* 6: \n",
    "* 7:  \n",
    "* 8: \n",
    "* 9: "
   ]
  },
  {
   "cell_type": "markdown",
   "metadata": {},
   "source": [
    "## Step 4.2 Running LDA using TF-IDF ##"
   ]
  },
  {
   "cell_type": "code",
   "execution_count": 32,
   "metadata": {},
   "outputs": [],
   "source": [
    "'''\n",
    "Define lda model using corpus_tfidf, again using gensim.models.LdaMulticore()\n",
    "'''\n",
    "# TODO\n",
    "lda_model_tfidf = gensim.models.LdaMulticore(corpus_tfidf ,num_topics=10, id2word=dictionary, passes=4)"
   ]
  },
  {
   "cell_type": "code",
   "execution_count": 33,
   "metadata": {},
   "outputs": [
    {
     "name": "stdout",
     "output_type": "stream",
     "text": [
      "Topic: 0 Word: 0.008*\"liber\" + 0.007*\"whale\" + 0.006*\"scientist\" + 0.006*\"revamp\" + 0.006*\"black\" + 0.006*\"recycl\" + 0.006*\"rape\" + 0.005*\"afghan\" + 0.005*\"murray\" + 0.004*\"appoint\"\n",
      "\n",
      "\n",
      "Topic: 1 Word: 0.025*\"closer\" + 0.024*\"polic\" + 0.020*\"crash\" + 0.017*\"charg\" + 0.016*\"over\" + 0.014*\"after\" + 0.013*\"murder\" + 0.013*\"investig\" + 0.012*\"court\" + 0.011*\"miss\"\n",
      "\n",
      "\n",
      "Topic: 2 Word: 0.009*\"drink\" + 0.008*\"bird\" + 0.007*\"plead\" + 0.007*\"guilti\" + 0.007*\"grower\" + 0.007*\"drive\" + 0.006*\"over\" + 0.005*\"polic\" + 0.005*\"thousand\" + 0.005*\"young\"\n",
      "\n",
      "\n",
      "Topic: 3 Word: 0.010*\"world\" + 0.010*\"final\" + 0.008*\"open\" + 0.005*\"win\" + 0.005*\"iemma\" + 0.005*\"ash\" + 0.005*\"match\" + 0.005*\"live\" + 0.005*\"socceroo\" + 0.005*\"draw\"\n",
      "\n",
      "\n",
      "Topic: 4 Word: 0.007*\"tiger\" + 0.007*\"lead\" + 0.007*\"wind\" + 0.006*\"profit\" + 0.006*\"england\" + 0.006*\"market\" + 0.006*\"victori\" + 0.006*\"record\" + 0.005*\"takeov\" + 0.005*\"india\"\n",
      "\n",
      "\n",
      "Topic: 5 Word: 0.015*\"govt\" + 0.011*\"council\" + 0.011*\"plan\" + 0.010*\"fund\" + 0.009*\"urg\" + 0.008*\"health\" + 0.008*\"water\" + 0.007*\"group\" + 0.007*\"call\" + 0.006*\"over\"\n",
      "\n",
      "\n",
      "Topic: 6 Word: 0.019*\"kill\" + 0.012*\"iraq\" + 0.010*\"troop\" + 0.009*\"bomb\" + 0.009*\"timor\" + 0.008*\"firefight\" + 0.008*\"hick\" + 0.008*\"blaze\" + 0.007*\"east\" + 0.007*\"blast\"\n",
      "\n",
      "\n",
      "Topic: 7 Word: 0.008*\"burn\" + 0.008*\"celebr\" + 0.007*\"news\" + 0.006*\"hobart\" + 0.006*\"rescu\" + 0.006*\"boat\" + 0.006*\"stock\" + 0.005*\"snowi\" + 0.005*\"after\" + 0.005*\"fall\"\n",
      "\n",
      "\n",
      "Topic: 8 Word: 0.009*\"terror\" + 0.008*\"nuclear\" + 0.008*\"howard\" + 0.008*\"over\" + 0.007*\"labor\" + 0.007*\"iran\" + 0.006*\"water\" + 0.006*\"say\" + 0.006*\"govt\" + 0.006*\"restrict\"\n",
      "\n",
      "\n",
      "Topic: 9 Word: 0.011*\"rise\" + 0.010*\"coast\" + 0.008*\"price\" + 0.007*\"toll\" + 0.007*\"gold\" + 0.006*\"rate\" + 0.006*\"rat\" + 0.006*\"cyclon\" + 0.006*\"plan\" + 0.006*\"fire\"\n",
      "\n",
      "\n"
     ]
    }
   ],
   "source": [
    "'''\n",
    "For each topic, we will explore the words occuring in that topic and its relative weight\n",
    "'''\n",
    "for idx, topic in lda_model_tfidf.print_topics(-1):\n",
    "    print(\"Topic: {} Word: {}\".format(idx, topic))\n",
    "    print(\"\\n\")"
   ]
  },
  {
   "cell_type": "markdown",
   "metadata": {},
   "source": [
    "### Classification of the topics ###\n",
    "\n",
    "As we can see, when using tf-idf, heavier weights are given to words that are not as frequent which results in nouns being factored in. That makes it harder to figure out the categories as nouns can be hard to categorize. This goes to show that the models we apply depend on the type of corpus of text we are dealing with. \n",
    "\n",
    "Using the words in each topic and their corresponding weights, what categories could you find?\n",
    "\n",
    "* 0: \n",
    "* 1:  \n",
    "* 2: \n",
    "* 3: \n",
    "* 4:  \n",
    "* 5: \n",
    "* 6: \n",
    "* 7: \n",
    "* 8: \n",
    "* 9: "
   ]
  },
  {
   "cell_type": "markdown",
   "metadata": {},
   "source": [
    "## Step 5.1: Performance evaluation by classifying sample document using LDA Bag of Words model##\n",
    "\n",
    "We will check to see where our test document would be classified. "
   ]
  },
  {
   "cell_type": "code",
   "execution_count": 34,
   "metadata": {},
   "outputs": [
    {
     "data": {
      "text/plain": [
       "['rain', 'help', 'dampen', 'bushfir']"
      ]
     },
     "execution_count": 34,
     "metadata": {},
     "output_type": "execute_result"
    }
   ],
   "source": [
    "'''\n",
    "Text of sample document 4310\n",
    "'''\n",
    "processed_docs[4310]"
   ]
  },
  {
   "cell_type": "code",
   "execution_count": 36,
   "metadata": {},
   "outputs": [
    {
     "name": "stdout",
     "output_type": "stream",
     "text": [
      "[(0, 0.020000052), (1, 0.020006496), (2, 0.25136015), (3, 0.40264922), (4, 0.020000421), (5, 0.020000014), (6, 0.020000011), (7, 0.020000022), (8, 0.02000289), (9, 0.20598073)]\n",
      "sorted\n",
      "\n",
      "Score: 0.4028201997280121\t \n",
      "Topic: 0.027*\"call\" + 0.023*\"plan\" + 0.022*\"fund\" + 0.019*\"govt\" + 0.017*\"urg\" + 0.017*\"council\" + 0.015*\"more\" + 0.013*\"boost\" + 0.011*\"work\" + 0.011*\"group\"\n",
      "\n",
      "Score: 0.2513386309146881\t \n",
      "Topic: 0.056*\"over\" + 0.049*\"polic\" + 0.030*\"charg\" + 0.025*\"court\" + 0.023*\"face\" + 0.016*\"reject\" + 0.015*\"drug\" + 0.015*\"consid\" + 0.013*\"accus\" + 0.013*\"murder\"\n",
      "\n",
      "Score: 0.20583125948905945\t \n",
      "Topic: 0.018*\"support\" + 0.014*\"south\" + 0.013*\"expect\" + 0.013*\"open\" + 0.011*\"centr\" + 0.009*\"fall\" + 0.008*\"about\" + 0.008*\"rat\" + 0.008*\"final\" + 0.008*\"cyclon\"\n",
      "\n",
      "Score: 0.02000649832189083\t \n",
      "Topic: 0.054*\"after\" + 0.035*\"fire\" + 0.028*\"crash\" + 0.021*\"polic\" + 0.020*\"miss\" + 0.019*\"continu\" + 0.018*\"find\" + 0.014*\"search\" + 0.013*\"die\" + 0.012*\"hospit\"\n",
      "\n",
      "Score: 0.02000288851559162\t \n",
      "Topic: 0.041*\"water\" + 0.015*\"govt\" + 0.015*\"say\" + 0.014*\"deal\" + 0.012*\"law\" + 0.010*\"cost\" + 0.010*\"trade\" + 0.010*\"state\" + 0.010*\"keep\" + 0.009*\"liber\"\n",
      "\n",
      "Score: 0.02000042051076889\t \n",
      "Topic: 0.019*\"with\" + 0.019*\"power\" + 0.017*\"closer\" + 0.017*\"down\" + 0.014*\"victim\" + 0.012*\"play\" + 0.012*\"famili\" + 0.011*\"stand\" + 0.010*\"say\" + 0.010*\"time\"\n",
      "\n",
      "Score: 0.020000051707029343\t \n",
      "Topic: 0.017*\"lead\" + 0.015*\"australia\" + 0.015*\"elect\" + 0.014*\"test\" + 0.013*\"market\" + 0.012*\"world\" + 0.012*\"england\" + 0.011*\"aussi\" + 0.010*\"head\" + 0.010*\"take\"\n",
      "\n",
      "Score: 0.020000021904706955\t \n",
      "Topic: 0.036*\"kill\" + 0.021*\"iraq\" + 0.019*\"concern\" + 0.018*\"over\" + 0.014*\"green\" + 0.014*\"attack\" + 0.014*\"bomb\" + 0.013*\"protest\" + 0.013*\"push\" + 0.012*\"nuclear\"\n",
      "\n",
      "Score: 0.020000014454126358\t \n",
      "Topic: 0.019*\"record\" + 0.019*\"defend\" + 0.016*\"break\" + 0.015*\"govt\" + 0.013*\"sydney\" + 0.012*\"announc\" + 0.012*\"question\" + 0.011*\"secur\" + 0.010*\"plan\" + 0.009*\"criticis\"\n",
      "\n",
      "Score: 0.02000001072883606\t \n",
      "Topic: 0.030*\"death\" + 0.022*\"health\" + 0.020*\"servic\" + 0.018*\"rise\" + 0.016*\"price\" + 0.013*\"over\" + 0.011*\"sale\" + 0.010*\"inquiri\" + 0.010*\"guilti\" + 0.009*\"report\"\n"
     ]
    }
   ],
   "source": [
    "'''\n",
    "Check which topic our test document belongs to using the LDA Bag of Words model.\n",
    "'''\n",
    "document_num = 4310\n",
    "# Our test document is document number 4310\n",
    "\n",
    "# TODO\n",
    "# Our test document is document number 4310\n",
    "\n",
    "print(lda_model[bow_corpus[document_num]])\n",
    "print(\"sorted\")\n",
    "\n",
    "\n",
    "for index, score in sorted(lda_model[bow_corpus[document_num]], key=lambda tup: -1*tup[1]):\n",
    "    print(\"\\nScore: {}\\t \\nTopic: {}\".format(score, lda_model.print_topic(index, 10)))"
   ]
  },
  {
   "cell_type": "markdown",
   "metadata": {},
   "source": [
    "### It has the highest probability (`x`) to be  part of the topic that we assigned as X, which is the accurate classification. ###"
   ]
  },
  {
   "cell_type": "markdown",
   "metadata": {},
   "source": [
    "## Step 5.2: Performance evaluation by classifying sample document using LDA TF-IDF model##"
   ]
  },
  {
   "cell_type": "code",
   "execution_count": 35,
   "metadata": {},
   "outputs": [
    {
     "name": "stdout",
     "output_type": "stream",
     "text": [
      "\n",
      "Score: 0.8199765086174011\t \n",
      "Topic: 0.011*\"rise\" + 0.010*\"coast\" + 0.008*\"price\" + 0.007*\"toll\" + 0.007*\"gold\" + 0.006*\"rate\" + 0.006*\"rat\" + 0.006*\"cyclon\" + 0.006*\"plan\" + 0.006*\"fire\"\n",
      "\n",
      "Score: 0.02000495418906212\t \n",
      "Topic: 0.007*\"tiger\" + 0.007*\"lead\" + 0.007*\"wind\" + 0.006*\"profit\" + 0.006*\"england\" + 0.006*\"market\" + 0.006*\"victori\" + 0.006*\"record\" + 0.005*\"takeov\" + 0.005*\"india\"\n",
      "\n",
      "Score: 0.02000459097325802\t \n",
      "Topic: 0.019*\"kill\" + 0.012*\"iraq\" + 0.010*\"troop\" + 0.009*\"bomb\" + 0.009*\"timor\" + 0.008*\"firefight\" + 0.008*\"hick\" + 0.008*\"blaze\" + 0.007*\"east\" + 0.007*\"blast\"\n",
      "\n",
      "Score: 0.020003054291009903\t \n",
      "Topic: 0.015*\"govt\" + 0.011*\"council\" + 0.011*\"plan\" + 0.010*\"fund\" + 0.009*\"urg\" + 0.008*\"health\" + 0.008*\"water\" + 0.007*\"group\" + 0.007*\"call\" + 0.006*\"over\"\n",
      "\n",
      "Score: 0.020002618432044983\t \n",
      "Topic: 0.008*\"burn\" + 0.008*\"celebr\" + 0.007*\"news\" + 0.006*\"hobart\" + 0.006*\"rescu\" + 0.006*\"boat\" + 0.006*\"stock\" + 0.005*\"snowi\" + 0.005*\"after\" + 0.005*\"fall\"\n",
      "\n",
      "Score: 0.020002596080303192\t \n",
      "Topic: 0.025*\"closer\" + 0.024*\"polic\" + 0.020*\"crash\" + 0.017*\"charg\" + 0.016*\"over\" + 0.014*\"after\" + 0.013*\"murder\" + 0.013*\"investig\" + 0.012*\"court\" + 0.011*\"miss\"\n",
      "\n",
      "Score: 0.020002072677016258\t \n",
      "Topic: 0.009*\"drink\" + 0.008*\"bird\" + 0.007*\"plead\" + 0.007*\"guilti\" + 0.007*\"grower\" + 0.007*\"drive\" + 0.006*\"over\" + 0.005*\"polic\" + 0.005*\"thousand\" + 0.005*\"young\"\n",
      "\n",
      "Score: 0.020001666620373726\t \n",
      "Topic: 0.009*\"terror\" + 0.008*\"nuclear\" + 0.008*\"howard\" + 0.008*\"over\" + 0.007*\"labor\" + 0.007*\"iran\" + 0.006*\"water\" + 0.006*\"say\" + 0.006*\"govt\" + 0.006*\"restrict\"\n",
      "\n",
      "Score: 0.020001549273729324\t \n",
      "Topic: 0.008*\"liber\" + 0.007*\"whale\" + 0.006*\"scientist\" + 0.006*\"revamp\" + 0.006*\"black\" + 0.006*\"recycl\" + 0.006*\"rape\" + 0.005*\"afghan\" + 0.005*\"murray\" + 0.004*\"appoint\"\n",
      "\n",
      "Score: 0.020000411197543144\t \n",
      "Topic: 0.010*\"world\" + 0.010*\"final\" + 0.008*\"open\" + 0.005*\"win\" + 0.005*\"iemma\" + 0.005*\"ash\" + 0.005*\"match\" + 0.005*\"live\" + 0.005*\"socceroo\" + 0.005*\"draw\"\n"
     ]
    }
   ],
   "source": [
    "'''\n",
    "Check which topic our test document belongs to using the LDA TF-IDF model.\n",
    "'''\n",
    "# Our test document is document number 4310\n",
    "for index, score in sorted(lda_model_tfidf[bow_corpus[document_num]], key=lambda tup: -1*tup[1]):\n",
    "    print(\"\\nScore: {}\\t \\nTopic: {}\".format(score, lda_model_tfidf.print_topic(index, 10)))"
   ]
  },
  {
   "cell_type": "markdown",
   "metadata": {},
   "source": [
    "### It has the highest probability (`x%`) to be  part of the topic that we assigned as X. ###"
   ]
  },
  {
   "cell_type": "markdown",
   "metadata": {},
   "source": [
    "## Step 6: Testing model on unseen document ##"
   ]
  },
  {
   "cell_type": "code",
   "execution_count": 37,
   "metadata": {},
   "outputs": [
    {
     "name": "stdout",
     "output_type": "stream",
     "text": [
      "Score: 0.44664448499679565\t Topic: 0.019*\"record\" + 0.019*\"defend\" + 0.016*\"break\" + 0.015*\"govt\" + 0.013*\"sydney\"\n",
      "Score: 0.3933541476726532\t Topic: 0.018*\"support\" + 0.014*\"south\" + 0.013*\"expect\" + 0.013*\"open\" + 0.011*\"centr\"\n",
      "Score: 0.02000097557902336\t Topic: 0.054*\"after\" + 0.035*\"fire\" + 0.028*\"crash\" + 0.021*\"polic\" + 0.020*\"miss\"\n",
      "Score: 0.020000342279672623\t Topic: 0.030*\"death\" + 0.022*\"health\" + 0.020*\"servic\" + 0.018*\"rise\" + 0.016*\"price\"\n",
      "Score: 0.02000001072883606\t Topic: 0.056*\"over\" + 0.049*\"polic\" + 0.030*\"charg\" + 0.025*\"court\" + 0.023*\"face\"\n",
      "Score: 0.020000005140900612\t Topic: 0.017*\"lead\" + 0.015*\"australia\" + 0.015*\"elect\" + 0.014*\"test\" + 0.013*\"market\"\n",
      "Score: 0.019999999552965164\t Topic: 0.027*\"call\" + 0.023*\"plan\" + 0.022*\"fund\" + 0.019*\"govt\" + 0.017*\"urg\"\n",
      "Score: 0.019999999552965164\t Topic: 0.019*\"with\" + 0.019*\"power\" + 0.017*\"closer\" + 0.017*\"down\" + 0.014*\"victim\"\n",
      "Score: 0.019999999552965164\t Topic: 0.036*\"kill\" + 0.021*\"iraq\" + 0.019*\"concern\" + 0.018*\"over\" + 0.014*\"green\"\n",
      "Score: 0.019999999552965164\t Topic: 0.041*\"water\" + 0.015*\"govt\" + 0.015*\"say\" + 0.014*\"deal\" + 0.012*\"law\"\n"
     ]
    }
   ],
   "source": [
    "unseen_document = \"My favorite sports activities are running and swimming.\"\n",
    "\n",
    "# Data preprocessing step for the unseen document\n",
    "bow_vector = dictionary.doc2bow(preprocess(unseen_document))\n",
    "\n",
    "for index, score in sorted(lda_model[bow_vector], key=lambda tup: -1*tup[1]):\n",
    "    print(\"Score: {}\\t Topic: {}\".format(score, lda_model.print_topic(index, 5)))"
   ]
  },
  {
   "cell_type": "markdown",
   "metadata": {},
   "source": [
    "The model correctly classifies the unseen document with 'x'% probability to the X category."
   ]
  },
  {
   "cell_type": "code",
   "execution_count": 50,
   "metadata": {},
   "outputs": [],
   "source": []
  },
  {
   "cell_type": "code",
   "execution_count": 44,
   "metadata": {},
   "outputs": [],
   "source": [
    "pyLDAvis.enable_notebook()"
   ]
  },
  {
   "cell_type": "code",
   "execution_count": 52,
   "metadata": {},
   "outputs": [
    {
     "name": "stderr",
     "output_type": "stream",
     "text": [
      "/anaconda3/lib/python3.6/site-packages/pyLDAvis/_prepare.py:257: FutureWarning: Sorting because non-concatenation axis is not aligned. A future version\n",
      "of pandas will change to not sort by default.\n",
      "\n",
      "To accept the future behavior, pass 'sort=True'.\n",
      "\n",
      "To retain the current behavior and silence the warning, pass sort=False\n",
      "\n",
      "  return pd.concat([default_term_info] + list(topic_dfs))\n"
     ]
    },
    {
     "data": {
      "text/html": [
       "\n",
       "<link rel=\"stylesheet\" type=\"text/css\" href=\"https://cdn.rawgit.com/bmabey/pyLDAvis/files/ldavis.v1.0.0.css\">\n",
       "\n",
       "\n",
       "<div id=\"ldavis_el8008149193552167153298133\"></div>\n",
       "<script type=\"text/javascript\">\n",
       "\n",
       "var ldavis_el8008149193552167153298133_data = {\"mdsDat\": {\"x\": [0.00701631823097848, 0.2317446794192927, -0.23766679801127663, 0.1752892090554989, 0.0896547079032401, 0.1714850186284266, -0.045806787376986215, -0.16078572003743768, -0.14762589423686284, -0.08330473357487356], \"y\": [-0.24044050613333573, 0.12474155418645243, 0.20941612683732352, 0.10556326802449392, 0.08116168506755944, -0.06454542581740616, -0.17784232771430108, 0.10371025160182733, -0.07084912490305365, -0.07091550114956051], \"topics\": [1, 2, 3, 4, 5, 6, 7, 8, 9, 10], \"cluster\": [1, 1, 1, 1, 1, 1, 1, 1, 1, 1], \"Freq\": [13.604118347167969, 11.372260093688965, 10.227890968322754, 10.203588485717773, 10.08137035369873, 9.44112777709961, 9.223074913024902, 8.888565063476562, 8.772302627563477, 8.18569278717041]}, \"tinfo\": {\"Category\": [\"Default\", \"Default\", \"Default\", \"Default\", \"Default\", \"Default\", \"Default\", \"Default\", \"Default\", \"Default\", \"Default\", \"Default\", \"Default\", \"Default\", \"Default\", \"Default\", \"Default\", \"Default\", \"Default\", \"Default\", \"Default\", \"Default\", \"Default\", \"Default\", \"Default\", \"Default\", \"Default\", \"Default\", \"Default\", \"Default\", \"Topic1\", \"Topic1\", \"Topic1\", \"Topic1\", \"Topic1\", \"Topic1\", \"Topic1\", \"Topic1\", \"Topic1\", \"Topic1\", \"Topic1\", \"Topic1\", \"Topic1\", \"Topic1\", \"Topic1\", \"Topic1\", \"Topic1\", \"Topic1\", \"Topic1\", \"Topic1\", \"Topic1\", \"Topic1\", \"Topic1\", \"Topic1\", \"Topic1\", \"Topic1\", \"Topic1\", \"Topic1\", \"Topic1\", \"Topic1\", \"Topic1\", \"Topic1\", \"Topic1\", \"Topic1\", \"Topic1\", \"Topic1\", \"Topic1\", \"Topic1\", \"Topic1\", \"Topic1\", \"Topic1\", \"Topic1\", \"Topic1\", \"Topic1\", \"Topic1\", \"Topic1\", \"Topic1\", \"Topic1\", \"Topic1\", \"Topic1\", \"Topic1\", \"Topic1\", \"Topic1\", \"Topic1\", \"Topic1\", \"Topic1\", \"Topic1\", \"Topic1\", \"Topic1\", \"Topic1\", \"Topic1\", \"Topic1\", \"Topic1\", \"Topic1\", \"Topic1\", \"Topic1\", \"Topic1\", \"Topic1\", \"Topic1\", \"Topic1\", \"Topic1\", \"Topic1\", \"Topic1\", \"Topic1\", \"Topic2\", \"Topic2\", \"Topic2\", \"Topic2\", \"Topic2\", \"Topic2\", \"Topic2\", \"Topic2\", \"Topic2\", \"Topic2\", \"Topic2\", \"Topic2\", \"Topic2\", \"Topic2\", \"Topic2\", \"Topic2\", \"Topic2\", \"Topic2\", \"Topic2\", \"Topic2\", \"Topic2\", \"Topic2\", \"Topic2\", \"Topic2\", \"Topic2\", \"Topic2\", \"Topic2\", \"Topic2\", \"Topic2\", \"Topic2\", \"Topic2\", \"Topic2\", \"Topic2\", \"Topic2\", \"Topic2\", \"Topic2\", \"Topic2\", \"Topic2\", \"Topic2\", \"Topic2\", \"Topic2\", \"Topic2\", \"Topic2\", \"Topic2\", \"Topic2\", \"Topic2\", \"Topic2\", \"Topic2\", \"Topic2\", \"Topic2\", \"Topic2\", \"Topic2\", \"Topic2\", \"Topic2\", \"Topic2\", \"Topic2\", \"Topic2\", \"Topic2\", \"Topic2\", \"Topic2\", \"Topic2\", \"Topic2\", \"Topic2\", \"Topic3\", \"Topic3\", \"Topic3\", \"Topic3\", \"Topic3\", \"Topic3\", \"Topic3\", \"Topic3\", \"Topic3\", \"Topic3\", \"Topic3\", \"Topic3\", \"Topic3\", \"Topic3\", \"Topic3\", \"Topic3\", \"Topic3\", \"Topic3\", \"Topic3\", \"Topic3\", \"Topic3\", \"Topic3\", \"Topic3\", \"Topic3\", \"Topic3\", \"Topic3\", \"Topic3\", \"Topic3\", \"Topic3\", \"Topic3\", \"Topic3\", \"Topic3\", \"Topic3\", \"Topic3\", \"Topic3\", \"Topic3\", \"Topic3\", \"Topic3\", \"Topic3\", \"Topic3\", \"Topic3\", \"Topic3\", \"Topic3\", \"Topic3\", \"Topic3\", \"Topic3\", \"Topic3\", \"Topic3\", \"Topic3\", \"Topic3\", \"Topic3\", \"Topic3\", \"Topic3\", \"Topic3\", \"Topic3\", \"Topic3\", \"Topic3\", \"Topic3\", \"Topic3\", \"Topic3\", \"Topic3\", \"Topic3\", \"Topic3\", \"Topic3\", \"Topic3\", \"Topic3\", \"Topic3\", \"Topic3\", \"Topic3\", \"Topic3\", \"Topic3\", \"Topic3\", \"Topic4\", \"Topic4\", \"Topic4\", \"Topic4\", \"Topic4\", \"Topic4\", \"Topic4\", \"Topic4\", \"Topic4\", \"Topic4\", \"Topic4\", \"Topic4\", \"Topic4\", \"Topic4\", \"Topic4\", \"Topic4\", \"Topic4\", \"Topic4\", \"Topic4\", \"Topic4\", \"Topic4\", \"Topic4\", \"Topic4\", \"Topic4\", \"Topic4\", \"Topic4\", \"Topic4\", \"Topic4\", \"Topic4\", \"Topic4\", \"Topic4\", \"Topic4\", \"Topic4\", \"Topic4\", \"Topic4\", \"Topic4\", \"Topic4\", \"Topic4\", \"Topic4\", \"Topic4\", \"Topic4\", \"Topic4\", \"Topic4\", \"Topic4\", \"Topic4\", \"Topic4\", \"Topic4\", \"Topic4\", \"Topic4\", \"Topic4\", \"Topic4\", \"Topic4\", \"Topic4\", \"Topic4\", \"Topic4\", \"Topic4\", \"Topic4\", \"Topic4\", \"Topic4\", \"Topic4\", \"Topic4\", \"Topic4\", \"Topic5\", \"Topic5\", \"Topic5\", \"Topic5\", \"Topic5\", \"Topic5\", \"Topic5\", \"Topic5\", \"Topic5\", \"Topic5\", \"Topic5\", \"Topic5\", \"Topic5\", \"Topic5\", \"Topic5\", \"Topic5\", \"Topic5\", \"Topic5\", \"Topic5\", \"Topic5\", \"Topic5\", \"Topic5\", \"Topic5\", \"Topic5\", \"Topic5\", \"Topic5\", \"Topic5\", \"Topic5\", \"Topic5\", \"Topic5\", \"Topic5\", \"Topic5\", \"Topic5\", \"Topic5\", \"Topic5\", \"Topic5\", \"Topic5\", \"Topic5\", \"Topic5\", \"Topic5\", \"Topic5\", \"Topic5\", \"Topic5\", \"Topic5\", \"Topic5\", \"Topic5\", \"Topic5\", \"Topic5\", \"Topic5\", \"Topic5\", \"Topic5\", \"Topic5\", \"Topic5\", \"Topic5\", \"Topic5\", \"Topic5\", \"Topic5\", \"Topic5\", \"Topic5\", \"Topic5\", \"Topic5\", \"Topic5\", \"Topic5\", \"Topic5\", \"Topic6\", \"Topic6\", \"Topic6\", \"Topic6\", \"Topic6\", \"Topic6\", \"Topic6\", \"Topic6\", \"Topic6\", \"Topic6\", \"Topic6\", \"Topic6\", \"Topic6\", \"Topic6\", \"Topic6\", \"Topic6\", \"Topic6\", \"Topic6\", \"Topic6\", \"Topic6\", \"Topic6\", \"Topic6\", \"Topic6\", \"Topic6\", \"Topic6\", \"Topic6\", \"Topic6\", \"Topic6\", \"Topic6\", \"Topic6\", \"Topic6\", \"Topic6\", \"Topic6\", \"Topic6\", \"Topic6\", \"Topic6\", \"Topic6\", \"Topic6\", \"Topic6\", \"Topic6\", \"Topic6\", \"Topic6\", \"Topic6\", \"Topic6\", \"Topic6\", \"Topic6\", \"Topic6\", \"Topic6\", \"Topic6\", \"Topic6\", \"Topic6\", \"Topic6\", \"Topic6\", \"Topic6\", \"Topic6\", \"Topic6\", \"Topic6\", \"Topic6\", \"Topic6\", \"Topic6\", \"Topic6\", \"Topic6\", \"Topic6\", \"Topic6\", \"Topic6\", \"Topic6\", \"Topic7\", \"Topic7\", \"Topic7\", \"Topic7\", \"Topic7\", \"Topic7\", \"Topic7\", \"Topic7\", \"Topic7\", \"Topic7\", \"Topic7\", \"Topic7\", \"Topic7\", \"Topic7\", \"Topic7\", \"Topic7\", \"Topic7\", \"Topic7\", \"Topic7\", \"Topic7\", \"Topic7\", \"Topic7\", \"Topic7\", \"Topic7\", \"Topic7\", \"Topic7\", \"Topic7\", \"Topic7\", \"Topic7\", \"Topic7\", \"Topic7\", \"Topic7\", \"Topic7\", \"Topic7\", \"Topic7\", \"Topic7\", \"Topic7\", \"Topic7\", \"Topic7\", \"Topic7\", \"Topic7\", \"Topic7\", \"Topic7\", \"Topic7\", \"Topic7\", \"Topic7\", \"Topic7\", \"Topic7\", \"Topic7\", \"Topic7\", \"Topic7\", \"Topic7\", \"Topic7\", \"Topic7\", \"Topic7\", \"Topic7\", \"Topic7\", \"Topic7\", \"Topic7\", \"Topic7\", \"Topic7\", \"Topic7\", \"Topic7\", \"Topic8\", \"Topic8\", \"Topic8\", \"Topic8\", \"Topic8\", \"Topic8\", \"Topic8\", \"Topic8\", \"Topic8\", \"Topic8\", \"Topic8\", \"Topic8\", \"Topic8\", \"Topic8\", \"Topic8\", \"Topic8\", \"Topic8\", \"Topic8\", \"Topic8\", \"Topic8\", \"Topic8\", \"Topic8\", \"Topic8\", \"Topic8\", \"Topic8\", \"Topic8\", \"Topic8\", \"Topic8\", \"Topic8\", \"Topic8\", \"Topic8\", \"Topic8\", \"Topic8\", \"Topic8\", \"Topic8\", \"Topic8\", \"Topic8\", \"Topic8\", \"Topic8\", \"Topic8\", \"Topic8\", \"Topic8\", \"Topic8\", \"Topic8\", \"Topic8\", \"Topic8\", \"Topic8\", \"Topic8\", \"Topic8\", \"Topic8\", \"Topic8\", \"Topic8\", \"Topic8\", \"Topic8\", \"Topic8\", \"Topic8\", \"Topic8\", \"Topic8\", \"Topic8\", \"Topic8\", \"Topic8\", \"Topic8\", \"Topic8\", \"Topic8\", \"Topic9\", \"Topic9\", \"Topic9\", \"Topic9\", \"Topic9\", \"Topic9\", \"Topic9\", \"Topic9\", \"Topic9\", \"Topic9\", \"Topic9\", \"Topic9\", \"Topic9\", \"Topic9\", \"Topic9\", \"Topic9\", \"Topic9\", \"Topic9\", \"Topic9\", \"Topic9\", \"Topic9\", \"Topic9\", \"Topic9\", \"Topic9\", \"Topic9\", \"Topic9\", \"Topic9\", \"Topic9\", \"Topic9\", \"Topic9\", \"Topic9\", \"Topic9\", \"Topic9\", \"Topic9\", \"Topic9\", \"Topic9\", \"Topic9\", \"Topic9\", \"Topic9\", \"Topic9\", \"Topic9\", \"Topic9\", \"Topic9\", \"Topic9\", \"Topic9\", \"Topic9\", \"Topic9\", \"Topic9\", \"Topic9\", \"Topic9\", \"Topic9\", \"Topic9\", \"Topic9\", \"Topic9\", \"Topic9\", \"Topic9\", \"Topic9\", \"Topic9\", \"Topic9\", \"Topic9\", \"Topic9\", \"Topic9\", \"Topic9\", \"Topic10\", \"Topic10\", \"Topic10\", \"Topic10\", \"Topic10\", \"Topic10\", \"Topic10\", \"Topic10\", \"Topic10\", \"Topic10\", \"Topic10\", \"Topic10\", \"Topic10\", \"Topic10\", \"Topic10\", \"Topic10\", \"Topic10\", \"Topic10\", \"Topic10\", \"Topic10\", \"Topic10\", \"Topic10\", \"Topic10\", \"Topic10\", \"Topic10\", \"Topic10\", \"Topic10\", \"Topic10\", \"Topic10\", \"Topic10\", \"Topic10\", \"Topic10\", \"Topic10\", \"Topic10\", \"Topic10\", \"Topic10\", \"Topic10\", \"Topic10\", \"Topic10\", \"Topic10\", \"Topic10\", \"Topic10\", \"Topic10\", \"Topic10\", \"Topic10\", \"Topic10\", \"Topic10\", \"Topic10\", \"Topic10\", \"Topic10\", \"Topic10\", \"Topic10\", \"Topic10\", \"Topic10\", \"Topic10\", \"Topic10\", \"Topic10\"], \"Freq\": [7828.0, 11338.0, 14957.0, 6067.0, 5100.0, 5125.0, 4830.0, 5335.0, 3921.0, 3953.0, 4236.0, 4312.0, 4108.0, 2964.0, 2890.0, 2636.0, 2673.0, 3550.0, 2898.0, 2495.0, 2203.0, 2407.0, 2447.0, 2690.0, 2181.0, 2256.0, 2282.0, 2596.0, 2338.0, 3930.0, 683.952880859375, 572.1988525390625, 560.74365234375, 802.0938720703125, 593.073486328125, 464.6390075683594, 440.2051086425781, 314.87030029296875, 434.1373291015625, 326.00518798828125, 289.8199462890625, 912.1502685546875, 287.4560546875, 255.4874267578125, 337.7017517089844, 684.4049072265625, 216.19393920898438, 216.14590454101562, 267.1654357910156, 205.67478942871094, 222.7045135498047, 436.17864990234375, 302.2626037597656, 292.03778076171875, 927.447509765625, 181.24330139160156, 288.1585693359375, 172.95016479492188, 991.4890747070312, 221.5998077392578, 1765.6263427734375, 4208.21142578125, 736.6910400390625, 1227.240966796875, 470.5089111328125, 292.22021484375, 291.4420166015625, 5148.994140625, 2163.05859375, 1080.7255859375, 887.3944702148438, 425.229248046875, 738.405517578125, 515.087646484375, 338.3831481933594, 1478.780029296875, 383.22479248046875, 573.3729858398438, 2536.087646484375, 2066.035400390625, 903.2135620117188, 1808.2142333984375, 1677.9090576171875, 1292.3291015625, 1236.6356201171875, 943.3703002929688, 1092.8968505859375, 1259.4537353515625, 2785.96533203125, 4474.607421875, 2107.44287109375, 3279.3466796875, 1962.8302001953125, 3176.97509765625, 1051.121337890625, 1348.2265625, 3598.066162109375, 1188.1612548828125, 1023.405517578125, 1500.2559814453125, 1565.6302490234375, 1183.7550048828125, 1264.8876953125, 1028.2559814453125, 2445.219970703125, 761.3179321289062, 1928.0714111328125, 507.9195251464844, 503.8984375, 1163.2427978515625, 1399.8194580078125, 522.3053588867188, 756.052001953125, 684.696533203125, 432.6435852050781, 277.56976318359375, 4814.08203125, 299.9981384277344, 260.2999572753906, 271.8798522949219, 285.3633117675781, 375.0614013671875, 245.17666625976562, 755.1295166015625, 248.18292236328125, 264.1565246582031, 225.0304718017578, 272.7916259765625, 213.70907592773438, 247.6525115966797, 195.70957946777344, 311.1830749511719, 214.52151489257812, 196.95687866210938, 2325.084228515625, 914.1893310546875, 1258.002197265625, 543.5408325195312, 511.37603759765625, 485.95068359375, 2518.260986328125, 4050.87060546875, 373.2737121582031, 1276.449951171875, 3735.68212890625, 1502.7738037109375, 1023.4848022460938, 374.59307861328125, 1317.17041015625, 2124.854248046875, 698.9368896484375, 2133.42919921875, 7880.775390625, 899.7041625976562, 8863.6826171875, 1089.285400390625, 1322.5643310546875, 1045.9217529296875, 1699.0538330078125, 2011.0576171875, 1037.4251708984375, 1005.021240234375, 1980.4444580078125, 1443.5595703125, 1049.0894775390625, 1523.620361328125, 1188.662353515625, 887.4130249023438, 869.4074096679688, 461.1321105957031, 559.9474487304688, 467.2901916503906, 471.1670837402344, 498.63177490234375, 262.763671875, 244.14938354492188, 244.07730102539062, 235.26011657714844, 382.8351745605469, 441.0254821777344, 311.4978332519531, 276.88494873046875, 223.2450408935547, 258.711181640625, 222.09210205078125, 225.91156005859375, 232.07095336914062, 439.6546630859375, 509.7026672363281, 1713.7830810546875, 184.09840393066406, 179.5155487060547, 191.3907470703125, 201.86679077148438, 192.3013153076172, 204.01373291015625, 171.34060668945312, 2476.06494140625, 1557.49658203125, 872.9965209960938, 796.53564453125, 600.9546508789062, 345.902587890625, 485.9375, 481.9972229003906, 504.7364196777344, 375.21630859375, 284.0790710449219, 1797.405517578125, 607.7850341796875, 264.4776306152344, 708.13916015625, 1122.2039794921875, 389.67919921875, 1430.5093994140625, 2111.486328125, 636.2664794921875, 1064.513671875, 2121.896728515625, 674.7341918945312, 1740.990234375, 1983.3409423828125, 662.1557006835938, 1175.4932861328125, 805.2146606445312, 791.6862182617188, 830.7598266601562, 997.58447265625, 782.1004638671875, 885.3403930664062, 684.4215087890625, 1398.555908203125, 1053.055908203125, 719.2547607421875, 1003.6741943359375, 1057.5863037109375, 826.9382934570312, 718.4439697265625, 711.3573608398438, 1948.7818603515625, 3948.0869140625, 925.2999877929688, 513.2719116210938, 652.0457153320312, 477.310302734375, 1070.6871337890625, 382.9034729003906, 1151.390625, 646.4447631835938, 2882.15283203125, 295.6233215332031, 360.3399658203125, 286.3555908203125, 260.2342224121094, 414.5528869628906, 321.9385986328125, 265.82891845703125, 246.6368408203125, 273.2549133300781, 234.13595581054688, 402.1707458496094, 236.61695861816406, 204.72714233398438, 207.37205505371094, 459.35247802734375, 192.90835571289062, 1917.3194580078125, 189.7665252685547, 377.0465087890625, 7789.22119140625, 5069.49365234375, 1121.5025634765625, 1619.8802490234375, 785.62060546875, 422.79266357421875, 367.33941650390625, 373.6026611328125, 2716.449462890625, 1267.3299560546875, 1049.22119140625, 432.77239990234375, 781.3546752929688, 576.2792358398438, 2515.205078125, 434.8260803222656, 1543.4859619140625, 917.5302124023438, 1717.3446044921875, 702.2369995117188, 1592.3275146484375, 595.528564453125, 1108.6600341796875, 2992.79931640625, 735.5596313476562, 1119.1719970703125, 1243.4464111328125, 949.446533203125, 993.0377197265625, 807.8795166015625, 862.8632202148438, 739.1304321289062, 1964.7020263671875, 986.36572265625, 636.7560424804688, 574.0333251953125, 816.8773193359375, 479.4491882324219, 525.6199951171875, 2668.645263671875, 763.7591552734375, 478.397705078125, 435.7074279785156, 410.40826416015625, 489.32550048828125, 375.4468688964844, 383.7678527832031, 469.54034423828125, 332.2837829589844, 295.1767272949219, 289.8296813964844, 290.2568054199219, 307.7255859375, 308.17156982421875, 387.7427978515625, 314.0133972167969, 367.6341247558594, 237.50062561035156, 237.36354064941406, 242.11935424804688, 265.80853271484375, 482.5858459472656, 5028.31640625, 1027.6292724609375, 1258.5302734375, 1004.9326782226562, 1185.9847412109375, 903.0567626953125, 1029.083251953125, 1704.5386962890625, 589.8035888671875, 605.7977294921875, 945.9784545898438, 835.9680786132812, 587.4176635742188, 1157.134033203125, 527.0895385742188, 2016.535400390625, 690.5856323242188, 1907.4520263671875, 509.8697814941406, 3001.433349609375, 1469.244873046875, 1132.5584716796875, 677.6710815429688, 1846.714111328125, 1984.302734375, 1196.02099609375, 1114.423095703125, 2604.229248046875, 805.3351440429688, 843.8179931640625, 750.8306274414062, 1083.2774658203125, 853.2181396484375, 799.8090209960938, 1475.888427734375, 1269.689697265625, 3914.8310546875, 647.217529296875, 519.7417602539062, 443.3152770996094, 1100.6297607421875, 361.0689697265625, 837.5931396484375, 525.258544921875, 338.6251525878906, 2628.64453125, 324.93359375, 294.2951965332031, 1022.477783203125, 282.19677734375, 287.39141845703125, 348.2247314453125, 250.96212768554688, 252.591064453125, 764.2769775390625, 338.4493713378906, 207.498046875, 198.71725463867188, 211.99449157714844, 184.71803283691406, 182.4412384033203, 175.543212890625, 323.92706298828125, 222.6576690673828, 1137.375244140625, 2918.046142578125, 708.8978881835938, 462.39422607421875, 313.110107421875, 277.40765380859375, 275.1918029785156, 1051.3062744140625, 918.5924072265625, 319.9355163574219, 2055.22314453125, 1051.760986328125, 731.9390869140625, 585.12353515625, 858.0978393554688, 2354.253173828125, 997.6897583007812, 673.011962890625, 820.6029663085938, 627.4668579101562, 583.6757202148438, 1278.09521484375, 561.3693237304688, 630.5746459960938, 748.1829223632812, 771.4996337890625, 732.6088256835938, 1257.2060546875, 1053.456787109375, 1778.7784423828125, 876.621826171875, 785.1321411132812, 971.2109375, 920.4436645507812, 807.609130859375, 760.6516723632812, 695.4329833984375, 758.060546875, 490.856689453125, 615.0615234375, 1149.1953125, 427.0877380371094, 1837.175537109375, 805.1614990234375, 1273.8870849609375, 382.708984375, 821.1648559570312, 432.3642883300781, 280.3389587402344, 721.5965576171875, 251.48606872558594, 283.20318603515625, 266.3316650390625, 470.51678466796875, 270.1308898925781, 400.1610412597656, 326.5269470214844, 201.9427490234375, 195.31524658203125, 197.80613708496094, 272.2054748535156, 281.97198486328125, 185.4545440673828, 187.13795471191406, 180.77732849121094, 180.6192169189453, 1299.988037109375, 1568.634521484375, 1262.5013427734375, 1009.5189208984375, 518.6934814453125, 415.0606994628906, 344.1355285644531, 1056.8743896484375, 393.485595703125, 357.47607421875, 337.43212890625, 426.96759033203125, 357.0281066894531, 774.9562377929688, 708.2124633789062, 5330.60009765625, 1232.3955078125, 465.20819091796875, 534.8116455078125, 857.4845581054688, 892.5968017578125, 699.1626586914062, 640.9417114257812, 736.7658081054688, 987.0046997070312, 856.2865600585938, 1908.3592529296875, 1034.4100341796875, 1950.12646484375, 780.8966674804688, 956.8558349609375, 929.63427734375, 728.1571044921875, 2180.2578125, 1054.5980224609375, 1425.466796875, 1532.3936767578125, 544.4880981445312, 588.8657836914062, 595.0875244140625, 451.8475036621094, 744.7974243164062, 368.52874755859375, 390.7539367675781, 1090.128173828125, 1729.9307861328125, 326.27996826171875, 344.7153625488281, 554.9968872070312, 477.0547790527344, 387.171142578125, 275.16510009765625, 247.8098602294922, 277.1090393066406, 285.0599670410156, 365.7648010253906, 246.22035217285156, 313.63671875, 213.84193420410156, 346.6304931640625, 203.4129638671875, 211.44247436523438, 254.56468200683594, 861.6705322265625, 481.2185974121094, 464.4610900878906, 423.2059326171875, 940.96044921875, 770.4461669921875, 2335.8779296875, 990.114501953125, 353.58587646484375, 821.3499755859375, 538.4738159179688, 1538.406982421875, 488.3475036621094, 394.90594482421875, 446.51202392578125, 400.25494384765625, 1158.6512451171875, 517.5123291015625, 2064.370849609375, 1205.55224609375, 778.3220825195312, 1008.921875, 2405.14501953125, 709.6043701171875, 1030.7041015625, 827.5134887695312, 563.3094482421875, 1307.5478515625, 730.55859375, 941.6512451171875, 695.6372680664062, 661.902587890625, 635.7449951171875, 606.3970947265625, 954.783935546875, 719.940185546875, 589.4014892578125, 476.22467041015625, 475.42364501953125, 522.0213623046875, 396.1788330078125, 441.4238586425781, 489.6214904785156, 518.2520751953125, 373.5666198730469, 369.61474609375, 359.1944885253906, 361.1877746582031, 336.1571350097656, 365.43017578125, 323.49334716796875, 724.0593872070312, 490.31488037109375, 391.89886474609375, 355.845947265625, 316.3450927734375, 369.2245178222656, 260.6424560546875, 405.8687744140625, 1675.6121826171875, 255.27291870117188, 221.79464721679688, 208.9643096923828, 199.7387237548828, 848.0888061523438, 1013.1567993164062, 751.830810546875, 477.2314147949219, 621.547607421875, 2228.55078125, 520.9534912109375, 1648.0665283203125, 459.8618469238281, 391.73968505859375, 1123.176025390625, 694.26220703125, 784.9498901367188, 410.6839599609375, 1323.6629638671875, 709.1834716796875, 690.4632568359375, 846.3438720703125, 1571.489013671875, 813.5005493164062, 886.1942749023438, 794.5162353515625, 992.4547119140625, 1041.6435546875, 681.2615966796875, 707.7152099609375, 710.8179931640625, 638.6973876953125, 584.0579833984375, 639.648681640625, 682.2012329101562, 768.7598266601562, 783.865966796875, 1068.768798828125, 909.3150024414062, 588.0213623046875, 1893.1441650390625, 908.560302734375, 786.7241821289062, 1349.134521484375, 613.5692138671875, 389.2113037109375, 2196.6181640625, 317.1492919921875, 300.58251953125, 388.1669006347656, 550.5746459960938, 286.82220458984375, 295.6894226074219, 286.4205017089844, 381.699951171875, 250.49913024902344, 231.31137084960938, 241.53268432617188, 236.03408813476562, 246.31320190429688, 229.78695678710938, 248.01513671875, 193.611328125, 218.929443359375, 216.36367797851562, 187.58213806152344, 501.0660705566406, 726.6196899414062, 599.70556640625, 543.06787109375, 312.01690673828125, 437.0195007324219, 2179.4326171875, 901.7975463867188, 536.7139282226562, 500.41888427734375, 826.752197265625, 642.3110961914062, 548.4229736328125, 382.1336975097656, 944.0435791015625, 440.3109436035156, 325.70947265625, 1334.5650634765625, 387.2019958496094, 704.4602661132812, 1458.1968994140625, 1286.2384033203125, 635.8757934570312, 705.6844482421875, 1702.435302734375, 630.94677734375, 1191.6790771484375, 937.2742919921875], \"Term\": [\"after\", \"polic\", \"over\", \"water\", \"fire\", \"kill\", \"charg\", \"call\", \"death\", \"crash\", \"court\", \"fund\", \"face\", \"health\", \"miss\", \"servic\", \"concern\", \"iraq\", \"continu\", \"lead\", \"record\", \"power\", \"drug\", \"rise\", \"closer\", \"defend\", \"support\", \"reject\", \"consid\", \"find\", \"climat\", \"shark\", \"revamp\", \"rural\", \"benefit\", \"tackl\", \"replac\", \"esper\", \"darl\", \"wild\", \"progress\", \"wind\", \"outback\", \"domest\", \"warm\", \"central\", \"hospitalis\", \"hayden\", \"emiss\", \"hydro\", \"visitor\", \"global\", \"assess\", \"popul\", \"cancer\", \"schooli\", \"forward\", \"livestock\", \"tourism\", \"forestri\", \"coast\", \"fund\", \"good\", \"farm\", \"monitor\", \"princ\", \"small\", \"call\", \"work\", \"award\", \"murray\", \"age\", \"risk\", \"relief\", \"mix\", \"busi\", \"confer\", \"bring\", \"boost\", \"mine\", \"focus\", \"farmer\", \"drought\", \"get\", \"develop\", \"flood\", \"gold\", \"region\", \"more\", \"plan\", \"group\", \"urg\", \"chang\", \"council\", \"target\", \"industri\", \"govt\", \"communiti\", \"doctor\", \"help\", \"back\", \"road\", \"seek\", \"rain\", \"drug\", \"bail\", \"resid\", \"iemma\", \"recycl\", \"alleg\", \"former\", \"wit\", \"refus\", \"whale\", \"fraud\", \"unhappi\", \"charg\", \"corrupt\", \"singl\", \"inform\", \"cannabi\", \"committe\", \"queen\", \"legal\", \"toddler\", \"director\", \"haul\", \"visa\", \"darfur\", \"combat\", \"locust\", \"porn\", \"corbi\", \"bust\", \"consid\", \"teacher\", \"local\", \"danger\", \"parent\", \"safe\", \"reject\", \"court\", \"robberi\", \"action\", \"face\", \"appeal\", \"drive\", \"killer\", \"assault\", \"murder\", \"hunt\", \"accus\", \"polic\", \"drink\", \"over\", \"offic\", \"arrest\", \"strike\", \"jail\", \"claim\", \"shoot\", \"child\", \"with\", \"against\", \"case\", \"govt\", \"seek\", \"manag\", \"retir\", \"villag\", \"lanka\", \"wallabi\", \"higher\", \"squad\", \"mull\", \"slump\", \"protea\", \"ceas\", \"gunman\", \"london\", \"mission\", \"windi\", \"lightn\", \"event\", \"middl\", \"capit\", \"flee\", \"seri\", \"bull\", \"england\", \"rescuer\", \"langer\", \"crimin\", \"gear\", \"total\", \"roar\", \"somalia\", \"lead\", \"aussi\", \"india\", \"thousand\", \"bomber\", \"champ\", \"socceroo\", \"anoth\", \"jone\", \"blow\", \"cyclist\", \"market\", \"player\", \"mcgrath\", \"turn\", \"prepar\", \"immigr\", \"head\", \"elect\", \"young\", \"victori\", \"australia\", \"coach\", \"world\", \"test\", \"send\", \"lose\", \"pakistan\", \"tour\", \"injuri\", \"name\", \"poll\", \"first\", \"team\", \"take\", \"aust\", \"battl\", \"against\", \"back\", \"win\", \"make\", \"say\", \"search\", \"crash\", \"plane\", \"ash\", \"children\", \"evacu\", \"crew\", \"cane\", \"fatal\", \"dump\", \"miss\", \"poison\", \"ferri\", \"redback\", \"mishap\", \"pilot\", \"recov\", \"strand\", \"toad\", \"heart\", \"serious\", \"destroy\", \"vaughan\", \"patel\", \"fisherman\", \"contain\", \"summer\", \"die\", \"counsel\", \"diseas\", \"after\", \"fire\", \"rescu\", \"blaze\", \"boat\", \"bash\", \"crackdown\", \"card\", \"continu\", \"bodi\", \"accid\", \"cattl\", \"burn\", \"truck\", \"find\", \"resum\", \"under\", \"firefight\", \"hospit\", \"effort\", \"investig\", \"wast\", \"woman\", \"polic\", \"damag\", \"into\", \"from\", \"probe\", \"home\", \"train\", \"hous\", \"injur\", \"bomb\", \"doubt\", \"withdraw\", \"gaza\", \"isra\", \"church\", \"rape\", \"concern\", \"palestinian\", \"skill\", \"air\", \"asylum\", \"cell\", \"cast\", \"stem\", \"heritag\", \"carbon\", \"plot\", \"gunn\", \"seeker\", \"financi\", \"environment\", \"milit\", \"least\", \"nine\", \"taliban\", \"campus\", \"dozen\", \"islam\", \"treatment\", \"kill\", \"iran\", \"rais\", \"soldier\", \"blast\", \"israel\", \"challeng\", \"nuclear\", \"address\", \"live\", \"export\", \"baghdad\", \"front\", \"three\", \"armi\", \"green\", \"suicid\", \"protest\", \"afghan\", \"iraq\", \"leader\", \"iraqi\", \"offici\", \"push\", \"attack\", \"troop\", \"indigen\", \"over\", \"bush\", \"dead\", \"anti\", \"plan\", \"say\", \"group\", \"sale\", \"guilti\", \"death\", \"mental\", \"riot\", \"quak\", \"sentenc\", \"taxi\", \"plead\", \"afghanistan\", \"sexual\", \"servic\", \"commission\", \"bushrang\", \"rail\", \"dubbo\", \"deputi\", \"valley\", \"jam\", \"goulburn\", \"comment\", \"incid\", \"secret\", \"hike\", \"repair\", \"katherin\", \"collis\", \"appl\", \"apologis\", \"origin\", \"have\", \"health\", \"uranium\", \"snowi\", \"hostag\", \"code\", \"guard\", \"prison\", \"senat\", \"royal\", \"price\", \"fuel\", \"scientist\", \"inquest\", \"fin\", \"rise\", \"toll\", \"life\", \"perth\", \"solomon\", \"suspend\", \"inquiri\", \"petrol\", \"sack\", \"telstra\", \"highlight\", \"rate\", \"report\", \"jail\", \"over\", \"case\", \"hear\", \"warn\", \"find\", \"say\", \"minist\", \"lift\", \"suppli\", \"news\", \"lake\", \"liber\", \"pulp\", \"deal\", \"restrict\", \"trade\", \"seat\", \"pressur\", \"declar\", \"turnbul\", \"loss\", \"titan\", \"stanc\", \"reserv\", \"major\", \"grand\", \"tougher\", \"anim\", \"meatwork\", \"worsen\", \"sever\", \"thailand\", \"wool\", \"carpent\", \"counter\", \"citrus\", \"reshuffl\", \"cost\", \"law\", \"state\", \"sign\", \"premier\", \"grain\", \"guantanamo\", \"grower\", \"produc\", \"brown\", \"lack\", \"forest\", \"limit\", \"pledg\", \"eas\", \"water\", \"keep\", \"eagl\", \"better\", \"control\", \"debat\", \"ban\", \"mill\", \"free\", \"decis\", \"threat\", \"say\", \"nation\", \"govt\", \"offer\", \"council\", \"urg\", \"with\", \"closer\", \"rudd\", \"stand\", \"famili\", \"kangaroo\", \"pont\", \"energi\", \"farewel\", \"downer\", \"palm\", \"licenc\", \"save\", \"victim\", \"debnam\", \"pope\", \"interview\", \"pipelin\", \"foreign\", \"press\", \"solar\", \"ethanol\", \"without\", \"muslim\", \"rank\", \"rann\", \"funer\", \"franc\", \"wollongong\", \"data\", \"pleas\", \"firm\", \"arriv\", \"avoid\", \"hail\", \"stay\", \"extend\", \"power\", \"ahead\", \"deadlin\", \"game\", \"step\", \"play\", \"result\", \"packag\", \"father\", \"explos\", \"terror\", \"vow\", \"down\", \"time\", \"plant\", \"trial\", \"with\", \"race\", \"minist\", \"howard\", \"celebr\", \"say\", \"leav\", \"govt\", \"australian\", \"back\", \"urg\", \"talk\", \"cyclon\", \"takeov\", \"detail\", \"point\", \"warrior\", \"product\", \"cole\", \"hewitt\", \"leadership\", \"christma\", \"cruis\", \"roll\", \"africa\", \"townsvill\", \"privat\", \"rethink\", \"vail\", \"hand\", \"befor\", \"creat\", \"semi\", \"blood\", \"peopl\", \"cap\", \"short\", \"south\", \"african\", \"beaconsfield\", \"histori\", \"view\", \"approv\", \"rat\", \"order\", \"detent\", \"beazley\", \"support\", \"wheat\", \"expect\", \"nativ\", \"tip\", \"fall\", \"reach\", \"beat\", \"chanc\", \"centr\", \"interest\", \"profit\", \"east\", \"open\", \"share\", \"west\", \"compani\", \"final\", \"about\", \"worri\", \"build\", \"titl\", \"north\", \"bird\", \"feder\", \"into\", \"council\", \"plan\", \"criticis\", \"hill\", \"set\", \"break\", \"airport\", \"qanta\", \"announc\", \"spend\", \"score\", \"record\", \"abandon\", \"internet\", \"tunnel\", \"media\", \"univers\", \"sight\", \"pilbara\", \"upset\", \"chariti\", \"tight\", \"legisl\", \"vietnam\", \"mobil\", \"saleyard\", \"anniversari\", \"sudan\", \"estat\", \"stun\", \"athlet\", \"phone\", \"level\", \"board\", \"western\", \"sharehold\", \"hall\", \"defend\", \"right\", \"commit\", \"unveil\", \"defenc\", \"hobart\", \"flight\", \"alert\", \"staff\", \"mark\", \"cours\", \"question\", \"human\", \"number\", \"sydney\", \"secur\", \"quit\", \"remain\", \"govt\", \"blue\", \"plan\", \"over\"], \"Total\": [7828.0, 11338.0, 14957.0, 6067.0, 5100.0, 5125.0, 4830.0, 5335.0, 3921.0, 3953.0, 4236.0, 4312.0, 4108.0, 2964.0, 2890.0, 2636.0, 2673.0, 3550.0, 2898.0, 2495.0, 2203.0, 2407.0, 2447.0, 2690.0, 2181.0, 2256.0, 2282.0, 2596.0, 2338.0, 3930.0, 684.8597412109375, 573.1492309570312, 561.7237548828125, 803.7449340820312, 594.6456909179688, 465.904296875, 441.4256896972656, 315.7759704589844, 435.4244079589844, 327.0843811035156, 290.7843933105469, 915.1870727539062, 288.45361328125, 256.46527099609375, 339.02032470703125, 687.2411499023438, 217.1007537841797, 217.0542755126953, 268.30364990234375, 206.58688354492188, 223.729248046875, 438.22601318359375, 303.75799560546875, 293.4907531738281, 932.09326171875, 182.15164184570312, 289.6031799316406, 173.8649139404297, 996.7376098632812, 222.81927490234375, 1785.6041259765625, 4312.103515625, 744.7255859375, 1247.6170654296875, 474.84710693359375, 293.9486999511719, 293.3055419921875, 5335.6357421875, 2235.53564453125, 1103.4830322265625, 907.5209350585938, 429.609619140625, 755.9600830078125, 527.4573364257812, 341.4908447265625, 1591.69189453125, 389.03680419921875, 596.3161010742188, 3059.68408203125, 2472.732666015625, 1013.3870239257812, 2219.026611328125, 2071.357177734375, 1538.9735107421875, 1507.8909912109375, 1096.330078125, 1319.3150634765625, 1611.839111328125, 4555.44921875, 8549.845703125, 3329.44677734375, 6485.72216796875, 3234.1220703125, 6900.36279296875, 1331.494384765625, 2017.5447998046875, 10915.6298828125, 1667.869384765625, 1282.554931640625, 3075.90673828125, 5257.45947265625, 2252.353271484375, 3769.164306640625, 1486.55859375, 2447.201904296875, 762.2554321289062, 1930.779541015625, 508.82244873046875, 504.8119812011719, 1165.4747314453125, 1402.84619140625, 523.4879150390625, 758.0059814453125, 686.6310424804688, 433.9095458984375, 278.5031433105469, 4830.79833984375, 301.04583740234375, 261.21142578125, 272.8414306640625, 286.3890380859375, 376.4512023925781, 246.12777709960938, 758.2083740234375, 249.2039031982422, 265.26031494140625, 226.0083465576172, 274.0040588378906, 214.66810607910156, 248.7663116455078, 196.61239624023438, 312.62799072265625, 215.5901641845703, 197.93984985351562, 2338.374267578125, 922.305908203125, 1275.2791748046875, 547.0239868164062, 515.1644287109375, 489.4330139160156, 2596.824951171875, 4236.609375, 376.4742736816406, 1330.4549560546875, 4108.51171875, 1600.01708984375, 1080.199462890625, 380.187255859375, 1432.3958740234375, 2450.50830078125, 748.5487060546875, 2549.6806640625, 11338.43359375, 1014.638916015625, 14957.01953125, 1417.251953125, 1923.8270263671875, 1405.736083984375, 2812.448486328125, 3672.279296875, 1467.9017333984375, 1553.0289306640625, 6621.3359375, 3574.50537109375, 1994.557861328125, 10915.6298828125, 3769.164306640625, 888.7986450195312, 870.8486938476562, 462.10089111328125, 561.4154052734375, 468.7275390625, 472.6571960449219, 500.2178649902344, 263.65777587890625, 245.0791015625, 245.01559448242188, 236.1714630126953, 384.3417053222656, 442.7708435058594, 312.73626708984375, 277.9877014160156, 224.1438751220703, 259.77166748046875, 223.0286102294922, 226.8811492919922, 233.0770721435547, 441.59405517578125, 512.0657348632812, 1722.23974609375, 185.00958251953125, 180.4122314453125, 192.34811401367188, 202.8895721435547, 193.28549194335938, 205.05899047851562, 172.2373809814453, 2495.35986328125, 1565.9019775390625, 879.6345825195312, 804.4879150390625, 605.7071533203125, 348.0550231933594, 490.8463439941406, 486.9263610839844, 510.14373779296875, 378.11181640625, 285.58929443359375, 1854.8076171875, 616.7864379882812, 265.89422607421875, 729.8412475585938, 1180.9886474609375, 396.4368896484375, 1541.2537841796875, 2326.335693359375, 661.5111694335938, 1154.36328125, 2614.328369140625, 735.0113525390625, 2270.757080078125, 2679.437744140625, 737.962890625, 1588.6754150390625, 1009.873046875, 997.99560546875, 1091.42041015625, 1453.38330078125, 1049.896484375, 1392.240966796875, 900.24072265625, 3673.732177734375, 2535.8388671875, 1090.418701171875, 3574.50537109375, 5257.45947265625, 2046.8587646484375, 2418.613525390625, 6487.8974609375, 1950.1866455078125, 3953.361083984375, 926.849609375, 514.2297973632812, 653.4201049804688, 478.322998046875, 1073.1513671875, 383.8135070800781, 1154.1395263671875, 648.0803833007812, 2890.948974609375, 296.5314636230469, 361.53204345703125, 287.309814453125, 261.1493225097656, 416.0434265136719, 323.1211242675781, 266.8067932128906, 247.5443878173828, 274.27606201171875, 235.06088256835938, 403.80413818359375, 237.61856079101562, 205.63169860839844, 208.29237365722656, 461.4803771972656, 193.81288146972656, 1926.3955078125, 190.67103576660156, 378.855224609375, 7828.22119140625, 5100.90380859375, 1127.18212890625, 1634.33203125, 789.603759765625, 425.4651794433594, 369.93841552734375, 377.5108947753906, 2898.451171875, 1327.7239990234375, 1096.510498046875, 440.50811767578125, 827.0601806640625, 613.94921875, 3930.614501953125, 458.5650634765625, 2346.009765625, 1204.5233154296875, 2817.1064453125, 858.2870483398438, 2989.189208984375, 713.734619140625, 1854.0439453125, 11338.43359375, 1052.2498779296875, 2722.894775390625, 3708.394775390625, 2027.373779296875, 2505.960693359375, 1664.5616455078125, 2605.970703125, 1234.0977783203125, 1966.29052734375, 987.604248046875, 637.711181640625, 574.9721069335938, 818.2695922851562, 480.3770446777344, 526.6593017578125, 2673.954833984375, 765.2876586914062, 479.3582458496094, 436.6247253417969, 411.3331298828125, 490.4695739746094, 376.3510437011719, 384.6924133300781, 470.7926330566406, 333.2897644042969, 296.07794189453125, 290.73590087890625, 291.164794921875, 308.70849609375, 309.177978515625, 389.0173645019531, 315.0926818847656, 368.97064208984375, 238.3957061767578, 238.25927734375, 243.072509765625, 266.8576354980469, 484.56402587890625, 5125.50390625, 1032.004150390625, 1267.18603515625, 1009.6644287109375, 1193.9241943359375, 907.0001220703125, 1036.03759765625, 1728.2158203125, 592.5557861328125, 608.9774780273438, 955.3991088867188, 844.064208984375, 591.1165771484375, 1179.5797119140625, 530.510498046875, 2107.35009765625, 701.6058959960938, 2075.9814453125, 513.8740234375, 3550.537841796875, 1657.4935302734375, 1271.839599609375, 710.3720703125, 2856.82763671875, 3331.337890625, 1713.6678466796875, 2076.90234375, 14957.01953125, 1288.6153564453125, 1584.7066650390625, 1156.01123046875, 8549.845703125, 6487.8974609375, 3329.44677734375, 1477.994384765625, 1271.6971435546875, 3921.283447265625, 648.3803100585938, 520.7411499023438, 444.2403259277344, 1103.215087890625, 361.980712890625, 839.7429809570312, 526.6461791992188, 339.5239562988281, 2636.260009765625, 325.91119384765625, 295.19329833984375, 1025.71826171875, 283.0948486328125, 288.4296569824219, 349.4847412109375, 251.88363647460938, 253.54653930664062, 767.39599609375, 339.85333251953125, 208.43006896972656, 199.64862060546875, 213.0047607421875, 185.62513732910156, 183.35598754882812, 176.4413299560547, 325.59979248046875, 223.8221893310547, 1143.4139404296875, 2964.745849609375, 713.173095703125, 465.1192932128906, 315.1588134765625, 278.9091491699219, 276.73651123046875, 1077.933349609375, 944.4389038085938, 322.6278076171875, 2235.45849609375, 1117.691162109375, 765.9168090820312, 606.7195434570312, 915.5242919921875, 2690.238037109375, 1107.056396484375, 722.9088134765625, 899.52587890625, 680.9381713867188, 646.9498291015625, 1712.5657958984375, 620.2037353515625, 761.9833984375, 1026.4486083984375, 1137.975830078125, 1074.98828125, 3815.0087890625, 2812.448486328125, 14957.01953125, 1994.557861328125, 1444.7344970703125, 4429.2646484375, 3930.614501953125, 6487.8974609375, 2647.029541015625, 696.4891357421875, 759.3421630859375, 491.8240661621094, 616.2800903320312, 1151.5386962890625, 427.9894714355469, 1841.2152099609375, 806.988525390625, 1277.1097412109375, 383.7919616699219, 823.818359375, 433.8370666503906, 281.2967834472656, 724.153076171875, 252.39207458496094, 284.251220703125, 267.35870361328125, 472.4215393066406, 271.2527160644531, 401.86846923828125, 327.9826354980469, 202.85287475585938, 196.22540283203125, 198.74118041992188, 273.51153564453125, 283.3370666503906, 186.35543823242188, 188.04763793945312, 181.67813110351562, 181.5200958251953, 1308.5994873046875, 1586.9090576171875, 1275.740478515625, 1019.87939453125, 522.5581665039062, 417.7242126464844, 345.9634704589844, 1074.651123046875, 396.27850341796875, 359.9034729003906, 339.5412902832031, 431.3909912109375, 360.3691711425781, 806.9453735351562, 734.9595336914062, 6067.357421875, 1337.800048828125, 478.6430358886719, 563.0787963867188, 957.1696166992188, 1032.6197509765625, 797.2732543945312, 728.0888061523438, 929.9706420898438, 1582.1126708984375, 1403.6622314453125, 6487.8974609375, 2614.643310546875, 10915.6298828125, 2002.46923828125, 6900.36279296875, 6485.72216796875, 6621.3359375, 2181.35791015625, 1055.5064697265625, 1426.9580078125, 1534.4251708984375, 545.4124755859375, 589.9557495117188, 596.197021484375, 452.88818359375, 746.51806640625, 369.4292297363281, 391.71405029296875, 1092.8662109375, 1734.4232177734375, 327.2367858886719, 345.726806640625, 556.6846313476562, 478.560546875, 388.3934326171875, 276.0914611816406, 248.7283477783203, 278.1698913574219, 286.1592102050781, 367.17926025390625, 247.22010803222656, 314.9327697753906, 214.74600219726562, 348.1455993652344, 204.35694885253906, 212.42967224121094, 255.7841033935547, 867.8964233398438, 484.40234375, 467.5490417480469, 425.7151794433594, 955.7953491210938, 781.2122192382812, 2407.05712890625, 1012.1773681640625, 356.0338439941406, 845.8125, 549.1123046875, 1648.548583984375, 498.5155944824219, 399.3946533203125, 455.3753356933594, 406.7171325683594, 1431.3182373046875, 559.7275390625, 3179.7607421875, 1612.105712890625, 1024.354736328125, 1659.299072265625, 6621.3359375, 1003.8331298828125, 2647.029541015625, 1805.016357421875, 718.23681640625, 6487.8974609375, 1552.323486328125, 10915.6298828125, 2209.26513671875, 5257.45947265625, 6485.72216796875, 2110.509765625, 956.0230102539062, 721.0210571289062, 590.3635864257812, 477.24542236328125, 476.4649658203125, 523.170654296875, 397.1403503417969, 442.5179443359375, 490.8721008300781, 519.6275634765625, 374.56396484375, 370.60498046875, 360.1588439941406, 362.1745910644531, 337.099365234375, 366.471435546875, 324.4434509277344, 726.218505859375, 491.8766174316406, 393.1506042480469, 357.0189514160156, 317.40399169921875, 370.541015625, 261.6098327636719, 407.3791809082031, 1682.1173095703125, 256.2681884765625, 222.6930389404297, 209.89724731445312, 200.65248107910156, 852.0385131835938, 1022.5299682617188, 759.1297607421875, 479.95745849609375, 627.9520263671875, 2282.4296875, 525.5262451171875, 1702.177978515625, 465.0981750488281, 394.6670227050781, 1220.6177978515625, 782.3698120117188, 917.490234375, 421.6081237792969, 1943.7000732421875, 872.0635375976562, 866.253173828125, 1196.7589111328125, 2987.509765625, 1174.2022705078125, 1354.4549560546875, 1148.851806640625, 1726.0648193359375, 1921.125, 985.101806640625, 1100.9146728515625, 1113.505126953125, 1369.77294921875, 907.69140625, 1491.525390625, 2722.894775390625, 6900.36279296875, 8549.845703125, 1070.1536865234375, 910.4969482421875, 589.163818359375, 1896.9083251953125, 910.7125244140625, 788.6838989257812, 1352.6607666015625, 615.1961059570312, 390.31494140625, 2203.13330078125, 318.1003112792969, 301.4945373535156, 389.3887939453125, 552.349365234375, 287.76470947265625, 296.6626281738281, 287.4134521484375, 383.0305480957031, 251.40887451171875, 232.22439575195312, 242.50244140625, 236.98814392089844, 247.33486938476562, 230.74485778808594, 249.1350860595703, 194.50411987304688, 219.94427490234375, 217.40933227539062, 188.4931182861328, 503.56439208984375, 730.3540649414062, 603.8477172851562, 546.4639892578125, 313.69989013671875, 441.51544189453125, 2256.69287109375, 925.1771850585938, 545.5732421875, 508.5545349121094, 848.846923828125, 660.5193481445312, 561.6627807617188, 387.24053955078125, 1003.7072143554688, 453.3410949707031, 328.870361328125, 1658.3857421875, 403.172607421875, 884.2587280273438, 2625.1015625, 2256.20947265625, 824.1489868164062, 1083.919189453125, 10915.6298828125, 1161.2591552734375, 8549.845703125, 14957.01953125], \"loglift\": [30.0, 29.0, 28.0, 27.0, 26.0, 25.0, 24.0, 23.0, 22.0, 21.0, 20.0, 19.0, 18.0, 17.0, 16.0, 15.0, 14.0, 13.0, 12.0, 11.0, 10.0, 9.0, 8.0, 7.0, 6.0, 5.0, 4.0, 3.0, 2.0, 1.0, 1.993499994277954, 1.9931000471115112, 1.9931000471115112, 1.9926999807357788, 1.9922000169754028, 1.9921000003814697, 1.9919999837875366, 1.9918999671936035, 1.9917999505996704, 1.9915000200271606, 1.9915000200271606, 1.9915000200271606, 1.9912999868392944, 1.9910000562667847, 1.9909000396728516, 1.9907000064849854, 1.9905999898910522, 1.9905999898910522, 1.9904999732971191, 1.990399956703186, 1.9902000427246094, 1.9901000261306763, 1.98989999294281, 1.989799976348877, 1.989799976348877, 1.989799976348877, 1.989799976348877, 1.9895000457763672, 1.9895000457763672, 1.989300012588501, 1.9835000038146973, 1.9703999757766724, 1.9839999675750732, 1.9782999753952026, 1.9855999946594238, 1.9888999462127686, 1.9883999824523926, 1.9592000246047974, 1.9617999792099, 1.9739999771118164, 1.9723999500274658, 1.9845000505447388, 1.9713000059127808, 1.9710999727249146, 1.985700011253357, 1.9212000370025635, 1.979699969291687, 1.9556000232696533, 1.8071000576019287, 1.8150999546051025, 1.879699945449829, 1.7900999784469604, 1.78410005569458, 1.820099949836731, 1.7964999675750732, 1.844499945640564, 1.80649995803833, 1.7481000423431396, 1.503100037574768, 1.3473000526428223, 1.537500023841858, 1.3128000497817993, 1.4953999519348145, 1.2192000150680542, 1.7583999633789062, 1.5916999578475952, 0.8849999904632568, 1.6556999683380127, 1.7690999507904053, 1.2768000364303589, 0.7833999991416931, 1.3515000343322754, 0.902899980545044, 1.6261999607086182, 2.1731998920440674, 2.172800064086914, 2.172600030899048, 2.1721999645233154, 2.1721999645233154, 2.172100067138672, 2.171799898147583, 2.1717000007629395, 2.1714000701904297, 2.1712000370025635, 2.171099901199341, 2.170599937438965, 2.1705000400543213, 2.1705000400543213, 2.1705000400543213, 2.1705000400543213, 2.1703999042510986, 2.170300006866455, 2.170099973678589, 2.1698999404907227, 2.1698999404907227, 2.169800043106079, 2.1696999073028564, 2.169600009918213, 2.1695001125335693, 2.1695001125335693, 2.1693999767303467, 2.1693999767303467, 2.1689999103546143, 2.1689999103546143, 2.168299913406372, 2.1651999950408936, 2.160399913787842, 2.16759991645813, 2.166599988937378, 2.1668999195098877, 2.1433000564575195, 2.129199981689453, 2.1654999256134033, 2.1326000690460205, 2.078900098800659, 2.111299991607666, 2.1201000213623047, 2.1591999530792236, 2.090100049972534, 2.031399965286255, 2.1054000854492188, 1.9958000183105469, 1.8101999759674072, 2.053800106048584, 1.6507999897003174, 1.9107999801635742, 1.7992000579833984, 1.8782999515533447, 1.6699999570846558, 1.5717999935150146, 1.8269000053405762, 1.738800048828125, 0.9670000076293945, 1.267300009727478, 1.531499981880188, 0.20489999651908875, 1.0199999809265137, 2.2785000801086426, 2.27839994430542, 2.2780001163482666, 2.277400016784668, 2.2769999504089355, 2.276900053024292, 2.276900053024292, 2.276700019836426, 2.2762999534606934, 2.27620005607605, 2.27620005607605, 2.276099920272827, 2.276099920272827, 2.276099920272827, 2.276099920272827, 2.2760000228881836, 2.2760000228881836, 2.2757999897003174, 2.2757999897003174, 2.275700092315674, 2.275599956512451, 2.275399923324585, 2.275099992752075, 2.275099992752075, 2.275099992752075, 2.275099992752075, 2.2750000953674316, 2.274899959564209, 2.274899959564209, 2.2748000621795654, 2.2723000049591064, 2.2746999263763428, 2.2725000381469727, 2.2701001167297363, 2.272200107574463, 2.2737998962402344, 2.2699999809265137, 2.26990008354187, 2.269399881362915, 2.27239990234375, 2.2746999263763428, 2.2486000061035156, 2.265399932861328, 2.2746999263763428, 2.2499001026153564, 2.2290000915527344, 2.2629001140594482, 2.2054998874664307, 2.1830999851226807, 2.2411000728607178, 2.1989998817443848, 2.0713999271392822, 2.194499969482422, 2.014400005340576, 1.979200005531311, 2.1717000007629395, 1.9788000583648682, 2.0536000728607178, 2.0485000610351562, 2.007200002670288, 1.9036999940872192, 1.9855999946594238, 1.8273999691009521, 2.00600004196167, 1.3142999410629272, 1.4012000560760498, 1.8639999628067017, 1.0098999738693237, 0.6764000058174133, 1.3737000226974487, 1.0662000179290771, 0.06949999928474426, 2.2816998958587646, 2.281100034713745, 2.2808001041412354, 2.280600070953369, 2.2802999019622803, 2.2802999019622803, 2.280100107192993, 2.280100107192993, 2.2799999713897705, 2.279900074005127, 2.279400110244751, 2.279400110244751, 2.279099941253662, 2.279099941253662, 2.278899908065796, 2.2788000106811523, 2.2788000106811523, 2.2788000106811523, 2.2788000106811523, 2.278700113296509, 2.2785000801086426, 2.27839994430542, 2.2781999111175537, 2.2780001163482666, 2.2780001163482666, 2.2778000831604004, 2.2778000831604004, 2.2776999473571777, 2.2776999473571777, 2.277600049972534, 2.277400016784668, 2.2762999534606934, 2.277400016784668, 2.2734999656677246, 2.277400016784668, 2.276099920272827, 2.275399923324585, 2.2720000743865967, 2.217600107192993, 2.2358999252319336, 2.238300085067749, 2.264699935913086, 2.225600004196167, 2.219099998474121, 1.8359999656677246, 2.229300022125244, 1.863800048828125, 2.0102999210357666, 1.787500023841858, 2.0817999839782715, 1.6526000499725342, 2.1013998985290527, 1.7682000398635864, 0.9503999948501587, 1.924399971961975, 1.3933000564575195, 1.1897000074386597, 1.523800015449524, 1.3567999601364136, 1.559499979019165, 1.1770999431610107, 1.7697999477386475, 2.2936999797821045, 2.2932000160217285, 2.2929999828338623, 2.292799949645996, 2.292799949645996, 2.2925000190734863, 2.2925000190734863, 2.2925000190734863, 2.2925000190734863, 2.2925000190734863, 2.2923998832702637, 2.2922000885009766, 2.292099952697754, 2.292099952697754, 2.292099952697754, 2.291800022125244, 2.2915000915527344, 2.2913999557495117, 2.2913999557495117, 2.2913999557495117, 2.291300058364868, 2.2911999225616455, 2.2911999225616455, 2.2909998893737793, 2.2908999919891357, 2.2906999588012695, 2.2906999588012695, 2.290600061416626, 2.2904999256134033, 2.2904000282287598, 2.2753000259399414, 2.2901999950408936, 2.287600040435791, 2.289799928665161, 2.2878000736236572, 2.29010009765625, 2.2876999378204346, 2.2806999683380127, 2.289799928665161, 2.2892000675201416, 2.284600019454956, 2.2848000526428223, 2.2881999015808105, 2.2753000259399414, 2.2880001068115234, 2.2504000663757324, 2.278599977493286, 2.2098000049591064, 2.2867000102996826, 2.126499891281128, 2.1738998889923096, 2.178499937057495, 2.2474000453948975, 1.858199954032898, 1.7763999700546265, 1.9348000288009644, 1.6719000339508057, 0.5464000105857849, 1.8243999481201172, 1.6642999649047852, 1.8629000186920166, 0.22859999537467957, 0.26579999923706055, 0.8683000206947327, 2.3587000370025635, 2.3585000038146973, 2.3584001064300537, 2.358299970626831, 2.3582000732421875, 2.3580000400543213, 2.3577001094818115, 2.357599973678589, 2.3575000762939453, 2.3575000762939453, 2.3573999404907227, 2.3571999073028564, 2.357100009918213, 2.3570001125335693, 2.3568999767303467, 2.3568999767303467, 2.3564999103546143, 2.3564999103546143, 2.3564000129699707, 2.356300115585327, 2.3559999465942383, 2.3559999465942383, 2.355600118637085, 2.3554000854492188, 2.355299949645996, 2.3552000522613525, 2.35509991645813, 2.3550000190734863, 2.3548998832702637, 2.3548998832702637, 2.35479998588562, 2.3441998958587646, 2.354099988937378, 2.3541998863220215, 2.353600025177002, 2.3547000885009766, 2.3545000553131104, 2.335099935531616, 2.3322999477386475, 2.3517000675201416, 2.2760000228881836, 2.299299955368042, 2.31469988822937, 2.323899984359741, 2.295300006866455, 2.2267000675201416, 2.2560999393463135, 2.288599967956543, 2.2683000564575195, 2.2783000469207764, 2.257200002670288, 2.067500114440918, 2.2604000568389893, 2.170799970626831, 2.0439000129699707, 1.9714000225067139, 1.9766000509262085, 1.25, 1.378100037574768, 0.23080000281333923, 1.5379999876022339, 1.7503000497817993, 0.8425999879837036, 0.9083999991416931, 0.27649998664855957, 1.1131000518798828, 2.3819000720977783, 2.3817999362945557, 2.381500005722046, 2.381500005722046, 2.3814001083374023, 2.3814001083374023, 2.3812999725341797, 2.381200075149536, 2.3808999061584473, 2.3805999755859375, 2.380199909210205, 2.3801000118255615, 2.3801000118255615, 2.3798999786376953, 2.3798999786376953, 2.3798000812530518, 2.3796000480651855, 2.3794000148773193, 2.379300117492676, 2.379199981689453, 2.378999948501587, 2.378999948501587, 2.3787999153137207, 2.378700017929077, 2.378700017929077, 2.3785998821258545, 2.3785998821258545, 2.3785998821258545, 2.378499984741211, 2.378499984741211, 2.3768999576568604, 2.3719000816345215, 2.372999906539917, 2.373300075531006, 2.375999927520752, 2.3770999908447266, 2.378200054168701, 2.36680006980896, 2.3763999938964844, 2.376699924468994, 2.37719988822937, 2.373199939727783, 2.3740999698638916, 2.3429999351501465, 2.346400022506714, 2.253999948501587, 2.3013999462127686, 2.3550000190734863, 2.3320000171661377, 2.2734999656677246, 2.2376999855041504, 2.2520999908447266, 2.25600004196167, 2.150599956512451, 1.9115999937057495, 1.88919997215271, 1.1598000526428223, 1.4562000036239624, 0.6611999869346619, 1.4417999982833862, 0.40779998898506165, 0.4408999979496002, 0.17589999735355377, 2.4198999404907227, 2.4195001125335693, 2.4193999767303467, 2.419100046157837, 2.4186999797821045, 2.418600082397461, 2.4184999465942383, 2.418100118637085, 2.418100118637085, 2.4179999828338623, 2.4179999828338623, 2.4179000854492188, 2.417799949645996, 2.4175000190734863, 2.4175000190734863, 2.4173998832702637, 2.41729998588562, 2.41729998588562, 2.4170000553131104, 2.4166998863220215, 2.416599988937378, 2.416599988937378, 2.4165000915527344, 2.4163999557495117, 2.416300058364868, 2.4161999225616455, 2.4159998893737793, 2.415800094604492, 2.4156999588012695, 2.415600061416626, 2.4131999015808105, 2.413800001144409, 2.413800001144409, 2.4144999980926514, 2.4047999382019043, 2.4065001010894775, 2.390399932861328, 2.398400068283081, 2.4135000705718994, 2.3910999298095703, 2.4007999897003174, 2.351300001144409, 2.3998000621795654, 2.40910005569458, 2.400700092315674, 2.404400110244751, 2.2091000080108643, 2.3420000076293945, 1.9883999824523926, 2.1298000812530518, 2.145699977874756, 1.9228999614715576, 1.4076999425888062, 2.073499917984009, 1.4772000312805176, 1.6404999494552612, 2.1774001121520996, 0.8185999989509583, 1.666700005531311, -0.029899999499320984, 1.264799952507019, 0.3481000065803528, 0.09780000150203705, 1.17330002784729, 2.432300090789795, 2.4321000576019287, 2.4319000244140625, 2.4314000606536865, 2.4314000606536865, 2.4314000606536865, 2.4310998916625977, 2.4310998916625977, 2.430999994277954, 2.4309000968933105, 2.4309000968933105, 2.4309000968933105, 2.4309000968933105, 2.430799961090088, 2.430799961090088, 2.4307000637054443, 2.4305999279022217, 2.4305999279022217, 2.4303998947143555, 2.4303998947143555, 2.430299997329712, 2.4302000999450684, 2.430000066757202, 2.4298999309539795, 2.4298999309539795, 2.4296998977661133, 2.4296998977661133, 2.429500102996826, 2.4291000366210938, 2.428999900817871, 2.4289000034332275, 2.4244000911712646, 2.4238998889923096, 2.4279000759124756, 2.42330002784729, 2.4096999168395996, 2.424799919128418, 2.4012999534606934, 2.4221999645233154, 2.426100015640259, 2.350399971008301, 2.3141000270843506, 2.2774999141693115, 2.4072999954223633, 2.0494000911712646, 2.226799964904785, 2.2067999839782715, 2.087100028991699, 1.791200041770935, 2.0666000843048096, 2.009399890899658, 2.0648000240325928, 1.8802000284194946, 1.8214999437332153, 2.0648000240325928, 1.9917000532150269, 1.9846999645233154, 1.6706000566482544, 1.9926999807357788, 1.586899995803833, 1.049399971961975, 0.23899999260902405, 0.04410000145435333, 2.501499891281128, 2.501499891281128, 2.5007998943328857, 2.5007998943328857, 2.5004000663757324, 2.5002999305725098, 2.500200033187866, 2.5000998973846436, 2.5, 2.499799966812134, 2.499799966812134, 2.499799966812134, 2.4995999336242676, 2.4995999336242676, 2.499500036239624, 2.499500036239624, 2.499300003051758, 2.499300003051758, 2.4992001056671143, 2.498800039291382, 2.498800039291382, 2.498699903488159, 2.4986000061035156, 2.4986000061035156, 2.498300075531006, 2.498199939727783, 2.498199939727783, 2.497999906539917, 2.4979000091552734, 2.49780011177063, 2.4976999759674072, 2.4958999156951904, 2.496500015258789, 2.4974000453948975, 2.492500066757202, 2.467900037765503, 2.4772000312805176, 2.4863998889923096, 2.4867000579833984, 2.4763998985290527, 2.4748001098632812, 2.4788999557495117, 2.489500045776367, 2.441499948501587, 2.473599910736084, 2.4930999279022217, 2.2855000495910645, 2.462399959564209, 2.2755000591278076, 1.9148999452590942, 1.9407999515533447, 2.2434000968933105, 2.0736000537872314, 0.644599974155426, 1.892699956893921, 0.5321999788284302, -0.2671999931335449], \"logprob\": [30.0, 29.0, 28.0, 27.0, 26.0, 25.0, 24.0, 23.0, 22.0, 21.0, 20.0, 19.0, 18.0, 17.0, 16.0, 15.0, 14.0, 13.0, 12.0, 11.0, 10.0, 9.0, 8.0, 7.0, 6.0, 5.0, 4.0, 3.0, 2.0, 1.0, -5.6305999755859375, -5.809000015258789, -5.82919979095459, -5.471199989318848, -5.773200035095215, -6.017199993133545, -6.071199893951416, -6.406300067901611, -6.085100173950195, -6.371600151062012, -6.489200115203857, -5.342700004577637, -6.497399806976318, -6.615300178527832, -6.336299896240234, -5.629899978637695, -6.782299995422363, -6.78249979019165, -6.5706000328063965, -6.832200050354004, -6.752600193023682, -6.080399990081787, -6.447199821472168, -6.481599807739258, -5.326000213623047, -6.958600044250488, -6.494999885559082, -7.005499839782715, -5.259300231933594, -6.757599830627441, -4.682199954986572, -3.813699960708618, -5.556300163269043, -5.046000003814697, -6.004700183868408, -6.480999946594238, -6.48360013961792, -3.6119000911712646, -4.4791998863220215, -5.173099994659424, -5.370200157165527, -6.105800151824951, -5.553999900817871, -5.914100170135498, -6.3343000411987305, -4.859499931335449, -6.20989990234375, -5.8069000244140625, -4.320099830627441, -4.525100231170654, -5.352499961853027, -4.658400058746338, -4.7332000732421875, -4.99429988861084, -5.038300037384033, -5.309000015258789, -5.161900043487549, -5.019999980926514, -4.226099967956543, -3.7523000240325928, -4.505199909210205, -4.0630998611450195, -4.576300144195557, -4.094799995422363, -5.200900077819824, -4.951900005340576, -3.9702999591827393, -5.0782999992370605, -5.22760009765625, -4.845099925994873, -4.8024001121521, -5.081999778747559, -5.015699863433838, -5.222899913787842, -4.1774001121521, -5.344200134277344, -4.414999961853027, -5.749000072479248, -5.756899833679199, -4.920300006866455, -4.735199928283691, -5.7210001945495605, -5.351200103759766, -5.450300216674805, -5.90939998626709, -6.3531999588012695, -3.5, -6.2754998207092285, -6.417399883270264, -6.373899936676025, -6.325500011444092, -6.052199840545654, -6.47730016708374, -5.352399826049805, -6.465099811553955, -6.402699947357178, -6.563000202178955, -6.37060022354126, -6.614699840545654, -6.467299938201904, -6.702600002288818, -6.238900184631348, -6.610899925231934, -6.696300029754639, -4.227799892425537, -5.161200046539307, -4.8420000076293945, -5.68120002746582, -5.742199897766113, -5.7932000160217285, -4.1479997634887695, -3.672600030899048, -6.057000160217285, -4.827400207519531, -3.7535998821258545, -4.6641998291015625, -5.048299789428711, -6.053400039672852, -4.796000003814697, -4.317800045013428, -5.429699897766113, -4.313799858093262, -3.0071001052856445, -5.177199840545654, -2.8896000385284424, -4.986000061035156, -4.791999816894531, -5.026599884033203, -4.541500091552734, -4.372900009155273, -5.034800052642822, -5.066500186920166, -4.388199806213379, -4.704400062561035, -5.023600101470947, -4.650400161743164, -4.89870023727417, -5.08489990234375, -5.105400085449219, -5.739500045776367, -5.545400142669678, -5.72629976272583, -5.7179999351501465, -5.661399841308594, -6.302000045776367, -6.375400066375732, -6.375699996948242, -6.412499904632568, -5.925600051879883, -5.78410005569458, -6.131800174713135, -6.249599933624268, -6.465000152587891, -6.317500114440918, -6.470099925994873, -6.453100204467773, -6.426199913024902, -5.787199974060059, -5.639400005340576, -4.426799774169922, -6.657800197601318, -6.683000087738037, -6.618899822235107, -6.5655999183654785, -6.614200115203857, -6.554999828338623, -6.729599952697754, -4.058800220489502, -4.52239990234375, -5.10129976272583, -5.19290018081665, -5.474699974060059, -6.027100086212158, -5.687099933624268, -5.695300102233887, -5.649199962615967, -5.945700168609619, -6.223999977111816, -4.3790998458862305, -5.463399887084961, -6.295499801635742, -5.3105998039245605, -4.850200176239014, -5.907899856567383, -4.607399940490723, -4.218100070953369, -5.417600154876709, -4.902900218963623, -4.213200092315674, -5.35890007019043, -4.410999774932861, -4.280700206756592, -5.377699851989746, -4.803800106048584, -5.18209981918335, -5.199100017547607, -5.150899887084961, -4.967899799346924, -5.21120023727417, -5.087200164794922, -5.344600200653076, -4.630000114440918, -4.91379976272583, -5.295000076293945, -4.9618000984191895, -4.9095001220703125, -5.1554999351501465, -5.29610013961792, -5.306000232696533, -4.295899868011475, -3.589900016784668, -5.0406999588012695, -5.630000114440918, -5.390699863433838, -5.702700138092041, -4.894800186157227, -5.923099994659424, -4.8221001625061035, -5.399400234222412, -3.9045000076293945, -6.18179988861084, -5.983799934387207, -6.213600158691406, -6.309299945831299, -5.843599796295166, -6.096499919891357, -6.288000106811523, -6.3628997802734375, -6.26039981842041, -6.414899826049805, -5.874000072479248, -6.404399871826172, -6.549200057983398, -6.536300182342529, -5.741000175476074, -6.60860013961792, -4.31220006942749, -6.625, -5.938499927520752, -2.9103000164031982, -3.3397998809814453, -4.848400115966797, -4.4807000160217285, -5.204400062561035, -5.823999881744385, -5.964600086212158, -5.9475998878479, -3.9637999534606934, -4.726200103759766, -4.914999961853027, -5.800600051879883, -5.209799766540527, -5.514200210571289, -4.0406999588012695, -5.795899868011475, -4.5289998054504395, -5.049200057983398, -4.422299861907959, -5.3165998458862305, -4.497900009155273, -5.481400012969971, -4.859899997711182, -3.8668999671936035, -5.270199775695801, -4.850500106811523, -4.745200157165527, -5.014999866485596, -4.970099925994873, -5.176400184631348, -5.110599994659424, -5.265399932861328, -4.275700092315674, -4.964799880981445, -5.402400016784668, -5.506100177764893, -5.153299808502197, -5.686200141906738, -5.594200134277344, -3.9695000648498535, -5.2204999923706055, -5.688300132751465, -5.781799793243408, -5.841599941253662, -5.665800094604492, -5.930699825286865, -5.90880012512207, -5.706999778747559, -6.052800178527832, -6.171199798583984, -6.189499855041504, -6.188000202178955, -6.1296000480651855, -6.1280999183654785, -5.898399829864502, -6.109399795532227, -5.951700210571289, -6.388599872589111, -6.389200210571289, -6.3694000244140625, -6.276000022888184, -5.679599761962891, -3.3359999656677246, -4.923799991607666, -4.721099853515625, -4.946100234985352, -4.7804999351501465, -5.052999973297119, -4.922399997711182, -4.417699813842773, -5.479000091552734, -5.452199935913086, -5.0065999031066895, -5.130199909210205, -5.483099937438965, -4.805099964141846, -5.591400146484375, -4.24970006942749, -5.321300029754639, -4.305300235748291, -5.624599933624268, -3.851900100708008, -4.566299915313721, -4.826600074768066, -5.340099811553955, -4.337600231170654, -4.2657999992370605, -4.771999835968018, -4.842700004577637, -3.9939000606536865, -5.167500019073486, -5.1209001541137695, -5.237599849700928, -4.870999813079834, -5.109799861907959, -5.1743998527526855, -4.496200084686279, -4.646599769592285, -3.520699977874756, -5.320499897003174, -5.53980016708374, -5.69890022277832, -4.7895002365112305, -5.904099941253662, -5.062600135803223, -5.529300212860107, -5.968299865722656, -3.9189999103546143, -6.0096001625061035, -6.10860013961792, -4.8632001876831055, -6.150599956512451, -6.132299900054932, -5.940299987792969, -6.267899990081787, -6.26140022277832, -5.154200077056885, -5.968800067901611, -6.458099842071533, -6.501299858093262, -6.436600208282471, -6.5742998123168945, -6.586699962615967, -6.62529993057251, -6.012700080871582, -6.387499809265137, -4.756700038909912, -3.814500093460083, -5.229499816894531, -5.656799793243408, -6.046599864959717, -6.167699813842773, -6.1757001876831055, -4.835400104522705, -4.970300197601318, -6.025100231170654, -4.164999961853027, -4.835000038146973, -5.197500228881836, -5.42140007019043, -5.03849983215332, -4.029200077056885, -4.887700080871582, -5.281400203704834, -5.083099842071533, -5.351500034332275, -5.423799991607666, -4.640100002288818, -5.462800025939941, -5.346499919891357, -5.17549991607666, -5.144800186157227, -5.196599960327148, -4.656499862670898, -4.8333001136779785, -4.309500217437744, -5.017099857330322, -5.127299785614014, -4.914599895477295, -4.968299865722656, -5.099100112915039, -5.158999919891357, -5.225299835205078, -5.138999938964844, -5.573699951171875, -5.348100185394287, -4.7230000495910645, -5.712800025939941, -4.253799915313721, -5.078800201416016, -4.619999885559082, -5.822500228881836, -5.059100151062012, -5.700500011444092, -6.133800029754639, -5.188300132751465, -6.242400169372559, -6.123600006103516, -6.185100078582764, -5.616000175476074, -6.170899868011475, -5.777900218963623, -5.981299877166748, -6.4618000984191895, -6.495200157165527, -6.482500076293945, -6.163300037384033, -6.127999782562256, -6.546999931335449, -6.538000106811523, -6.572500228881836, -6.573400020599365, -4.599699974060059, -4.411799907684326, -4.629000186920166, -4.85260009765625, -5.518499851226807, -5.741399765014648, -5.928800106048584, -4.806700229644775, -5.7947998046875, -5.890699863433838, -5.948400020599365, -5.713099956512451, -5.892000198364258, -5.117000102996826, -5.207099914550781, -3.1886000633239746, -4.65310001373291, -5.627299785614014, -5.4878997802734375, -5.0157999992370605, -4.9756999015808105, -5.219900131225586, -5.3069000244140625, -5.167500019073486, -4.875100135803223, -5.017199993133545, -4.215799808502197, -4.828199863433838, -4.194200038909912, -5.109399795532227, -4.906199932098389, -4.934999942779541, -5.179299831390381, -4.0457000732421875, -4.771999835968018, -4.470600128173828, -4.3983001708984375, -5.433000087738037, -5.354700088500977, -5.344200134277344, -5.619500160217285, -5.119800090789795, -5.823299884796143, -5.764800071716309, -4.738800048828125, -4.2769999504089355, -5.945099830627441, -5.890100002288818, -5.413899898529053, -5.565199851989746, -5.77400016784668, -6.115499973297119, -6.220200061798096, -6.108500003814697, -6.0802001953125, -5.830900192260742, -6.226600170135498, -5.984600067138672, -6.367599964141846, -5.8846001625061035, -6.417600154876709, -6.378900051116943, -6.193299770355225, -4.973999977111816, -5.55649995803833, -5.5920000076293945, -5.684999942779541, -4.886000156402588, -5.085899829864502, -3.9767000675201416, -4.835000038146973, -5.864699840545654, -5.021900177001953, -5.4440999031066895, -4.394400119781494, -5.541800022125244, -5.754199981689453, -5.631400108337402, -5.740799903869629, -4.6778998374938965, -5.483799934387207, -4.100299835205078, -4.638199806213379, -5.075699806213379, -4.816199779510498, -3.947499990463257, -5.1682000160217285, -4.794899940490723, -5.014400005340576, -5.39900016784668, -4.557000160217285, -5.139100074768066, -4.885200023651123, -5.188000202178955, -5.23769998550415, -5.27810001373291, -5.325300216674805, -4.8582000732421875, -5.140500068664551, -5.34060001373291, -5.553800106048584, -5.555500030517578, -5.461999893188477, -5.737800121307373, -5.629700183868408, -5.526100158691406, -5.469200134277344, -5.796599864959717, -5.807199954986572, -5.8358001708984375, -5.8302998542785645, -5.902100086212158, -5.818600177764893, -5.940499782562256, -5.134799957275391, -5.524700164794922, -5.748700141906738, -5.845200061798096, -5.962900161743164, -5.808300018310547, -6.156599998474121, -5.713699817657471, -4.29580020904541, -6.1774001121521, -6.31790018081665, -6.377500057220459, -6.422699928283691, -4.9766998291015625, -4.798900127410889, -5.0971999168396, -5.551700115203857, -5.287499904632568, -4.0106000900268555, -5.464000225067139, -4.312300205230713, -5.588799953460693, -5.749100208282471, -4.695799827575684, -5.1768999099731445, -5.054100036621094, -5.701900005340576, -4.531499862670898, -5.155600070953369, -5.182300090789795, -4.978799819946289, -4.359899997711182, -5.018400192260742, -4.932799816131592, -5.041999816894531, -4.819499969482422, -4.771100044250488, -5.195799827575684, -5.157700061798096, -5.153299808502197, -5.260300159454346, -5.349699974060059, -5.258800029754639, -5.194399833679199, -5.074900150299072, -5.055500030517578, -4.676199913024902, -4.837800025939941, -5.27370023727417, -4.104499816894531, -4.838600158691406, -4.982600212097168, -4.443299770355225, -5.231200218200684, -5.686399936676025, -3.9558000564575195, -5.89109992980957, -5.944799900054932, -5.6890997886657715, -5.3394999504089355, -5.991600036621094, -5.96120023727417, -5.993000030517578, -5.705900192260742, -6.126999855041504, -6.206699848175049, -6.16349983215332, -6.186500072479248, -6.143899917602539, -6.2133002281188965, -6.13700008392334, -6.3846001625061035, -6.26170015335083, -6.273499965667725, -6.416299819946289, -5.433800220489502, -5.062099933624268, -5.2540998458862305, -5.353300094604492, -5.907400131225586, -5.570499897003174, -3.96370005607605, -4.846099853515625, -5.364999771118164, -5.434999942779541, -4.933000087738037, -5.185400009155273, -5.343400001525879, -5.704699993133545, -4.800300121307373, -5.563000202178955, -5.864500045776367, -4.454100131988525, -5.691500186920166, -5.093100070953369, -4.365499973297119, -4.491000175476074, -5.195499897003174, -5.091300010681152, -4.210700035095215, -5.2032999992370605, -4.567399978637695, -4.807499885559082]}, \"token.table\": {\"Topic\": [10, 1, 2, 3, 4, 5, 6, 7, 8, 9, 10, 4, 5, 2, 3, 5, 6, 7, 8, 9, 10, 1, 2, 3, 7, 9, 10, 5, 10, 3, 5, 4, 6, 9, 9, 1, 2, 3, 4, 5, 6, 7, 8, 9, 10, 1, 2, 3, 4, 5, 6, 7, 8, 9, 10, 1, 2, 6, 1, 5, 8, 5, 1, 10, 2, 5, 9, 10, 2, 6, 9, 4, 7, 10, 3, 10, 3, 6, 8, 2, 5, 8, 5, 6, 2, 3, 4, 5, 7, 8, 9, 6, 8, 9, 10, 2, 5, 2, 4, 5, 6, 8, 10, 4, 2, 6, 1, 6, 5, 10, 1, 2, 3, 4, 5, 6, 7, 8, 1, 3, 9, 10, 1, 3, 4, 6, 7, 8, 9, 10, 1, 2, 3, 6, 7, 8, 9, 10, 1, 2, 3, 5, 6, 7, 8, 10, 7, 8, 1, 7, 10, 1, 2, 3, 4, 5, 6, 7, 8, 9, 10, 3, 4, 5, 8, 2, 1, 3, 4, 5, 7, 8, 9, 10, 3, 4, 1, 3, 4, 5, 6, 8, 9, 7, 9, 10, 4, 5, 9, 8, 9, 1, 2, 6, 7, 10, 7, 9, 10, 3, 5, 6, 8, 1, 2, 4, 6, 7, 9, 3, 4, 1, 3, 7, 9, 10, 9, 10, 4, 5, 1, 2, 4, 7, 10, 5, 3, 5, 1, 5, 6, 7, 9, 10, 1, 2, 3, 10, 1, 8, 7, 9, 3, 4, 5, 6, 7, 8, 9, 3, 7, 4, 7, 1, 3, 4, 5, 6, 7, 8, 9, 10, 6, 1, 4, 7, 2, 1, 3, 4, 5, 6, 8, 9, 10, 5, 1, 3, 5, 9, 4, 2, 9, 3, 5, 4, 9, 7, 1, 2, 3, 4, 5, 6, 7, 8, 9, 5, 4, 6, 7, 3, 1, 4, 8, 9, 10, 5, 1, 9, 10, 1, 4, 7, 5, 8, 10, 3, 9, 7, 9, 10, 1, 2, 3, 4, 5, 6, 7, 8, 9, 10, 2, 3, 4, 5, 6, 8, 10, 1, 2, 5, 6, 4, 5, 9, 5, 7, 1, 2, 3, 5, 6, 7, 8, 9, 10, 1, 8, 2, 3, 7, 10, 1, 3, 5, 6, 7, 9, 10, 6, 9, 9, 6, 2, 6, 7, 8, 6, 3, 8, 10, 2, 1, 2, 4, 5, 6, 8, 9, 1, 5, 9, 10, 5, 6, 7, 1, 2, 9, 10, 1, 2, 3, 4, 6, 7, 8, 4, 6, 1, 2, 4, 5, 6, 7, 8, 9, 1, 4, 5, 6, 7, 9, 10, 2, 2, 2, 5, 7, 8, 10, 1, 2, 3, 4, 5, 6, 7, 8, 9, 10, 4, 7, 9, 10, 2, 3, 4, 5, 6, 7, 8, 9, 10, 4, 10, 3, 4, 5, 6, 9, 9, 3, 4, 3, 10, 9, 2, 3, 9, 1, 2, 4, 6, 7, 2, 7, 2, 1, 8, 1, 4, 5, 6, 7, 8, 8, 10, 2, 3, 7, 2, 3, 4, 6, 1, 4, 6, 7, 8, 9, 10, 8, 2, 3, 5, 7, 8, 9, 10, 7, 7, 9, 10, 5, 6, 7, 8, 10, 6, 4, 7, 9, 5, 9, 1, 2, 3, 4, 5, 6, 7, 9, 2, 4, 5, 9, 2, 4, 8, 1, 2, 4, 6, 8, 1, 5, 1, 2, 3, 4, 5, 6, 8, 9, 10, 8, 5, 2, 3, 6, 7, 10, 1, 2, 3, 4, 7, 8, 10, 1, 3, 4, 7, 9, 10, 2, 7, 6, 4, 8, 7, 9, 1, 7, 9, 10, 3, 9, 2, 4, 6, 7, 8, 10, 1, 2, 3, 5, 7, 8, 9, 10, 1, 8, 3, 4, 7, 8, 5, 1, 10, 8, 4, 3, 1, 6, 7, 8, 9, 10, 4, 5, 8, 4, 5, 6, 7, 9, 3, 7, 8, 2, 3, 4, 5, 6, 7, 8, 9, 10, 3, 4, 9, 1, 8, 8, 1, 6, 9, 1, 2, 4, 7, 9, 2, 4, 3, 8, 1, 2, 4, 7, 8, 9, 10, 4, 6, 7, 10, 2, 3, 4, 7, 8, 9, 10, 5, 1, 2, 4, 5, 6, 7, 8, 9, 10, 2, 3, 4, 5, 6, 7, 8, 10, 1, 4, 6, 9, 1, 6, 7, 8, 10, 1, 2, 3, 4, 5, 6, 7, 8, 9, 10, 4, 3, 1, 4, 6, 7, 9, 10, 1, 6, 7, 9, 1, 5, 6, 8, 10, 8, 1, 2, 7, 1, 2, 6, 10, 1, 8, 8, 2, 4, 5, 6, 7, 1, 2, 3, 4, 5, 6, 7, 8, 9, 10, 5, 8, 10, 1, 3, 5, 6, 8, 9, 10, 1, 4, 5, 6, 7, 8, 9, 10, 8, 1, 5, 7, 8, 10, 5, 3, 1, 2, 4, 5, 9, 10, 1, 3, 1, 3, 6, 7, 9, 10, 1, 6, 6, 1, 2, 3, 4, 5, 6, 7, 8, 9, 10, 7, 10, 7, 1, 5, 6, 7, 1, 2, 3, 4, 5, 6, 7, 9, 10, 1, 3, 4, 6, 7, 5, 7, 3, 6, 6, 8, 3, 4, 5, 8, 9, 7, 10, 5, 9, 2, 2, 3, 5, 6, 8, 1, 1, 2, 3, 4, 6, 9, 10, 1, 5, 6, 7, 8, 10, 2, 4, 5, 6, 8, 9, 10, 4, 1, 2, 3, 4, 5, 6, 7, 8, 9, 10, 5, 9, 3, 9, 1, 6, 6, 10, 9, 1, 3, 8, 10, 1, 2, 3, 4, 5, 6, 7, 8, 9, 10, 1, 2, 4, 5, 8, 9, 10, 1, 3, 6, 1, 2, 4, 5, 6, 7, 8, 9, 10, 1, 2, 3, 4, 5, 6, 7, 8, 10, 1, 4, 6, 10, 2, 3, 4, 1, 2, 3, 8, 9, 10, 6, 3, 4, 5, 6, 7, 8, 1, 5, 1, 2, 3, 5, 6, 7, 9, 10, 2, 3, 4, 5, 1, 2, 3, 4, 8, 9, 10, 2, 4, 6, 8, 10, 1, 2, 4, 5, 6, 7, 8, 9, 10, 1, 6, 9, 10, 6, 8, 1, 2, 3, 4, 5, 6, 7, 9, 10, 2, 4, 6, 9, 5, 6, 7, 1, 2, 3, 4, 5, 6, 7, 8, 9, 10, 1, 2, 3, 4, 5, 6, 7, 8, 9, 5, 5, 1, 5, 8, 1, 2, 4, 5, 6, 7, 8, 6, 3, 5, 9, 10, 8, 6, 2, 4, 5, 6, 7, 8, 10, 2, 3, 4, 5, 6, 2, 4, 8, 9, 5, 7, 9, 7, 3, 3, 2, 5, 7, 8, 10, 2, 3, 5, 7, 8, 1, 2, 3, 5, 6, 7, 8, 10, 9, 5, 1, 2, 3, 4, 5, 6, 7, 8, 9, 10, 2, 5, 9, 10, 1, 10, 5, 7, 8, 1, 4, 6, 8, 9, 7, 3, 3, 7, 8, 4, 5, 1, 1, 2, 6, 7, 8, 2, 3, 5, 1, 2, 3, 4, 5, 6, 7, 8, 9, 10, 3, 7, 10, 7, 1, 2, 3, 4, 5, 6, 7, 8, 9, 10, 3, 3, 6, 8, 10, 1, 3, 7, 3, 7, 10, 6, 3, 5, 1, 7, 1, 2, 5, 6, 8, 9, 10, 1, 2, 5, 6, 7, 8, 9, 10, 4, 3, 4, 5, 7, 10, 3, 1, 9, 10, 1, 4, 8, 1, 2, 3, 4, 5, 6, 7, 8, 9, 10, 3, 2, 5, 6, 8, 1, 5, 10, 8, 1, 2, 3, 4, 8, 9, 1, 2, 4, 5, 6, 7, 8, 9, 10, 2, 6, 9, 7, 5, 1, 3, 4, 5, 6, 7, 8, 9, 4, 5, 7, 1, 9, 10, 1, 2, 4, 5, 6, 7, 8, 9, 10, 1, 2, 4, 5, 6, 7, 9, 4, 5, 7, 8, 9, 1, 3, 4, 5, 7, 8, 9, 10, 5, 6, 9, 10, 6, 1, 1, 2, 3, 4, 5, 6, 7, 8, 9, 10, 8, 10, 3, 5, 5, 8, 2, 4, 4, 9, 1, 3, 4, 6, 8, 10, 1, 2, 6, 7, 6, 9, 10, 10, 4, 8, 9, 1, 2, 3, 4, 5, 6, 7, 8, 9, 10, 4, 5, 1, 8, 2, 4, 5, 6, 7, 8, 9, 10, 1, 2, 3, 5, 7, 9, 10, 6, 8, 8, 5, 7, 8, 5, 9, 4, 1, 2, 3, 4, 5, 6, 7, 8, 10, 2, 3, 4, 5, 7, 8, 9, 8, 8, 1, 9, 2, 10, 1, 3, 4, 5, 7, 8, 9, 10, 7, 10, 2, 3, 4, 5, 9, 8, 1, 7, 1, 3, 6, 7, 9, 1, 2, 1, 2, 4, 5, 6, 7, 9, 10, 9, 2, 4, 5, 6, 8, 9, 1, 2, 7, 9, 6, 9, 10, 1, 3, 1, 2, 3, 5, 6, 8, 9, 7, 1, 2, 3, 5, 6, 8, 9, 10, 3, 10, 6, 2, 6, 7, 10, 2, 3, 5, 9, 10, 2, 3, 6, 7, 8, 9, 10, 6, 8, 9, 1, 3, 4, 7, 9, 10, 5, 6, 10, 8, 8, 5, 3, 6, 8, 9, 1, 2, 3, 6, 9, 1, 4, 7, 8, 9, 10, 3, 9, 10, 4, 2, 4, 2, 8, 1, 2, 4, 5, 6, 7, 8, 9, 10, 1, 2, 3, 4, 5, 7, 8, 9, 10, 1, 4, 10, 1, 4, 7, 8, 9, 10, 6, 1, 1, 2, 3, 4, 5, 6, 7, 9, 10, 4, 6, 10, 3, 7, 7, 2, 4, 5, 7, 10, 2, 8, 9, 4, 5, 6, 7, 9, 3, 1, 1, 2, 6, 8, 9, 10, 6, 1, 2, 6, 7, 9, 10, 1, 4, 1, 2, 4, 5, 6, 7, 8, 9, 10, 3, 2, 6, 9, 1, 4, 6, 8, 1, 6, 2, 6, 7, 8, 9, 10, 1, 2, 5, 10, 6, 7, 10, 2, 3, 6, 8, 1, 2, 3, 4, 5, 6, 7, 8, 9, 10, 1, 5, 6, 9, 10, 4, 7, 6, 2, 3, 4, 5, 6, 7, 8, 9, 10, 1, 2, 3, 4, 5, 6, 7, 8, 9, 10, 5, 9, 5, 6, 10, 1, 3, 4, 6, 8, 9, 2, 6, 1, 3, 4, 2, 4, 6, 8, 9, 10, 10, 7, 6, 3, 5, 9, 10, 10, 1, 2, 5, 6, 8, 9, 10, 3, 4, 7, 8, 9, 10, 2, 5, 3, 1, 9, 6, 8, 3, 8, 8, 2, 5, 8, 2, 6, 8, 3, 1, 3, 5, 9, 10, 2, 3, 1, 2, 4, 6, 7, 10, 7, 8, 1, 2, 6, 7, 8, 1, 4, 5, 7, 8, 9, 10, 5, 3, 5, 8, 4, 2, 3, 4, 6, 7, 8, 10, 10, 1, 3, 5, 6, 4, 7, 1, 5, 7, 8, 9, 4, 6, 7, 1, 2, 3, 4, 6, 7, 8, 10, 1, 1, 2, 3, 4, 5, 6, 7, 8, 9, 10, 9, 5, 1, 2, 3, 4, 5, 6, 7, 8, 9, 10, 1, 3, 6, 10, 6, 2, 3, 4, 5, 7, 1, 3, 5, 6, 8, 9, 10, 2, 6, 9, 10, 5, 7, 8, 10, 1, 2, 3, 4, 5, 6, 7, 8, 10, 7, 3, 9, 2, 3, 4, 5, 6, 7, 8, 9, 10, 1, 3, 4, 5, 6, 8, 10, 1, 6, 7, 8, 9, 3, 9, 7, 2, 3, 4, 6, 7, 9, 10, 4, 2, 1, 6, 3, 2, 7, 3, 4, 5, 6, 7, 8, 9, 10, 1, 5, 8, 10, 9, 4, 7, 1, 3, 4, 5, 6, 9, 10, 3, 5, 6, 2, 3, 5, 8, 9, 3, 5, 7, 8, 10, 4, 5, 6, 10, 3, 4, 9, 10, 7, 1, 2, 3, 4, 5, 6, 7, 9, 10, 2, 10, 3, 4, 6, 8, 10, 10, 6, 10, 1, 2, 3, 4, 5, 6, 7, 8, 9, 10, 9, 6, 4, 4, 8, 3, 7, 9, 10, 9, 3, 2, 1, 1, 2, 3, 8, 3, 1, 1, 2, 3, 4, 5, 6, 7, 8, 9, 10, 9, 1, 4, 5, 7, 8, 1, 2, 5, 7, 10, 1, 3, 4, 5, 7, 9, 3, 6, 7, 10, 1, 2, 5, 9, 1, 1, 2, 3, 5, 6, 7, 8, 9, 10, 1, 9, 3, 2, 1, 2, 3, 4, 5, 6, 7, 8, 9, 10, 5, 8, 8, 2, 3, 4, 6, 6, 7, 1, 4, 5, 6, 7, 8, 10, 3, 5, 6, 7, 8, 9, 10, 1, 4, 8, 9, 7, 2, 3, 4], \"Freq\": [0.9965409636497498, 0.03435486927628517, 0.05777864530682564, 0.0005205283523537219, 0.03071117214858532, 0.1587611436843872, 0.09317456930875778, 0.04945019260048866, 0.0020821134094148874, 0.5423905253410339, 0.03175222873687744, 0.9566711783409119, 0.0419512614607811, 0.8365753293037415, 0.0003922059840988368, 0.03882839158177376, 0.0898151695728302, 0.005098677705973387, 0.023924564942717552, 0.0003922059840988368, 0.004314265679568052, 0.004509735386818647, 0.9590704441070557, 0.0015032452065497637, 0.0022548676934093237, 0.0007516226032748818, 0.03081652708351612, 0.9956868290901184, 0.0033752096351236105, 0.0058380067348480225, 0.9924611449241638, 0.0018988080555573106, 0.996874213218689, 0.9967824220657349, 0.9950513243675232, 0.0007664576405659318, 0.0014051723992452025, 0.0003832288202829659, 0.9949897527694702, 0.0006387147004716098, 0.0005109717603772879, 0.00012774294009432197, 0.00012774294009432197, 0.0003832288202829659, 0.0005109717603772879, 0.012309395708143711, 0.40397197008132935, 0.2808780372142792, 0.008672528900206089, 0.10462985932826996, 0.03636866807937622, 0.01678553968667984, 0.060987457633018494, 0.0746956467628479, 0.0011190359946340322, 0.9892702102661133, 0.006983083672821522, 0.002327694557607174, 0.01778344437479973, 0.0019759382121264935, 0.978089451789856, 0.9985691905021667, 0.0010980413062497973, 0.998119592666626, 0.005164748523384333, 0.005164748523384333, 0.0025823742616921663, 0.9864669442176819, 0.9978766441345215, 0.0008580194553360343, 0.0008580194553360343, 0.00304894195869565, 0.997003972530365, 0.9954438805580139, 0.0014785673702135682, 0.9972936511039734, 0.98988276720047, 0.006161096040159464, 0.0020536985248327255, 0.0025951305869966745, 0.6496476531028748, 0.34601739048957825, 0.003071255050599575, 0.9950866103172302, 0.9393649697303772, 0.00374995986931026, 0.006249933037906885, 0.0012499867007136345, 0.0012499867007136345, 0.02124977298080921, 0.026874713599681854, 0.9974986910820007, 0.0011736558517441154, 0.9952601790428162, 0.0011736558517441154, 0.0037699537351727486, 0.9933828115463257, 0.6876917481422424, 0.014034525491297245, 0.2973240315914154, 0.0005197972641326487, 0.992976188659668, 0.004128799308091402, 0.997608482837677, 0.9194385409355164, 0.0795869380235672, 0.9942125082015991, 0.003292094450443983, 0.9967589974403381, 0.9973838925361633, 0.004802875220775604, 0.19931931793689728, 0.018911320716142654, 0.16870099306106567, 0.5955564975738525, 0.0018010782077908516, 0.00030017970129847527, 0.010206109844148159, 0.0012772191548720002, 0.9943150877952576, 0.0031930478289723396, 0.0006386095774360001, 0.17232955992221832, 0.41524720191955566, 0.040617723017930984, 0.00039434683276340365, 0.1376270353794098, 0.14314790070056915, 0.007886936888098717, 0.0828128308057785, 0.005355103872716427, 0.00038250742363743484, 0.8116807341575623, 0.00038250742363743484, 0.06081867963075638, 0.060053665190935135, 0.008032656274735928, 0.052786022424697876, 0.0072422269731760025, 0.08962256461381912, 0.17381344735622406, 0.22813016176223755, 0.05567461997270584, 0.003168474417179823, 0.3150368928909302, 0.12719161808490753, 0.0042776260524988174, 0.9924092888832092, 0.979625403881073, 0.0009062214521691203, 0.019030651077628136, 0.2978624999523163, 0.005325766280293465, 0.20123788714408875, 0.06695248931646347, 0.0007608237210661173, 0.08977720141410828, 0.11031944304704666, 0.12591633200645447, 0.09738543629646301, 0.004564942326396704, 0.007108463905751705, 0.0011847439454868436, 0.9904459714889526, 0.0011847439454868436, 0.9983530044555664, 0.016305577009916306, 0.008779926225543022, 0.0037628253921866417, 0.05644237995147705, 0.8767383098602295, 0.005017100367695093, 0.0012542750919237733, 0.03135687857866287, 0.004700737074017525, 0.994205892086029, 0.008253710344433784, 0.6593797206878662, 0.31914347410202026, 0.007336631417274475, 0.0018341578543186188, 0.002751236781477928, 0.9968879222869873, 0.01634894870221615, 0.8555949330329895, 0.12643186748027802, 0.001592478365637362, 0.007962391711771488, 0.9905215501785278, 0.0020330301485955715, 0.996184766292572, 0.9972324967384338, 0.001775950426235795, 0.01598355360329151, 0.9501334428787231, 0.03019115701317787, 0.20822054147720337, 0.6433904767036438, 0.14762726426124573, 0.0025127222761511803, 0.9933629035949707, 0.0016751482617110014, 0.0016751482617110014, 0.00550683680921793, 0.0006118707824498415, 0.9912306666374207, 0.001223741564899683, 0.0006118707824498415, 0.9955766201019287, 0.9917700886726379, 0.0026447202544659376, 0.0008611342054791749, 0.4090387523174286, 0.045640114694833755, 0.0008611342054791749, 0.5433756709098816, 0.004968139808624983, 0.9936280250549316, 0.9954360127449036, 0.002532915910705924, 0.028620406985282898, 0.012050697579979897, 0.9542645812034607, 0.003012674394994974, 0.001506337197497487, 0.9993436932563782, 0.9922286868095398, 0.0066038514487445354, 0.8288437128067017, 0.0009804933797568083, 0.004575635772198439, 0.002614649012684822, 0.06340523809194565, 0.09935666620731354, 0.0005271736299619079, 0.0005271736299619079, 0.0005271736299619079, 0.9979396462440491, 0.9608997702598572, 0.03521622344851494, 0.9919326305389404, 0.0027785226702690125, 0.09810024499893188, 0.13443367183208466, 0.112633615732193, 0.010900027118623257, 0.0009083356126211584, 0.0009083356126211584, 0.6431016325950623, 0.9959658980369568, 0.0019528742413967848, 0.9443085789680481, 0.053200483322143555, 0.02948901616036892, 0.052769821137189865, 0.009312321431934834, 0.6247015595436096, 0.0007760267471894622, 0.11718004196882248, 0.11485195904970169, 0.021728748455643654, 0.028712989762425423, 0.9959575533866882, 0.9291999340057373, 0.0012565245851874352, 0.06848058849573135, 0.9952518343925476, 0.9650208950042725, 0.007121925242245197, 0.002436448121443391, 0.005622572731226683, 0.0035609626211225986, 0.0007496763719245791, 0.008996115997433662, 0.006559668108820915, 0.9947146773338318, 0.9945356845855713, 0.0032185621093958616, 0.0010728540364652872, 0.0010728540364652872, 0.9978804588317871, 0.9951498508453369, 0.9976689219474792, 0.9961162805557251, 0.9961302280426025, 0.9906998872756958, 0.00794679019600153, 0.9927266240119934, 0.0005013642366975546, 0.5259311199188232, 0.004010913893580437, 0.002506821183487773, 0.015040927566587925, 0.43969643115997314, 0.0075204637832939625, 0.003509549656882882, 0.0010027284733951092, 0.9964101314544678, 0.9829557538032532, 0.013620634563267231, 0.0022701057605445385, 0.9950397610664368, 0.016707580536603928, 0.0013922984944656491, 0.7838640213012695, 0.09606859087944031, 0.10024549067020416, 0.9970037341117859, 0.3184647858142853, 0.6811750531196594, 0.0005144826718606055, 0.995283842086792, 0.0014550932683050632, 0.0014550932683050632, 0.9932072162628174, 0.003860863856971264, 0.001930431928485632, 0.9940956830978394, 0.0028731089551001787, 0.0023718709126114845, 0.97483891248703, 0.018974967300891876, 0.6069653630256653, 0.012368116527795792, 0.0009276087512262166, 0.003092029131948948, 0.03339391574263573, 0.014532537199556828, 0.08348479121923447, 0.04328840970993042, 0.0803927630186081, 0.12151674926280975, 0.9965226650238037, 0.00020700512686744332, 0.00020700512686744332, 0.0008280205074697733, 0.001863046083599329, 0.00020700512686744332, 0.9943960905075073, 0.0012878059642389417, 0.6471225023269653, 0.0025756119284778833, 0.34835153818130493, 0.9978266358375549, 0.001924455282278359, 0.996867835521698, 0.9971334338188171, 0.9962673783302307, 0.0005446209106594324, 0.5476163029670715, 0.0076246922835707664, 0.1775464117527008, 0.12335663288831711, 0.003540035802870989, 0.038668081164360046, 0.06099753826856613, 0.04002963379025459, 0.9987446665763855, 0.9993774890899658, 0.001360523165203631, 0.9183531403541565, 0.001360523165203631, 0.07754982262849808, 0.9890210032463074, 0.002800172660499811, 0.0005600345320999622, 0.002800172660499811, 0.0016801035962998867, 0.0005600345320999622, 0.002240138128399849, 0.9931549429893494, 0.0035853968001902103, 0.9971286058425903, 0.9926046133041382, 0.996919572353363, 0.9955746531486511, 0.0013031081762164831, 0.0026062163524329662, 0.9972041845321655, 0.0018329344457015395, 0.012830541469156742, 0.984285831451416, 0.9961450695991516, 0.7122859954833984, 0.0041969711892306805, 0.003597404109314084, 0.09173379838466644, 0.0029978365637362003, 0.08873596787452698, 0.09593077003955841, 0.2976885139942169, 0.0017408685525879264, 0.6919952630996704, 0.008704342879354954, 0.9981470108032227, 0.000747955811675638, 0.000747955811675638, 0.9844827055931091, 0.0025704510044306517, 0.0025704510044306517, 0.007711352780461311, 0.0004276475519873202, 0.9942805171012878, 0.0004276475519873202, 0.0004276475519873202, 0.0012829425977542996, 0.00213823770172894, 0.0004276475519873202, 0.9946251511573792, 0.0021669394336640835, 0.04519655182957649, 0.002415082883089781, 0.9370521903038025, 0.00034501185291446745, 0.003105106530711055, 0.0013800474116578698, 0.007245248649269342, 0.003105106530711055, 0.07208753377199173, 0.01880544424057007, 0.0020894939079880714, 0.0010447469539940357, 0.8953481316566467, 0.0010447469539940357, 0.009402722120285034, 0.9972625374794006, 0.9965260028839111, 0.0038208786863833666, 0.0007641757256351411, 0.9934284687042236, 0.0007641757256351411, 0.0007641757256351411, 0.46041056513786316, 0.12289208918809891, 0.004927277099341154, 0.01101391389966011, 0.018259909003973007, 0.05811288580298424, 0.1386883556842804, 0.002028878778219223, 0.1114434152841568, 0.07245995849370956, 0.9964806437492371, 0.9944288730621338, 0.006081423722207546, 0.9912720322608948, 0.9561891555786133, 0.0007081134244799614, 0.0014162268489599228, 0.01770283654332161, 0.01487038191407919, 0.00023603781301062554, 0.003540567122399807, 0.004720756318420172, 0.0007081134244799614, 0.9920570254325867, 0.002703152596950531, 0.00025294930674135685, 0.9986439347267151, 0.00025294930674135685, 0.00025294930674135685, 0.0005058986134827137, 0.9970733523368835, 0.0009318349766544998, 0.9979952573776245, 0.9929912686347961, 0.9989219307899475, 0.9984943270683289, 0.0035015319008380175, 0.9944350123405457, 0.9989299178123474, 0.17961512506008148, 0.001900689210742712, 0.6994536519050598, 0.000950344605371356, 0.11784273386001587, 0.9944719076156616, 0.003656146815046668, 0.996887743473053, 0.9967287182807922, 0.9932699203491211, 0.0006310316384769976, 0.458128958940506, 0.5325906872749329, 0.001893094857223332, 0.0006310316384769976, 0.006310316268354654, 0.9942874908447266, 0.005617443472146988, 0.0005431195604614913, 0.0010862391209229827, 0.997710645198822, 0.0002550185308791697, 0.0005100370617583394, 0.0005100370617583394, 0.9983975887298584, 0.09006219357252121, 0.0019368213834241033, 0.0009684106917120516, 0.8647907376289368, 0.0019368213834241033, 0.018399802967905998, 0.021305035799741745, 0.9962205290794373, 0.024650583043694496, 0.0018961987225338817, 0.0006320662214420736, 0.6238493919372559, 0.1611768901348114, 0.0018961987225338817, 0.18582747876644135, 0.9957655668258667, 0.0011780686909332871, 0.023561373353004456, 0.9742628335952759, 0.0004431263078004122, 0.01816817931830883, 0.012850663624703884, 0.002215631539002061, 0.9655722379684448, 0.9950433373451233, 0.9955321550369263, 0.002476448193192482, 0.9976902604103088, 0.0041670361533761024, 0.9938380718231201, 0.8203510642051697, 0.011274024844169617, 0.0006631779251620173, 0.0013263558503240347, 0.03315889462828636, 0.0026527117006480694, 0.0013263558503240347, 0.1299828737974167, 0.002595521043986082, 0.9951227307319641, 0.000519104185514152, 0.001038208371028304, 0.9952487349510193, 0.9951030611991882, 0.0026395306922495365, 0.7976266741752625, 0.008576630614697933, 0.005457855761051178, 0.18634679913520813, 0.0007796937134116888, 0.9942866563796997, 0.9983755946159363, 0.005346314050257206, 0.002201423514634371, 0.17674285173416138, 0.0012579562608152628, 0.0006289781304076314, 0.0009434671956114471, 0.649105429649353, 0.0034593797754496336, 0.16038942337036133, 0.997966468334198, 0.9955877065658569, 0.8870150446891785, 0.0019711446948349476, 0.01576915755867958, 0.09264379739761353, 0.0009855723474174738, 0.006480284500867128, 0.9470472931861877, 0.006480284500867128, 0.0009257549536414444, 0.03332717716693878, 0.0009257549536414444, 0.004628774709999561, 0.8100968599319458, 0.0014483258128166199, 0.003379426896572113, 0.17138521373271942, 0.008207179605960846, 0.005310527980327606, 0.9991002082824707, 0.0004086299450136721, 0.9961325526237488, 0.9967899322509766, 0.001543018501251936, 0.9714964032173157, 0.025070875883102417, 0.02857300080358982, 0.9633183479309082, 0.004081857390701771, 0.004081857390701771, 0.29162096977233887, 0.7069092988967896, 0.010486002080142498, 0.8179081678390503, 0.0011651113163679838, 0.003495334181934595, 0.08505313098430634, 0.08039268106222153, 0.0008597211563028395, 0.007737490348517895, 0.9074356555938721, 0.00042986057815141976, 0.06877769529819489, 0.009027072228491306, 0.00214930297806859, 0.003438884625211358, 0.9951411485671997, 0.997992217540741, 0.995215654373169, 0.0011612784583121538, 0.0005806392291560769, 0.0023225569166243076, 0.9961899518966675, 0.997542679309845, 0.9957067370414734, 0.9957943558692932, 0.9972341060638428, 0.9970294237136841, 0.0011749652912840247, 0.0005874826456420124, 0.0011749652912840247, 0.0005874826456420124, 0.9681713581085205, 0.02819916605949402, 0.002458711387589574, 0.012293556705117226, 0.9834845066070557, 0.0020933658815920353, 0.9901621341705322, 0.0010466829407960176, 0.004186731763184071, 0.0020933658815920353, 0.0051202476024627686, 0.007680371403694153, 0.9856476783752441, 0.909331738948822, 0.07301913946866989, 0.00048679427709430456, 0.0034075600560754538, 0.006328325718641281, 0.002677368465811014, 0.0017037800280377269, 0.0024339715018868446, 0.0007301914156414568, 0.0016385145718231797, 0.07701018452644348, 0.9200258851051331, 0.000651709851808846, 0.998419463634491, 0.9980388283729553, 0.983474850654602, 0.0008015279890969396, 0.014427503570914268, 0.8147716522216797, 0.002253240207210183, 0.004957128316164017, 0.17575274407863617, 0.0013519441708922386, 0.0017328927060589194, 0.9972797632217407, 0.01756792515516281, 0.9816078543663025, 0.40562501549720764, 0.025477273389697075, 0.0006704545812681317, 0.12537500262260437, 0.0006704545812681317, 0.4290909171104431, 0.012738636694848537, 0.9957623481750488, 0.9371679425239563, 0.05570578575134277, 0.005461351480334997, 0.0005793524906039238, 0.29952526092529297, 0.0011587049812078476, 0.04403079301118851, 0.0011587049812078476, 0.5747177004814148, 0.07821258902549744, 0.9977049827575684, 0.01373830996453762, 0.058515023440122604, 0.639849066734314, 0.0005088262842036784, 0.23406009376049042, 0.04604877904057503, 0.003052957821637392, 0.0002544131421018392, 0.0038161971606314182, 0.0001960436929948628, 0.0027446115855127573, 0.9937454462051392, 0.0001960436929948628, 0.0003920873859897256, 0.001960436813533306, 0.0001960436929948628, 0.0003920873859897256, 0.2366081178188324, 0.7621272206306458, 0.0008302039350382984, 0.0008302039350382984, 0.0011522112181410193, 0.0011522112181410193, 0.0011522112181410193, 0.9932060837745667, 0.00345663377083838, 0.002154799411073327, 0.0007182664703577757, 0.6356658339500427, 0.0028730658814311028, 0.0028730658814311028, 0.04165945574641228, 0.022266261279582977, 0.002154799411073327, 0.28515177965164185, 0.004309598822146654, 0.9937953948974609, 0.9953789114952087, 0.003560855519026518, 0.003560855519026518, 0.005341283045709133, 0.007121711038053036, 0.003560855519026518, 0.9756743907928467, 0.8601424098014832, 0.07297072559595108, 0.06476151943206787, 0.0009121340699493885, 0.8910712003707886, 0.009867898188531399, 0.0019735796377062798, 0.0019735796377062798, 0.09473182260990143, 0.9964123368263245, 0.0046361652202904224, 0.0023180826101452112, 0.9898213148117065, 0.9963231682777405, 0.9979711174964905, 0.000712836510501802, 0.000712836510501802, 0.9944642186164856, 0.003453000681474805, 0.996709406375885, 0.9979038238525391, 0.00215060543268919, 0.19462980329990387, 0.00860242173075676, 0.7924981117248535, 0.10220055282115936, 0.021842334419488907, 0.0943804606795311, 0.3351854681968689, 0.15721087157726288, 0.11541381478309631, 0.07577402889728546, 0.053122714161872864, 0.042606037110090256, 0.0021572676487267017, 0.9930359125137329, 0.003383427392691374, 0.001691713696345687, 0.005368209443986416, 0.0017894030315801501, 0.0008947015157900751, 0.9412260055541992, 0.016104627400636673, 0.029525151476264, 0.00447350786998868, 0.9758578538894653, 0.00023190537467598915, 0.003942391369491816, 0.0006957161240279675, 0.009508120827376842, 0.00023190537467598915, 0.0023190537467598915, 0.007189066614955664, 0.9965261220932007, 0.003546885447576642, 0.001182295149192214, 0.008276065811514854, 0.9706643223762512, 0.015369836241006851, 0.998309314250946, 0.9956154823303223, 0.8395206332206726, 0.007797405123710632, 0.022092647850513458, 0.0012995675206184387, 0.0025991350412368774, 0.12605805695056915, 0.9949203729629517, 0.00228192750364542, 0.828460156917572, 0.15765756368637085, 0.0015159380855038762, 0.0022739071864634752, 0.0007579690427519381, 0.008337659761309624, 0.9896262884140015, 0.009399435482919216, 0.997844398021698, 0.32961907982826233, 0.13961631059646606, 0.0001832235138863325, 0.01951330341398716, 0.05469221621751785, 0.03206411376595497, 0.17864291369915009, 0.08629827201366425, 0.0034812467638403177, 0.15592320263385773, 0.9934784173965454, 0.004787847865372896, 0.9953817129135132, 0.0014235888374969363, 0.9571262001991272, 0.0028471776749938726, 0.0384368970990181, 0.6328378915786743, 0.0003003501915372908, 0.0003003501915372908, 0.0012014007661491632, 0.2402801513671875, 0.09671276062726974, 0.0003003501915372908, 0.008409805595874786, 0.019522763788700104, 0.001861069118604064, 0.003722138237208128, 0.000930534559302032, 0.009305345825850964, 0.9835750460624695, 0.0028904785867780447, 0.9943246245384216, 0.003613545559346676, 0.993725061416626, 0.998665452003479, 0.0007863507489673793, 0.9965090751647949, 0.002601851476356387, 0.9974688291549683, 0.9936220645904541, 0.0023489883169531822, 0.009059705771505833, 0.9897728562355042, 0.001376996049657464, 0.9969451427459717, 0.9955384731292725, 0.0008745738887228072, 0.0017491477774456143, 0.0008745738887228072, 0.9943905472755432, 0.0017491477774456143, 0.9951428174972534, 0.0006488224025815725, 0.048012860119342804, 0.9284648895263672, 0.016869382932782173, 0.0032441120129078627, 0.0032441120129078627, 0.0006488224025815725, 0.0037102673668414354, 0.0016864852514117956, 0.9842327833175659, 0.0043848613277077675, 0.00033729703864082694, 0.005396752618253231, 0.4056108593940735, 0.0013843374326825142, 0.004153012298047543, 0.5433524250984192, 0.03737711161375046, 0.006921687163412571, 0.0006921687163412571, 0.9953474998474121, 0.48766109347343445, 0.15930262207984924, 0.006177040282636881, 0.09168028086423874, 0.0026008591521531343, 0.0013004295760765672, 0.1375204175710678, 0.044539712369441986, 0.06859765946865082, 0.0003251073940191418, 0.9983164072036743, 0.9965697526931763, 0.9964938759803772, 0.0021156982984393835, 0.32074496150016785, 0.6775187849998474, 0.9967511892318726, 0.9983559250831604, 0.9957252740859985, 0.003027920378372073, 0.019681481644511223, 0.003027920378372073, 0.9719624519348145, 0.005985728465020657, 0.12091170996427536, 0.17957185208797455, 0.396255224943161, 0.01436574850231409, 0.02474101074039936, 0.000399048556573689, 0.10734406113624573, 0.13567650318145752, 0.01436574850231409, 0.22824838757514954, 0.0003549741522874683, 0.6094906330108643, 0.0010649225441738963, 0.0010649225441738963, 0.0003549741522874683, 0.1586734503507614, 0.9949297308921814, 0.003173003438860178, 0.9931500554084778, 0.15310993790626526, 0.008825886063277721, 0.33116260170936584, 0.04643183574080467, 0.19301828742027283, 0.019186709076166153, 0.0003837341791950166, 0.16423822939395905, 0.08365404605865479, 0.001108023221604526, 0.0072021507658064365, 0.01883639395236969, 0.000554011610802263, 0.15456923842430115, 0.001108023221604526, 0.23213085532188416, 0.4587216079235077, 0.12576062977313995, 0.0024803271517157555, 0.0024803271517157555, 0.034724581986665726, 0.9598866701126099, 0.9338069558143616, 0.029390204697847366, 0.03606979548931122, 0.9971591234207153, 0.998383641242981, 0.9837631583213806, 0.002522469498217106, 0.007567408960312605, 0.005044938996434212, 0.99454665184021, 0.9924575686454773, 0.002273671329021454, 0.002273671329021454, 0.001136835664510727, 0.001136835664510727, 0.001136835664510727, 0.46270832419395447, 0.5363757014274597, 0.6681388020515442, 0.0064434753730893135, 0.000991303939372301, 0.010408691130578518, 0.019826076924800873, 0.12093907594680786, 0.011895646341145039, 0.16108688712120056, 0.9969160556793213, 0.1742163449525833, 0.5988180041313171, 0.22607609629631042, 0.0009162372443825006, 0.0009162372443825006, 0.761393129825592, 0.18874487280845642, 0.016492269933223724, 0.031152065843343735, 0.0009162372443825006, 0.011537455953657627, 0.02142670378088951, 0.9642016887664795, 0.0016482080100104213, 0.0016482080100104213, 0.0017517574597150087, 0.11911951005458832, 0.04437785595655441, 0.01051054522395134, 0.746248722076416, 0.0035035149194300175, 0.004087434150278568, 0.06656678766012192, 0.0029195959214121103, 0.003440116299316287, 0.1811794638633728, 0.8130141496658325, 0.998359739780426, 0.0017963491845875978, 0.9969738125801086, 0.008446892723441124, 0.0029380496125668287, 0.0708804503083229, 0.4109596908092499, 0.0011017685756087303, 0.1604909598827362, 0.011384942568838596, 0.25046873092651367, 0.0837344154715538, 0.26729655265808105, 0.5325859189033508, 0.1993851661682129, 0.0003345388686284423, 0.996120035648346, 0.0019379766890779138, 0.0009689883445389569, 0.00028164745890535414, 0.00028164745890535414, 0.0532313734292984, 0.0011265898356214166, 0.8452240824699402, 0.006759539246559143, 0.027883099392056465, 0.061962444335222244, 0.0016898848116397858, 0.001408237381838262, 0.0007862626807764173, 0.005503838881850243, 0.04717576131224632, 0.0007862626807764173, 0.8908355832099915, 0.04638949781656265, 0.0007862626807764173, 0.0070763640105724335, 0.0007862626807764173, 0.9967861771583557, 0.9984484314918518, 0.002205071272328496, 0.9955897331237793, 0.001102535636164248, 0.0003555620787665248, 0.6040999293327332, 0.007466803304851055, 0.0106668621301651, 0.3744068443775177, 0.0003555620787665248, 0.0021333724725991488, 0.9964919090270996, 0.9899170994758606, 0.0019602319225668907, 0.0019602319225668907, 0.005880695302039385, 0.997410237789154, 0.9966322779655457, 0.01644490845501423, 0.0014949917094781995, 0.0007474958547390997, 0.003737479215487838, 0.920914888381958, 0.002989983418956399, 0.053819701075553894, 0.0001951027661561966, 0.003316747024655342, 0.015022912994027138, 0.9809767007827759, 0.0001951027661561966, 0.9863560795783997, 0.007890848442912102, 0.0026302828919142485, 0.0026302828919142485, 0.002945150015875697, 0.992515504360199, 0.002945150015875697, 0.9979228973388672, 0.9977150559425354, 0.9974788427352905, 0.0044110906310379505, 0.0006301558460108936, 0.9887145161628723, 0.0037809349596500397, 0.0018904674798250198, 0.0004007437964901328, 0.9922416806221008, 0.0004007437964901328, 0.004408181644976139, 0.002003719098865986, 0.0012066412018612027, 0.017496297135949135, 0.001809961860999465, 0.886277973651886, 0.0012066412018612027, 0.00422324426472187, 0.08567152917385101, 0.001809961860999465, 0.9982233643531799, 0.9965322017669678, 0.00837454292923212, 0.002576782600954175, 0.15847212076187134, 0.21644973754882812, 0.0006441956502385437, 0.0019325868925079703, 0.030921390280127525, 0.4709070026874542, 0.051535651087760925, 0.05862180143594742, 0.9957684874534607, 0.0013188986340537667, 0.0013188986340537667, 0.9979280829429626, 0.004107596818357706, 0.9954076409339905, 0.0008684032945893705, 0.9977954030036926, 0.9981771111488342, 0.06501511484384537, 0.001383300288580358, 0.9309611320495605, 0.001383300288580358, 0.001383300288580358, 0.997861921787262, 0.9948967099189758, 0.002774932188913226, 0.9906507730484009, 0.005549864377826452, 0.0032841938082128763, 0.9951106905937195, 0.9950253963470459, 0.0015682840021327138, 0.9864506721496582, 0.0007841420010663569, 0.0015682840021327138, 0.00862556230276823, 0.9968852400779724, 0.9960005283355713, 0.002258504740893841, 0.0018883656011894345, 0.0006294552003964782, 0.7396098375320435, 0.10763683915138245, 0.0006294552003964782, 0.0006294552003964782, 0.06231606379151344, 0.06798116117715836, 0.011959648691117764, 0.007553462404757738, 0.0013809235533699393, 0.9970267415046692, 0.0013809235533699393, 0.996990978717804, 0.13148029148578644, 0.08434584736824036, 0.2968643009662628, 0.07235550135374069, 0.058711323887109756, 0.0616055428981781, 0.07524972409009933, 0.07070166617631912, 0.14677830040454865, 0.0020673000253736973, 0.9979763031005859, 0.013235067948698997, 0.0022058445028960705, 0.01102922298014164, 0.9705716371536255, 0.030191810801625252, 0.9688336253166199, 0.0005391394952312112, 0.9928759932518005, 0.9957956075668335, 0.9975570440292358, 0.9978711605072021, 0.9953879714012146, 0.997384786605835, 0.11811745911836624, 0.8803871273994446, 0.8355128765106201, 0.002022054512053728, 0.12455855309963226, 0.015772024169564247, 0.001617643516510725, 0.00040441087912768126, 0.019816134124994278, 0.1571572870016098, 0.009822330437600613, 0.11484571546316147, 0.2874920666217804, 0.0003777819511014968, 0.3894931972026825, 0.002644473686814308, 0.03815597668290138, 0.9955989718437195, 0.0006918143481016159, 0.9969044923782349, 0.00034590717405080795, 0.0013836286962032318, 0.00034590717405080795, 0.9944481253623962, 0.9897776246070862, 0.005856672301888466, 0.9946029782295227, 0.991898238658905, 0.002105941064655781, 0.006317823193967342, 0.6115752458572388, 0.00021951731469016522, 0.034464217722415924, 0.0052684154361486435, 0.09483148157596588, 0.07222119718790054, 0.059269677847623825, 0.003292759880423546, 0.02919580414891243, 0.08978258073329926, 0.9975051879882812, 0.867167055606842, 0.00040807860204949975, 0.09345000237226486, 0.03876746818423271, 0.9773879051208496, 0.018732350319623947, 0.002203805837780237, 0.9967883229255676, 0.0006880497094243765, 0.0006880497094243765, 0.686673641204834, 0.12660114467144012, 0.17751683294773102, 0.008256596513092518, 0.3243272304534912, 0.05086736008524895, 0.0007649227045476437, 0.13156670331954956, 0.005354458931833506, 0.39546504616737366, 0.005354458931833506, 0.08299411088228226, 0.002677229465916753, 0.0021500836592167616, 0.006450251210480928, 0.9890384674072266, 0.998324453830719, 0.9973693490028381, 0.3314417898654938, 0.016791103407740593, 0.0883358046412468, 0.08468557149171829, 0.0014600959839299321, 0.008030528202652931, 0.0029201919678598642, 0.4665006697177887, 0.012151259928941727, 0.9865666031837463, 0.0011572628282010555, 0.20016765594482422, 0.0022617813665419817, 0.7961470484733582, 0.22721947729587555, 0.014482120051980019, 0.046442661434412, 0.08289765566587448, 0.10886558890342712, 0.3900184631347656, 0.0029963008128106594, 0.1268433928489685, 0.0004993834299966693, 0.010583862662315369, 0.7683884501457214, 0.0021167725790292025, 0.08749326318502426, 0.12206721305847168, 0.0007055908208712935, 0.00846709031611681, 0.03941596299409866, 0.9544293880462646, 0.002815426094457507, 0.0014077130472287536, 0.0014077130472287536, 0.005020903889089823, 0.2031792551279068, 0.007029265630990267, 0.0030125423800200224, 0.05757303535938263, 0.18409982323646545, 0.5258560180664062, 0.013723804615437984, 0.003951893653720617, 0.0013172978069633245, 0.9906079769134521, 0.003951893653720617, 0.9963266253471375, 0.9949606657028198, 0.0019388889195397496, 0.592631459236145, 0.0019388889195397496, 0.0043457853607833385, 0.17409884929656982, 0.1189408078789711, 0.034632567316293716, 0.006685824133455753, 0.0021394637878984213, 0.06264617294073105, 0.9889967441558838, 0.010015157051384449, 0.7971298694610596, 0.20101536810398102, 0.9983174204826355, 0.9988381266593933, 0.991916298866272, 0.0058233835734426975, 0.9969280362129211, 0.9958411455154419, 0.0033350903540849686, 0.00222339341416955, 0.013340361416339874, 0.9127030372619629, 0.06670180708169937, 0.00222339341416955, 0.0016123733948916197, 0.0016123733948916197, 0.9045414924621582, 0.09029290825128555, 0.0019858432933688164, 0.0019858432933688164, 0.9949074983596802, 0.9950821399688721, 0.9974920153617859, 0.9967390894889832, 0.002089599845930934, 0.5234012603759766, 0.051228996366262436, 0.00105265062302351, 0.014854068867862225, 0.12666895985603333, 0.01695937104523182, 0.000701767043210566, 0.03403570130467415, 0.091697558760643, 0.13941772282123566, 0.9980044364929199, 0.0010789236985147, 0.2391749620437622, 0.7595025300979614, 0.0006065941997803748, 0.0006065941997803748, 0.0018197825411334634, 0.0006065941997803748, 0.010918695479631424, 0.9329418540000916, 0.034575868397951126, 0.01819782517850399, 0.004863920155912638, 0.0032426135148853064, 0.9857544898986816, 0.0016213067574426532, 0.0016213067574426532, 0.0016213067574426532, 0.0032426135148853064, 0.9979243874549866, 0.0011908406158909202, 0.9969345331192017, 0.01858861930668354, 0.9604119658470154, 0.01858861930668354, 0.9963592886924744, 0.9973903894424438, 0.9982077479362488, 0.0007055648602545261, 0.6950695514678955, 8.819560753181577e-05, 0.26396945118904114, 0.00202849879860878, 0.03686576336622238, 8.819560753181577e-05, 0.001146542839705944, 8.819560753181577e-05, 0.009524748660624027, 0.7448353171348572, 0.0009524748311378062, 0.0009524748311378062, 0.0200019720941782, 0.21716426312923431, 0.005714849103242159, 0.9983799457550049, 0.997897744178772, 0.9949206113815308, 0.0034072622656822205, 0.9947925806045532, 0.003198690013960004, 0.005400785710662603, 0.0004154450725764036, 0.0004154450725764036, 0.0004154450725764036, 0.003323560580611229, 0.9704796671867371, 0.00872434675693512, 0.011217016726732254, 0.9931908845901489, 0.005740987602621317, 0.030482934787869453, 0.950051486492157, 0.0025402444880455732, 0.0025402444880455732, 0.01270122267305851, 0.9960467219352722, 0.0012138597667217255, 0.9965789318084717, 0.0040260199457407, 0.006710032932460308, 0.9192745089530945, 0.0035786842927336693, 0.06620565801858902, 0.9933705925941467, 0.0034019541926681995, 0.003710804507136345, 0.006493907887488604, 0.0009277011267840862, 0.0018554022535681725, 0.9750139117240906, 0.006493907887488604, 0.0009277011267840862, 0.003710804507136345, 0.9967387318611145, 0.315186083316803, 0.46809324622154236, 0.0019729959312826395, 0.2096308022737503, 0.0004932489828206599, 0.0034527427051216364, 0.0025234778877347708, 0.0025234778877347708, 0.9917267560958862, 0.9977623820304871, 0.00115439691580832, 0.7965338826179504, 0.20086506009101868, 0.9973024725914001, 0.9958549737930298, 0.00578039838001132, 0.04865168780088425, 0.02312159352004528, 0.9186016321182251, 0.00289019919000566, 0.000481699884403497, 0.000481699884403497, 0.9976881146430969, 0.0007000772166065872, 0.0003500386083032936, 0.0003500386083032936, 0.6465213298797607, 0.0007000772166065872, 0.1533169150352478, 0.06685737520456314, 0.13126447796821594, 0.001267935149371624, 0.9978649020195007, 0.9972079992294312, 0.9954178929328918, 0.19295872747898102, 0.0018089880468323827, 0.8049997091293335, 0.003640118520706892, 0.22083385288715363, 0.002426745602861047, 0.0012133728014305234, 0.771705150604248, 0.002988544525578618, 0.002988544525578618, 0.002988544525578618, 0.000996181508526206, 0.7072888612747192, 0.10758760571479797, 0.17532794177532196, 0.9963749647140503, 0.001949853147380054, 0.000974926573690027, 0.6915301084518433, 0.0006726946448907256, 0.0033634731080383062, 0.20651724934577942, 0.09619533270597458, 0.002018083818256855, 0.9935399889945984, 0.005524050910025835, 0.0007891501300036907, 0.9950646758079529, 0.9970381855964661, 0.9987481236457825, 0.0009779664687812328, 0.005867798812687397, 0.0019559329375624657, 0.9906800389289856, 0.0018604854121804237, 0.01395364012569189, 0.0009302427060902119, 0.6818678975105286, 0.3013986349105835, 0.0025563358794897795, 0.0012781679397448897, 0.020450687035918236, 0.005112671758979559, 0.8870485424995422, 0.08180274814367294, 0.001361696980893612, 0.001361696980893612, 0.9972161054611206, 0.9965303540229797, 0.9983915090560913, 0.9954410791397095, 0.9973536133766174, 0.0013192507904022932, 0.7810953259468079, 0.001861227909103036, 0.001240818644873798, 0.003722455818206072, 0.12904514372348785, 0.011787776835262775, 0.000620409322436899, 0.001861227909103036, 0.06886543333530426, 0.000770171289332211, 0.969645619392395, 0.0003850856446661055, 0.0003850856446661055, 0.008086798712611198, 0.000770171289332211, 0.000770171289332211, 0.013477997854351997, 0.005006113555282354, 0.976382315158844, 0.01895887963473797, 0.0018958878936246037, 0.0036903119180351496, 0.2001994252204895, 0.03505796566605568, 0.022141871973872185, 0.08764491230249405, 0.6513400673866272, 0.9952829480171204, 0.9967702627182007, 0.1184794157743454, 0.07601555436849594, 0.0036697164177894592, 0.06553065031766891, 0.17431151866912842, 0.3294880986213684, 0.12293549627065659, 0.029357731342315674, 0.0796852707862854, 0.9954025745391846, 0.002661504317075014, 0.0008871680474840105, 0.9945430755615234, 0.9949180483818054, 0.997134804725647, 0.9985604286193848, 0.0005179255385883152, 0.0005179255385883152, 0.9975358843803406, 0.0012391749769449234, 0.0060178660787642, 0.9789062142372131, 0.0120357321575284, 0.948611319065094, 0.010903578251600266, 0.0021807155571877956, 0.03489144891500473, 0.9959848523139954, 0.9978771209716797, 0.9987115263938904, 0.0010808740044012666, 0.014051362872123718, 0.004323496017605066, 0.0032426221296191216, 0.0010808740044012666, 0.9749484062194824, 0.9985767602920532, 0.001858571544289589, 0.0007434286526404321, 0.8750154972076416, 0.00037171432632021606, 0.12155058234930038, 0.00037171432632021606, 0.9762420058250427, 0.021165138110518456, 0.525672435760498, 0.0013319402933120728, 0.30146247148513794, 0.00932358205318451, 0.15361711382865906, 0.0031078606843948364, 0.0008879601955413818, 0.0048837810754776, 0.0004439800977706909, 0.9948356747627258, 0.9907715320587158, 0.005312447901815176, 0.9983676075935364, 0.003099546767771244, 0.003099546767771244, 0.9918549656867981, 0.9995201826095581, 0.997829020023346, 0.001244175829924643, 0.00918655190616846, 0.8281020522117615, 0.003937093541026115, 0.0013123645912855864, 0.005249458365142345, 0.15354664623737335, 0.0020431806333363056, 0.992985725402832, 0.0020431806333363056, 0.0020431806333363056, 0.9986506104469299, 0.0006765925791114569, 0.9967719316482544, 0.0009150250698439777, 0.0009150250698439777, 0.0009150250698439777, 0.997377336025238, 0.016646379604935646, 0.00924798846244812, 0.10958866029977798, 0.00077066570520401, 0.131475567817688, 0.1245395764708519, 0.2940860390663147, 0.2016061395406723, 0.04608580842614174, 0.0661231130361557, 0.99367755651474, 0.0026112496852874756, 0.9557173848152161, 0.039168745279312134, 0.9966310858726501, 0.999391496181488, 0.997936487197876, 0.99313884973526, 0.00044322124449536204, 0.011523752473294735, 0.008421204052865505, 0.13075026869773865, 0.08598492294549942, 0.17285628616809845, 0.00044322124449536204, 0.019501734524965286, 0.5699825286865234, 0.33561816811561584, 0.31545454263687134, 0.005040905438363552, 0.045102834701538086, 0.04351096972823143, 0.10426714271306992, 0.00238779722712934, 0.013530850410461426, 0.11779799312353134, 0.017510512843728065, 0.9959995150566101, 0.99714595079422, 0.02541191317141056, 0.9730645418167114, 0.00105882971547544, 0.0013550816802307963, 0.8970640897750854, 0.0027101633604615927, 0.024391470476984978, 0.07181932777166367, 0.0013550816802307963, 0.0009064415353350341, 0.9979921579360962, 0.0022645231802016497, 0.9963902235031128, 0.9954867959022522, 0.000758650538045913, 0.001137975719757378, 0.9972460865974426, 0.0003793252690229565, 0.0003793252690229565, 0.0003793252690229565, 0.9980246424674988, 0.9962705969810486, 0.9984567761421204, 0.3048878312110901, 0.0008516420493833721, 0.6932365894317627, 0.0008516420493833721, 0.9945811629295349, 0.9979948997497559, 0.7064505815505981, 0.28748518228530884, 0.0027249781414866447, 0.0027249781414866447, 0.9966145157814026, 0.997766375541687, 0.0009805080480873585, 0.004902540240436792, 0.9903131723403931, 0.001961016096174717, 0.0009805080480873585, 0.001961016096174717, 0.9953622817993164, 0.9971665143966675, 0.9955969452857971, 0.992139458656311, 0.003409413853660226, 0.9932935833930969, 0.004299972206354141, 0.9901265501976013, 0.008149189874529839, 0.9970717430114746, 0.0029712843243032694, 0.9953802227973938, 0.0009904280304908752, 0.0748966708779335, 0.9207884669303894, 0.0014685620553791523, 0.9928158521652222, 0.0017834665486589074, 0.0005944888689555228, 0.0011889777379110456, 0.9963633418083191, 0.9980557560920715, 0.00199912884272635, 0.9975653290748596, 0.0009963064221665263, 0.0019926128443330526, 0.0009963064221665263, 0.0538005493581295, 0.0009963064221665263, 0.9405133128166199, 0.9955981969833374, 0.9986278414726257, 0.0007838584715500474, 0.0007838584715500474, 0.0007838584715500474, 0.9900132417678833, 0.00783858448266983, 0.0010462490608915687, 0.0010462490608915687, 0.0010462490608915687, 0.0010462490608915687, 0.9845203757286072, 0.007323743309825659, 0.003138747299090028, 0.9982000589370728, 0.0018211210845038295, 0.014568968676030636, 0.9797631502151489, 0.9969761371612549, 0.7440941333770752, 0.23688657581806183, 0.0007113710744306445, 0.0007113710744306445, 0.017072906717658043, 0.0007113710744306445, 0.9935176372528076, 0.9974081516265869, 0.0014253015397116542, 0.008551809936761856, 0.9848834276199341, 0.004275904968380928, 0.9958058595657349, 0.9982324838638306, 0.0008762591751292348, 0.009638851508498192, 0.001314388820901513, 0.011829499155282974, 0.9765908718109131, 0.07110288739204407, 0.9026975035667419, 0.024731438606977463, 0.00038093765033409, 0.2034206986427307, 0.001142812892794609, 0.22589601576328278, 0.004952189512550831, 0.00076187530066818, 0.007618752773851156, 0.5554071068763733, 0.9980590343475342, 0.1499837189912796, 0.0010888109682127833, 0.3808116614818573, 0.0010888109682127833, 0.008710487745702267, 0.11160312592983246, 0.000816608255263418, 0.06423985213041306, 0.13664577901363373, 0.14453965425491333, 0.9985838532447815, 0.9983401298522949, 0.04027463123202324, 0.0028429150115698576, 0.0018952767131850123, 0.060175035148859024, 0.1814727485179901, 0.0018952767131850123, 0.21653535962104797, 0.28713440895080566, 0.0014214575057849288, 0.20563752949237823, 0.7893386483192444, 0.19977553188800812, 0.0015020716236904263, 0.008261393755674362, 0.9972907304763794, 0.990994393825531, 0.0010842389892786741, 0.0021684779785573483, 0.0010842389892786741, 0.0043369559571146965, 0.0022216280922293663, 0.7597967982292175, 0.0022216280922293663, 0.0022216280922293663, 0.21327628195285797, 0.0022216280922293663, 0.01777302473783493, 0.00779386330395937, 0.7287262082099915, 0.054557040333747864, 0.20751160383224487, 0.001397313317283988, 0.18654131889343262, 0.8097430467605591, 0.00209596985951066, 0.0029857009649276733, 0.01716778054833412, 0.7400806546211243, 0.002239275723695755, 0.0776282250881195, 0.0029857009649276733, 0.03284271061420441, 0.033215925097465515, 0.09069066494703293, 0.9944735765457153, 0.9906923174858093, 0.0074581606313586235, 0.000712422130163759, 0.001424844260327518, 0.1773931086063385, 0.1538831740617752, 0.022797508165240288, 0.609833300113678, 0.0334838405251503, 0.000712422130163759, 0.000712422130163759, 0.0016955191968008876, 0.005934317130595446, 0.004238797817379236, 0.9808578491210938, 0.005934317130595446, 0.0008477595984004438, 0.9947275519371033, 0.0006203067023307085, 0.15631729364395142, 0.07071496546268463, 0.7480899095535278, 0.02419196255505085, 0.005067563150078058, 0.9932423233985901, 0.9944844841957092, 0.0017961299745365977, 0.1571613848209381, 0.0008980649872682989, 0.0035922599490731955, 0.004490325227379799, 0.6385242342948914, 0.1930839717388153, 0.9978008270263672, 0.9951689839363098, 0.09755600243806839, 0.9014897346496582, 0.9933492541313171, 0.0024883763398975134, 0.9953505396842957, 0.7935906648635864, 0.0010020084446296096, 0.0010020084446296096, 0.0010020084446296096, 0.011022092774510384, 0.1843695491552353, 0.0010020084446296096, 0.007014058995991945, 0.9942436218261719, 0.0010032730642706156, 0.0010032730642706156, 0.002006546128541231, 0.9967568516731262, 0.0007830180693417788, 0.9975650310516357, 0.2457103282213211, 0.022828832268714905, 0.4854130744934082, 0.15799956023693085, 0.08470698446035385, 0.0024030350614339113, 0.0006007587653584778, 0.0020637107081711292, 0.996772289276123, 0.0020637107081711292, 0.34833985567092896, 0.0006026641349308193, 0.03676250949501991, 0.6080880761146545, 0.005423977039754391, 0.29935789108276367, 0.6979182362556458, 0.0005835436750203371, 0.0005835436750203371, 0.0011670873500406742, 0.9381883144378662, 0.008143995888531208, 0.05212157592177391, 0.9964333772659302, 0.9700739979743958, 0.0013701609568670392, 0.0013701609568670392, 0.026033058762550354, 0.995389997959137, 0.12574543058872223, 0.0008525113807991147, 0.0017050227615982294, 0.6577125191688538, 0.00042625569039955735, 0.020886529237031937, 0.18542122840881348, 0.00042625569039955735, 0.006820091046392918, 0.9981933832168579, 0.997342586517334, 0.007865429855883121, 0.0019663574639707804, 0.003932714927941561, 0.003932714927941561, 0.9831787347793579, 0.9973095059394836, 0.9941485524177551, 0.0042065526358783245, 0.5055720806121826, 0.13090293109416962, 0.0009251090232282877, 0.021585876122117043, 0.0255946833640337, 0.04656381905078888, 0.14339189231395721, 0.09806155413389206, 0.011255493387579918, 0.01618940755724907, 0.9955509901046753, 0.9957516193389893, 0.9973968267440796, 0.001729681622236967, 0.9974497556686401, 0.9225865006446838, 0.042447641491889954, 0.03465113788843155, 0.9958304166793823, 0.9967482089996338, 0.9976176619529724, 0.9963356256484985, 0.996740460395813, 0.003573167137801647, 0.03751825541257858, 0.03394508734345436, 0.9254502654075623, 0.9963144063949585, 0.9969903826713562, 0.10182277113199234, 0.20725788176059723, 0.06705401837825775, 0.09211461246013641, 0.06140974164009094, 0.219223752617836, 0.1426873356103897, 0.03160795569419861, 0.030253328382968903, 0.04628307744860649, 0.9969253540039062, 0.001401080982759595, 0.835044264793396, 0.06304864585399628, 0.004203242715448141, 0.0966745913028717, 0.11899743974208832, 0.00032963280682452023, 0.0006592656136490405, 0.8786362409591675, 0.001318531227298081, 0.271696001291275, 0.00147660868242383, 0.000738304341211915, 0.07013891637325287, 0.000738304341211915, 0.6541376709938049, 0.001829946762882173, 0.001829946762882173, 0.001829946762882173, 0.993661105632782, 0.001456386293284595, 0.9976245760917664, 0.007611418142914772, 0.9913871884346008, 0.996684730052948, 0.10699321329593658, 0.02833610214293003, 0.40403375029563904, 0.0004885534872300923, 0.0024427673779428005, 0.07230591773986816, 0.13239799439907074, 0.1846732199192047, 0.06790893524885178, 0.9965175986289978, 0.0021853456273674965, 0.996446967124939, 0.9971576929092407, 0.043948836624622345, 0.2990333139896393, 0.09454285353422165, 0.003473619231954217, 0.040928296744823456, 0.004832861479371786, 0.10994759947061539, 0.3632197380065918, 0.001057188492268324, 0.03896494582295418, 0.9988847970962524, 0.9959490895271301, 0.9933599233627319, 0.37000203132629395, 0.0005393615574575961, 0.5981519222259521, 0.03128296881914139, 0.003529365174472332, 0.9952809810638428, 0.9675533771514893, 0.0013419602764770389, 0.0008946401649154723, 0.0017892803298309445, 0.00044732008245773613, 0.02549724467098713, 0.002236600499600172, 0.7667046189308167, 0.0008807635167613626, 0.0004403817583806813, 0.0004403817583806813, 0.012771070934832096, 0.019817179068922997, 0.19905255734920502, 0.2994614243507385, 0.007105864584445953, 0.0010151235619559884, 0.6912990808486938, 0.9937551021575928, 0.03476887568831444, 0.9614350199699402, 0.001511690323241055], \"Term\": [\"abandon\", \"about\", \"about\", \"about\", \"about\", \"about\", \"about\", \"about\", \"about\", \"about\", \"about\", \"accid\", \"accid\", \"accus\", \"accus\", \"accus\", \"accus\", \"accus\", \"accus\", \"accus\", \"accus\", \"action\", \"action\", \"action\", \"action\", \"action\", \"action\", \"address\", \"address\", \"afghan\", \"afghan\", \"afghanistan\", \"afghanistan\", \"africa\", \"african\", \"after\", \"after\", \"after\", \"after\", \"after\", \"after\", \"after\", \"after\", \"after\", \"after\", \"against\", \"against\", \"against\", \"against\", \"against\", \"against\", \"against\", \"against\", \"against\", \"against\", \"age\", \"age\", \"age\", \"ahead\", \"ahead\", \"ahead\", \"air\", \"airport\", \"airport\", \"alert\", \"alert\", \"alert\", \"alert\", \"alleg\", \"alleg\", \"alleg\", \"anim\", \"anim\", \"anniversari\", \"announc\", \"announc\", \"anoth\", \"anoth\", \"anoth\", \"anti\", \"anti\", \"anti\", \"apologis\", \"apologis\", \"appeal\", \"appeal\", \"appeal\", \"appeal\", \"appeal\", \"appeal\", \"appeal\", \"appl\", \"approv\", \"approv\", \"approv\", \"armi\", \"armi\", \"arrest\", \"arrest\", \"arrest\", \"arrest\", \"arriv\", \"arriv\", \"ash\", \"assault\", \"assault\", \"assess\", \"assess\", \"asylum\", \"athlet\", \"attack\", \"attack\", \"attack\", \"attack\", \"attack\", \"attack\", \"attack\", \"attack\", \"aussi\", \"aussi\", \"aussi\", \"aussi\", \"aust\", \"aust\", \"aust\", \"aust\", \"aust\", \"aust\", \"aust\", \"aust\", \"australia\", \"australia\", \"australia\", \"australia\", \"australia\", \"australia\", \"australia\", \"australia\", \"australian\", \"australian\", \"australian\", \"australian\", \"australian\", \"australian\", \"australian\", \"australian\", \"avoid\", \"avoid\", \"award\", \"award\", \"award\", \"back\", \"back\", \"back\", \"back\", \"back\", \"back\", \"back\", \"back\", \"back\", \"back\", \"baghdad\", \"baghdad\", \"baghdad\", \"baghdad\", \"bail\", \"ban\", \"ban\", \"ban\", \"ban\", \"ban\", \"ban\", \"ban\", \"ban\", \"bash\", \"bash\", \"battl\", \"battl\", \"battl\", \"battl\", \"battl\", \"battl\", \"beaconsfield\", \"beat\", \"beat\", \"beat\", \"beazley\", \"beazley\", \"beazley\", \"befor\", \"befor\", \"benefit\", \"better\", \"better\", \"better\", \"better\", \"bird\", \"bird\", \"bird\", \"blast\", \"blast\", \"blast\", \"blast\", \"blaze\", \"blaze\", \"blaze\", \"blaze\", \"blaze\", \"blood\", \"blow\", \"blow\", \"blue\", \"blue\", \"blue\", \"blue\", \"blue\", \"board\", \"board\", \"boat\", \"boat\", \"bodi\", \"bodi\", \"bodi\", \"bodi\", \"bodi\", \"bomb\", \"bomber\", \"bomber\", \"boost\", \"boost\", \"boost\", \"boost\", \"boost\", \"boost\", \"break\", \"break\", \"break\", \"break\", \"bring\", \"bring\", \"brown\", \"brown\", \"build\", \"build\", \"build\", \"build\", \"build\", \"build\", \"build\", \"bull\", \"bull\", \"burn\", \"burn\", \"bush\", \"bush\", \"bush\", \"bush\", \"bush\", \"bush\", \"bush\", \"bush\", \"bush\", \"bushrang\", \"busi\", \"busi\", \"busi\", \"bust\", \"call\", \"call\", \"call\", \"call\", \"call\", \"call\", \"call\", \"call\", \"campus\", \"cancer\", \"cancer\", \"cancer\", \"cancer\", \"cane\", \"cannabi\", \"cap\", \"capit\", \"carbon\", \"card\", \"card\", \"carpent\", \"case\", \"case\", \"case\", \"case\", \"case\", \"case\", \"case\", \"case\", \"case\", \"cast\", \"cattl\", \"cattl\", \"cattl\", \"ceas\", \"celebr\", \"celebr\", \"celebr\", \"celebr\", \"celebr\", \"cell\", \"centr\", \"centr\", \"centr\", \"central\", \"central\", \"central\", \"challeng\", \"challeng\", \"challeng\", \"champ\", \"champ\", \"chanc\", \"chanc\", \"chanc\", \"chang\", \"chang\", \"chang\", \"chang\", \"chang\", \"chang\", \"chang\", \"chang\", \"chang\", \"chang\", \"charg\", \"charg\", \"charg\", \"charg\", \"charg\", \"charg\", \"chariti\", \"child\", \"child\", \"child\", \"child\", \"children\", \"christma\", \"christma\", \"church\", \"citrus\", \"claim\", \"claim\", \"claim\", \"claim\", \"claim\", \"claim\", \"claim\", \"claim\", \"claim\", \"climat\", \"closer\", \"coach\", \"coach\", \"coach\", \"coach\", \"coast\", \"coast\", \"coast\", \"coast\", \"coast\", \"coast\", \"coast\", \"code\", \"code\", \"cole\", \"collis\", \"combat\", \"comment\", \"comment\", \"comment\", \"commission\", \"commit\", \"commit\", \"commit\", \"committe\", \"communiti\", \"communiti\", \"communiti\", \"communiti\", \"communiti\", \"communiti\", \"communiti\", \"compani\", \"compani\", \"compani\", \"compani\", \"concern\", \"concern\", \"concern\", \"confer\", \"confer\", \"confer\", \"confer\", \"consid\", \"consid\", \"consid\", \"consid\", \"consid\", \"consid\", \"consid\", \"contain\", \"contain\", \"continu\", \"continu\", \"continu\", \"continu\", \"continu\", \"continu\", \"continu\", \"continu\", \"control\", \"control\", \"control\", \"control\", \"control\", \"control\", \"control\", \"corbi\", \"corrupt\", \"cost\", \"cost\", \"cost\", \"cost\", \"cost\", \"council\", \"council\", \"council\", \"council\", \"council\", \"council\", \"council\", \"council\", \"council\", \"council\", \"counsel\", \"counter\", \"cours\", \"cours\", \"court\", \"court\", \"court\", \"court\", \"court\", \"court\", \"court\", \"court\", \"court\", \"crackdown\", \"crackdown\", \"crash\", \"crash\", \"crash\", \"crash\", \"crash\", \"creat\", \"crew\", \"crew\", \"crimin\", \"criticis\", \"cruis\", \"cyclist\", \"cyclist\", \"cyclon\", \"damag\", \"damag\", \"damag\", \"damag\", \"damag\", \"danger\", \"danger\", \"darfur\", \"darl\", \"data\", \"dead\", \"dead\", \"dead\", \"dead\", \"dead\", \"dead\", \"deadlin\", \"deadlin\", \"deal\", \"deal\", \"deal\", \"death\", \"death\", \"death\", \"death\", \"debat\", \"debat\", \"debat\", \"debat\", \"debat\", \"debat\", \"debat\", \"debnam\", \"decis\", \"decis\", \"decis\", \"decis\", \"decis\", \"decis\", \"decis\", \"declar\", \"defenc\", \"defenc\", \"defenc\", \"defend\", \"defend\", \"defend\", \"defend\", \"defend\", \"deputi\", \"destroy\", \"destroy\", \"detail\", \"detent\", \"detent\", \"develop\", \"develop\", \"develop\", \"develop\", \"develop\", \"develop\", \"develop\", \"develop\", \"die\", \"die\", \"die\", \"die\", \"director\", \"diseas\", \"diseas\", \"doctor\", \"doctor\", \"doctor\", \"doctor\", \"doctor\", \"domest\", \"doubt\", \"down\", \"down\", \"down\", \"down\", \"down\", \"down\", \"down\", \"down\", \"down\", \"downer\", \"dozen\", \"drink\", \"drink\", \"drink\", \"drink\", \"drink\", \"drive\", \"drive\", \"drive\", \"drive\", \"drive\", \"drive\", \"drive\", \"drought\", \"drought\", \"drought\", \"drought\", \"drought\", \"drought\", \"drug\", \"drug\", \"dubbo\", \"dump\", \"dump\", \"eagl\", \"eagl\", \"eas\", \"eas\", \"eas\", \"eas\", \"east\", \"east\", \"effort\", \"effort\", \"effort\", \"effort\", \"effort\", \"effort\", \"elect\", \"elect\", \"elect\", \"elect\", \"elect\", \"elect\", \"elect\", \"elect\", \"emiss\", \"energi\", \"england\", \"england\", \"england\", \"england\", \"environment\", \"esper\", \"estat\", \"ethanol\", \"evacu\", \"event\", \"expect\", \"expect\", \"expect\", \"expect\", \"expect\", \"expect\", \"explos\", \"explos\", \"explos\", \"export\", \"export\", \"export\", \"export\", \"export\", \"extend\", \"extend\", \"extend\", \"face\", \"face\", \"face\", \"face\", \"face\", \"face\", \"face\", \"face\", \"face\", \"fall\", \"fall\", \"fall\", \"famili\", \"famili\", \"farewel\", \"farm\", \"farm\", \"farm\", \"farmer\", \"farmer\", \"farmer\", \"farmer\", \"farmer\", \"fatal\", \"fatal\", \"father\", \"father\", \"feder\", \"feder\", \"feder\", \"feder\", \"feder\", \"feder\", \"feder\", \"ferri\", \"fin\", \"fin\", \"fin\", \"final\", \"final\", \"final\", \"final\", \"final\", \"final\", \"final\", \"financi\", \"find\", \"find\", \"find\", \"find\", \"find\", \"find\", \"find\", \"find\", \"find\", \"fire\", \"fire\", \"fire\", \"fire\", \"fire\", \"fire\", \"fire\", \"fire\", \"firefight\", \"firefight\", \"firefight\", \"firefight\", \"firm\", \"firm\", \"firm\", \"firm\", \"firm\", \"first\", \"first\", \"first\", \"first\", \"first\", \"first\", \"first\", \"first\", \"first\", \"first\", \"fisherman\", \"flee\", \"flight\", \"flight\", \"flight\", \"flight\", \"flight\", \"flight\", \"flood\", \"flood\", \"flood\", \"flood\", \"focus\", \"focus\", \"focus\", \"focus\", \"focus\", \"foreign\", \"forest\", \"forest\", \"forest\", \"forestri\", \"former\", \"former\", \"former\", \"forward\", \"forward\", \"franc\", \"fraud\", \"free\", \"free\", \"free\", \"free\", \"from\", \"from\", \"from\", \"from\", \"from\", \"from\", \"from\", \"from\", \"from\", \"from\", \"front\", \"front\", \"front\", \"fuel\", \"fuel\", \"fuel\", \"fuel\", \"fuel\", \"fuel\", \"fuel\", \"fund\", \"fund\", \"fund\", \"fund\", \"fund\", \"fund\", \"fund\", \"fund\", \"funer\", \"game\", \"game\", \"game\", \"game\", \"game\", \"gaza\", \"gear\", \"get\", \"get\", \"get\", \"get\", \"get\", \"get\", \"global\", \"global\", \"gold\", \"gold\", \"gold\", \"gold\", \"gold\", \"gold\", \"good\", \"good\", \"goulburn\", \"govt\", \"govt\", \"govt\", \"govt\", \"govt\", \"govt\", \"govt\", \"govt\", \"govt\", \"govt\", \"grain\", \"grain\", \"grand\", \"green\", \"green\", \"green\", \"green\", \"group\", \"group\", \"group\", \"group\", \"group\", \"group\", \"group\", \"group\", \"group\", \"grower\", \"grower\", \"grower\", \"grower\", \"grower\", \"guantanamo\", \"guantanamo\", \"guard\", \"guard\", \"guilti\", \"guilti\", \"gunman\", \"gunman\", \"gunn\", \"hail\", \"hail\", \"hall\", \"hall\", \"hand\", \"hand\", \"haul\", \"have\", \"have\", \"have\", \"have\", \"have\", \"hayden\", \"head\", \"head\", \"head\", \"head\", \"head\", \"head\", \"head\", \"health\", \"health\", \"health\", \"health\", \"health\", \"health\", \"hear\", \"hear\", \"hear\", \"hear\", \"hear\", \"hear\", \"hear\", \"heart\", \"help\", \"help\", \"help\", \"help\", \"help\", \"help\", \"help\", \"help\", \"help\", \"help\", \"heritag\", \"hewitt\", \"higher\", \"higher\", \"highlight\", \"highlight\", \"hike\", \"hill\", \"histori\", \"hobart\", \"hobart\", \"hobart\", \"hobart\", \"home\", \"home\", \"home\", \"home\", \"home\", \"home\", \"home\", \"home\", \"home\", \"home\", \"hospit\", \"hospit\", \"hospit\", \"hospit\", \"hospit\", \"hospit\", \"hospit\", \"hospitalis\", \"hostag\", \"hostag\", \"hous\", \"hous\", \"hous\", \"hous\", \"hous\", \"hous\", \"hous\", \"hous\", \"hous\", \"howard\", \"howard\", \"howard\", \"howard\", \"howard\", \"howard\", \"howard\", \"howard\", \"howard\", \"human\", \"human\", \"human\", \"human\", \"hunt\", \"hunt\", \"hunt\", \"hydro\", \"iemma\", \"immigr\", \"immigr\", \"immigr\", \"immigr\", \"incid\", \"india\", \"india\", \"india\", \"india\", \"india\", \"india\", \"indigen\", \"indigen\", \"industri\", \"industri\", \"industri\", \"industri\", \"industri\", \"industri\", \"industri\", \"industri\", \"inform\", \"injur\", \"injur\", \"injur\", \"injuri\", \"injuri\", \"injuri\", \"injuri\", \"injuri\", \"injuri\", \"injuri\", \"inquest\", \"inquest\", \"inquest\", \"inquest\", \"inquest\", \"inquiri\", \"inquiri\", \"inquiri\", \"inquiri\", \"inquiri\", \"inquiri\", \"inquiri\", \"inquiri\", \"inquiri\", \"interest\", \"interest\", \"interest\", \"internet\", \"interview\", \"interview\", \"into\", \"into\", \"into\", \"into\", \"into\", \"into\", \"into\", \"into\", \"into\", \"investig\", \"investig\", \"investig\", \"investig\", \"iran\", \"iran\", \"iran\", \"iraq\", \"iraq\", \"iraq\", \"iraq\", \"iraq\", \"iraq\", \"iraq\", \"iraq\", \"iraq\", \"iraq\", \"iraqi\", \"iraqi\", \"iraqi\", \"iraqi\", \"iraqi\", \"iraqi\", \"iraqi\", \"iraqi\", \"iraqi\", \"islam\", \"isra\", \"israel\", \"israel\", \"israel\", \"jail\", \"jail\", \"jail\", \"jail\", \"jail\", \"jail\", \"jail\", \"jam\", \"jone\", \"jone\", \"jone\", \"jone\", \"kangaroo\", \"katherin\", \"keep\", \"keep\", \"keep\", \"keep\", \"keep\", \"keep\", \"keep\", \"kill\", \"kill\", \"kill\", \"kill\", \"kill\", \"killer\", \"killer\", \"killer\", \"killer\", \"lack\", \"lack\", \"lack\", \"lake\", \"langer\", \"lanka\", \"law\", \"law\", \"law\", \"law\", \"law\", \"lead\", \"lead\", \"lead\", \"lead\", \"lead\", \"leader\", \"leader\", \"leader\", \"leader\", \"leader\", \"leader\", \"leader\", \"leader\", \"leadership\", \"least\", \"leav\", \"leav\", \"leav\", \"leav\", \"leav\", \"leav\", \"leav\", \"leav\", \"leav\", \"leav\", \"legal\", \"legal\", \"legal\", \"legisl\", \"level\", \"level\", \"liber\", \"liber\", \"licenc\", \"life\", \"life\", \"life\", \"life\", \"life\", \"lift\", \"lightn\", \"limit\", \"limit\", \"limit\", \"live\", \"live\", \"livestock\", \"local\", \"local\", \"local\", \"local\", \"local\", \"locust\", \"london\", \"london\", \"lose\", \"lose\", \"lose\", \"lose\", \"lose\", \"lose\", \"lose\", \"lose\", \"lose\", \"lose\", \"loss\", \"loss\", \"loss\", \"major\", \"make\", \"make\", \"make\", \"make\", \"make\", \"make\", \"make\", \"make\", \"make\", \"make\", \"manag\", \"mark\", \"mark\", \"mark\", \"mark\", \"market\", \"market\", \"market\", \"mcgrath\", \"meatwork\", \"media\", \"mental\", \"middl\", \"milit\", \"mill\", \"mill\", \"mine\", \"mine\", \"mine\", \"mine\", \"mine\", \"mine\", \"mine\", \"minist\", \"minist\", \"minist\", \"minist\", \"minist\", \"minist\", \"minist\", \"minist\", \"mishap\", \"miss\", \"miss\", \"miss\", \"miss\", \"miss\", \"mission\", \"mix\", \"mix\", \"mobil\", \"monitor\", \"monitor\", \"monitor\", \"more\", \"more\", \"more\", \"more\", \"more\", \"more\", \"more\", \"more\", \"more\", \"more\", \"mull\", \"murder\", \"murder\", \"murder\", \"murder\", \"murray\", \"murray\", \"murray\", \"muslim\", \"name\", \"name\", \"name\", \"name\", \"name\", \"name\", \"nation\", \"nation\", \"nation\", \"nation\", \"nation\", \"nation\", \"nation\", \"nation\", \"nation\", \"nativ\", \"nativ\", \"nativ\", \"news\", \"nine\", \"north\", \"north\", \"north\", \"north\", \"north\", \"north\", \"north\", \"north\", \"nuclear\", \"nuclear\", \"nuclear\", \"number\", \"number\", \"number\", \"offer\", \"offer\", \"offer\", \"offer\", \"offer\", \"offer\", \"offer\", \"offer\", \"offer\", \"offic\", \"offic\", \"offic\", \"offic\", \"offic\", \"offic\", \"offic\", \"offici\", \"offici\", \"offici\", \"offici\", \"offici\", \"open\", \"open\", \"open\", \"open\", \"open\", \"open\", \"open\", \"open\", \"order\", \"order\", \"order\", \"order\", \"origin\", \"outback\", \"over\", \"over\", \"over\", \"over\", \"over\", \"over\", \"over\", \"over\", \"over\", \"over\", \"packag\", \"packag\", \"pakistan\", \"pakistan\", \"palestinian\", \"palm\", \"parent\", \"parent\", \"patel\", \"peopl\", \"perth\", \"perth\", \"perth\", \"perth\", \"perth\", \"perth\", \"petrol\", \"petrol\", \"petrol\", \"petrol\", \"phone\", \"phone\", \"phone\", \"pilbara\", \"pilot\", \"pipelin\", \"pipelin\", \"plan\", \"plan\", \"plan\", \"plan\", \"plan\", \"plan\", \"plan\", \"plan\", \"plan\", \"plan\", \"plane\", \"plane\", \"plant\", \"plant\", \"play\", \"play\", \"play\", \"play\", \"play\", \"play\", \"play\", \"play\", \"player\", \"player\", \"player\", \"player\", \"player\", \"player\", \"player\", \"plead\", \"plead\", \"pleas\", \"pledg\", \"pledg\", \"pledg\", \"plot\", \"point\", \"poison\", \"polic\", \"polic\", \"polic\", \"polic\", \"polic\", \"polic\", \"polic\", \"polic\", \"polic\", \"poll\", \"poll\", \"poll\", \"poll\", \"poll\", \"poll\", \"poll\", \"pont\", \"pope\", \"popul\", \"popul\", \"porn\", \"porn\", \"power\", \"power\", \"power\", \"power\", \"power\", \"power\", \"power\", \"power\", \"premier\", \"premier\", \"prepar\", \"prepar\", \"prepar\", \"prepar\", \"prepar\", \"press\", \"pressur\", \"pressur\", \"price\", \"price\", \"price\", \"price\", \"price\", \"princ\", \"princ\", \"prison\", \"prison\", \"prison\", \"prison\", \"prison\", \"prison\", \"prison\", \"prison\", \"privat\", \"probe\", \"probe\", \"probe\", \"probe\", \"probe\", \"probe\", \"produc\", \"produc\", \"produc\", \"product\", \"profit\", \"profit\", \"profit\", \"progress\", \"protea\", \"protest\", \"protest\", \"protest\", \"protest\", \"protest\", \"protest\", \"protest\", \"pulp\", \"push\", \"push\", \"push\", \"push\", \"push\", \"push\", \"push\", \"push\", \"qanta\", \"qanta\", \"quak\", \"queen\", \"question\", \"question\", \"question\", \"quit\", \"quit\", \"quit\", \"quit\", \"quit\", \"race\", \"race\", \"race\", \"race\", \"race\", \"race\", \"race\", \"rail\", \"rail\", \"rail\", \"rain\", \"rain\", \"rain\", \"rain\", \"rain\", \"rain\", \"rais\", \"rais\", \"rais\", \"rank\", \"rann\", \"rape\", \"rat\", \"rat\", \"rat\", \"rat\", \"rate\", \"rate\", \"rate\", \"rate\", \"rate\", \"reach\", \"reach\", \"reach\", \"reach\", \"reach\", \"reach\", \"record\", \"record\", \"record\", \"recov\", \"recycl\", \"redback\", \"refus\", \"refus\", \"region\", \"region\", \"region\", \"region\", \"region\", \"region\", \"region\", \"region\", \"region\", \"reject\", \"reject\", \"reject\", \"reject\", \"reject\", \"reject\", \"reject\", \"reject\", \"reject\", \"relief\", \"relief\", \"relief\", \"remain\", \"remain\", \"remain\", \"remain\", \"remain\", \"remain\", \"repair\", \"replac\", \"report\", \"report\", \"report\", \"report\", \"report\", \"report\", \"report\", \"report\", \"report\", \"rescu\", \"rescu\", \"rescu\", \"rescuer\", \"reserv\", \"reshuffl\", \"resid\", \"resid\", \"resid\", \"restrict\", \"restrict\", \"result\", \"result\", \"result\", \"resum\", \"resum\", \"resum\", \"resum\", \"rethink\", \"retir\", \"revamp\", \"right\", \"right\", \"right\", \"right\", \"right\", \"right\", \"riot\", \"rise\", \"rise\", \"rise\", \"rise\", \"rise\", \"rise\", \"risk\", \"risk\", \"road\", \"road\", \"road\", \"road\", \"road\", \"road\", \"road\", \"road\", \"road\", \"roar\", \"robberi\", \"robberi\", \"roll\", \"royal\", \"royal\", \"royal\", \"rudd\", \"rural\", \"rural\", \"sack\", \"sack\", \"sack\", \"sack\", \"sack\", \"sack\", \"safe\", \"safe\", \"safe\", \"safe\", \"sale\", \"sale\", \"saleyard\", \"save\", \"save\", \"save\", \"save\", \"say\", \"say\", \"say\", \"say\", \"say\", \"say\", \"say\", \"say\", \"say\", \"say\", \"schooli\", \"scientist\", \"scientist\", \"scientist\", \"score\", \"search\", \"seat\", \"secret\", \"secur\", \"secur\", \"secur\", \"secur\", \"secur\", \"secur\", \"secur\", \"secur\", \"secur\", \"seek\", \"seek\", \"seek\", \"seek\", \"seek\", \"seek\", \"seek\", \"seek\", \"seek\", \"seek\", \"seeker\", \"semi\", \"senat\", \"senat\", \"senat\", \"send\", \"send\", \"send\", \"send\", \"send\", \"send\", \"sentenc\", \"sentenc\", \"seri\", \"seri\", \"serious\", \"servic\", \"servic\", \"servic\", \"servic\", \"servic\", \"servic\", \"set\", \"sever\", \"sexual\", \"share\", \"share\", \"share\", \"share\", \"sharehold\", \"shark\", \"shoot\", \"shoot\", \"shoot\", \"shoot\", \"short\", \"sight\", \"sign\", \"sign\", \"sign\", \"sign\", \"sign\", \"sign\", \"singl\", \"skill\", \"slump\", \"small\", \"small\", \"snowi\", \"snowi\", \"socceroo\", \"socceroo\", \"solar\", \"soldier\", \"soldier\", \"soldier\", \"solomon\", \"solomon\", \"solomon\", \"somalia\", \"south\", \"south\", \"south\", \"south\", \"spend\", \"squad\", \"squad\", \"staff\", \"staff\", \"staff\", \"staff\", \"staff\", \"staff\", \"stanc\", \"stand\", \"state\", \"state\", \"state\", \"state\", \"state\", \"stay\", \"stay\", \"stay\", \"stay\", \"stay\", \"stay\", \"stay\", \"stem\", \"step\", \"step\", \"step\", \"strand\", \"strike\", \"strike\", \"strike\", \"strike\", \"strike\", \"strike\", \"stun\", \"sudan\", \"suicid\", \"suicid\", \"suicid\", \"suicid\", \"summer\", \"suppli\", \"support\", \"support\", \"support\", \"support\", \"support\", \"suspend\", \"suspend\", \"suspend\", \"sydney\", \"sydney\", \"sydney\", \"sydney\", \"sydney\", \"sydney\", \"sydney\", \"sydney\", \"tackl\", \"take\", \"take\", \"take\", \"take\", \"take\", \"take\", \"take\", \"take\", \"take\", \"take\", \"takeov\", \"taliban\", \"talk\", \"talk\", \"talk\", \"talk\", \"talk\", \"talk\", \"talk\", \"talk\", \"talk\", \"talk\", \"target\", \"target\", \"target\", \"target\", \"taxi\", \"teacher\", \"teacher\", \"teacher\", \"teacher\", \"teacher\", \"team\", \"team\", \"team\", \"team\", \"team\", \"team\", \"team\", \"telstra\", \"telstra\", \"telstra\", \"telstra\", \"terror\", \"terror\", \"terror\", \"terror\", \"test\", \"test\", \"test\", \"test\", \"test\", \"test\", \"test\", \"test\", \"test\", \"thailand\", \"thousand\", \"thousand\", \"threat\", \"threat\", \"threat\", \"threat\", \"threat\", \"threat\", \"threat\", \"threat\", \"threat\", \"three\", \"three\", \"three\", \"three\", \"three\", \"three\", \"tight\", \"time\", \"time\", \"time\", \"time\", \"time\", \"tip\", \"tip\", \"titan\", \"titl\", \"titl\", \"titl\", \"titl\", \"titl\", \"titl\", \"titl\", \"toad\", \"toddler\", \"toll\", \"toll\", \"total\", \"tougher\", \"tougher\", \"tour\", \"tour\", \"tour\", \"tour\", \"tour\", \"tour\", \"tour\", \"tour\", \"tourism\", \"tourism\", \"tourism\", \"tourism\", \"townsvill\", \"trade\", \"trade\", \"train\", \"train\", \"train\", \"train\", \"train\", \"train\", \"train\", \"treatment\", \"treatment\", \"treatment\", \"trial\", \"trial\", \"trial\", \"trial\", \"trial\", \"troop\", \"troop\", \"troop\", \"troop\", \"troop\", \"truck\", \"truck\", \"truck\", \"tunnel\", \"turn\", \"turn\", \"turn\", \"turn\", \"turnbul\", \"under\", \"under\", \"under\", \"under\", \"under\", \"under\", \"under\", \"under\", \"under\", \"unhappi\", \"univers\", \"unveil\", \"unveil\", \"unveil\", \"unveil\", \"unveil\", \"upset\", \"uranium\", \"uranium\", \"urg\", \"urg\", \"urg\", \"urg\", \"urg\", \"urg\", \"urg\", \"urg\", \"urg\", \"urg\", \"vail\", \"valley\", \"vaughan\", \"victim\", \"victim\", \"victori\", \"victori\", \"victori\", \"vietnam\", \"view\", \"villag\", \"visa\", \"visitor\", \"vow\", \"vow\", \"vow\", \"vow\", \"wallabi\", \"warm\", \"warn\", \"warn\", \"warn\", \"warn\", \"warn\", \"warn\", \"warn\", \"warn\", \"warn\", \"warn\", \"warrior\", \"wast\", \"wast\", \"wast\", \"wast\", \"wast\", \"water\", \"water\", \"water\", \"water\", \"water\", \"west\", \"west\", \"west\", \"west\", \"west\", \"west\", \"western\", \"western\", \"western\", \"western\", \"whale\", \"whale\", \"wheat\", \"wheat\", \"wild\", \"win\", \"win\", \"win\", \"win\", \"win\", \"win\", \"win\", \"win\", \"win\", \"wind\", \"wind\", \"windi\", \"wit\", \"with\", \"with\", \"with\", \"with\", \"with\", \"with\", \"with\", \"with\", \"with\", \"with\", \"withdraw\", \"without\", \"wollongong\", \"woman\", \"woman\", \"woman\", \"woman\", \"wool\", \"wool\", \"work\", \"work\", \"work\", \"work\", \"work\", \"work\", \"work\", \"world\", \"world\", \"world\", \"world\", \"world\", \"world\", \"world\", \"worri\", \"worri\", \"worri\", \"worri\", \"worsen\", \"young\", \"young\", \"young\"]}, \"R\": 30, \"lambda.step\": 0.01, \"plot.opts\": {\"xlab\": \"PC1\", \"ylab\": \"PC2\"}, \"topic.order\": [4, 3, 1, 2, 8, 7, 9, 5, 10, 6]};\n",
       "\n",
       "function LDAvis_load_lib(url, callback){\n",
       "  var s = document.createElement('script');\n",
       "  s.src = url;\n",
       "  s.async = true;\n",
       "  s.onreadystatechange = s.onload = callback;\n",
       "  s.onerror = function(){console.warn(\"failed to load library \" + url);};\n",
       "  document.getElementsByTagName(\"head\")[0].appendChild(s);\n",
       "}\n",
       "\n",
       "if(typeof(LDAvis) !== \"undefined\"){\n",
       "   // already loaded: just create the visualization\n",
       "   !function(LDAvis){\n",
       "       new LDAvis(\"#\" + \"ldavis_el8008149193552167153298133\", ldavis_el8008149193552167153298133_data);\n",
       "   }(LDAvis);\n",
       "}else if(typeof define === \"function\" && define.amd){\n",
       "   // require.js is available: use it to load d3/LDAvis\n",
       "   require.config({paths: {d3: \"https://cdnjs.cloudflare.com/ajax/libs/d3/3.5.5/d3.min\"}});\n",
       "   require([\"d3\"], function(d3){\n",
       "      window.d3 = d3;\n",
       "      LDAvis_load_lib(\"https://cdn.rawgit.com/bmabey/pyLDAvis/files/ldavis.v1.0.0.js\", function(){\n",
       "        new LDAvis(\"#\" + \"ldavis_el8008149193552167153298133\", ldavis_el8008149193552167153298133_data);\n",
       "      });\n",
       "    });\n",
       "}else{\n",
       "    // require.js not available: dynamically load d3 & LDAvis\n",
       "    LDAvis_load_lib(\"https://cdnjs.cloudflare.com/ajax/libs/d3/3.5.5/d3.min.js\", function(){\n",
       "         LDAvis_load_lib(\"https://cdn.rawgit.com/bmabey/pyLDAvis/files/ldavis.v1.0.0.js\", function(){\n",
       "                 new LDAvis(\"#\" + \"ldavis_el8008149193552167153298133\", ldavis_el8008149193552167153298133_data);\n",
       "            })\n",
       "         });\n",
       "}\n",
       "</script>"
      ],
      "text/plain": [
       "PreparedData(topic_coordinates=              x         y  topics  cluster       Freq\n",
       "topic                                                \n",
       "3      0.007016 -0.240441       1        1  13.604118\n",
       "2      0.231745  0.124742       2        1  11.372260\n",
       "0     -0.237667  0.209416       3        1  10.227891\n",
       "1      0.175289  0.105563       4        1  10.203588\n",
       "7      0.089655  0.081162       5        1  10.081370\n",
       "6      0.171485 -0.064545       6        1   9.441128\n",
       "8     -0.045807 -0.177842       7        1   9.223075\n",
       "4     -0.160786  0.103710       8        1   8.888565\n",
       "9     -0.147626 -0.070849       9        1   8.772303\n",
       "5     -0.083305 -0.070916      10        1   8.185693, topic_info=     Category          Freq       Term         Total  loglift  logprob\n",
       "term                                                                  \n",
       "262   Default   7828.000000      after   7828.000000  30.0000  30.0000\n",
       "240   Default  11338.000000      polic  11338.000000  29.0000  29.0000\n",
       "40    Default  14957.000000       over  14957.000000  28.0000  28.0000\n",
       "61    Default   6067.000000      water   6067.000000  27.0000  27.0000\n",
       "7     Default   5100.000000       fire   5100.000000  26.0000  26.0000\n",
       "538   Default   5125.000000       kill   5125.000000  25.0000  25.0000\n",
       "324   Default   4830.000000      charg   4830.000000  24.0000  24.0000\n",
       "10    Default   5335.000000       call   5335.000000  23.0000  23.0000\n",
       "145   Default   3921.000000      death   3921.000000  22.0000  22.0000\n",
       "197   Default   3953.000000      crash   3953.000000  21.0000  21.0000\n",
       "215   Default   4236.000000      court   4236.000000  20.0000  20.0000\n",
       "102   Default   4312.000000       fund   4312.000000  19.0000  19.0000\n",
       "432   Default   4108.000000       face   4108.000000  18.0000  18.0000\n",
       "265   Default   2964.000000     health   2964.000000  17.0000  17.0000\n",
       "103   Default   2890.000000       miss   2890.000000  16.0000  16.0000\n",
       "320   Default   2636.000000     servic   2636.000000  15.0000  15.0000\n",
       "371   Default   2673.000000    concern   2673.000000  14.0000  14.0000\n",
       "39    Default   3550.000000       iraq   3550.000000  13.0000  13.0000\n",
       "144   Default   2898.000000    continu   2898.000000  12.0000  12.0000\n",
       "78    Default   2495.000000       lead   2495.000000  11.0000  11.0000\n",
       "28    Default   2203.000000     record   2203.000000  10.0000  10.0000\n",
       "1109  Default   2407.000000      power   2407.000000   9.0000   9.0000\n",
       "342   Default   2447.000000       drug   2447.000000   8.0000   8.0000\n",
       "15    Default   2690.000000       rise   2690.000000   7.0000   7.0000\n",
       "2006  Default   2181.000000     closer   2181.000000   6.0000   6.0000\n",
       "383   Default   2256.000000     defend   2256.000000   5.0000   5.0000\n",
       "588   Default   2282.000000    support   2282.000000   4.0000   4.0000\n",
       "376   Default   2596.000000     reject   2596.000000   3.0000   3.0000\n",
       "304   Default   2338.000000     consid   2338.000000   2.0000   2.0000\n",
       "278   Default   3930.000000       find   3930.000000   1.0000   1.0000\n",
       "...       ...           ...        ...           ...      ...      ...\n",
       "1486  Topic10    216.363678       stun    217.409332   2.4980  -6.2735\n",
       "1897  Topic10    187.582138     athlet    188.493118   2.4979  -6.4163\n",
       "175   Topic10    501.066071      phone    503.564392   2.4978  -5.4338\n",
       "1766  Topic10    726.619690      level    730.354065   2.4977  -5.0621\n",
       "1981  Topic10    599.705566      board    603.847717   2.4959  -5.2541\n",
       "344   Topic10    543.067871    western    546.463989   2.4965  -5.3533\n",
       "2281  Topic10    312.016907  sharehold    313.699890   2.4974  -5.9074\n",
       "2158  Topic10    437.019501       hall    441.515442   2.4925  -5.5705\n",
       "383   Topic10   2179.432617     defend   2256.692871   2.4679  -3.9637\n",
       "1242  Topic10    901.797546      right    925.177185   2.4772  -4.8461\n",
       "1863  Topic10    536.713928     commit    545.573242   2.4864  -5.3650\n",
       "2389  Topic10    500.418884     unveil    508.554535   2.4867  -5.4350\n",
       "706   Topic10    826.752197     defenc    848.846924   2.4764  -4.9330\n",
       "1855  Topic10    642.311096     hobart    660.519348   2.4748  -5.1854\n",
       "787   Topic10    548.422974     flight    561.662781   2.4789  -5.3434\n",
       "1778  Topic10    382.133698      alert    387.240540   2.4895  -5.7047\n",
       "16    Topic10    944.043579      staff   1003.707214   2.4415  -4.8003\n",
       "695   Topic10    440.310944       mark    453.341095   2.4736  -5.5630\n",
       "2042  Topic10    325.709473      cours    328.870361   2.4931  -5.8645\n",
       "483   Topic10   1334.565063   question   1658.385742   2.2855  -4.4541\n",
       "866   Topic10    387.201996      human    403.172607   2.4624  -5.6915\n",
       "403   Topic10    704.460266     number    884.258728   2.2755  -5.0931\n",
       "2059  Topic10   1458.196899     sydney   2625.101562   1.9149  -4.3655\n",
       "41    Topic10   1286.238403      secur   2256.209473   1.9408  -4.4910\n",
       "576   Topic10    635.875793       quit    824.148987   2.2434  -5.1955\n",
       "819   Topic10    705.684448     remain   1083.919189   2.0736  -5.0913\n",
       "164   Topic10   1702.435303       govt  10915.629883   0.6446  -4.2107\n",
       "1637  Topic10    630.946777       blue   1161.259155   1.8927  -5.2033\n",
       "54    Topic10   1191.679077       plan   8549.845703   0.5322  -4.5674\n",
       "40    Topic10    937.274292       over  14957.019531  -0.2672  -4.8075\n",
       "\n",
       "[678 rows x 6 columns], token_table=      Topic      Freq        Term\n",
       "term                             \n",
       "610      10  0.996541     abandon\n",
       "225       1  0.034355       about\n",
       "225       2  0.057779       about\n",
       "225       3  0.000521       about\n",
       "225       4  0.030711       about\n",
       "225       5  0.158761       about\n",
       "225       6  0.093175       about\n",
       "225       7  0.049450       about\n",
       "225       8  0.002082       about\n",
       "225       9  0.542391       about\n",
       "225      10  0.031752       about\n",
       "898       4  0.956671       accid\n",
       "898       5  0.041951       accid\n",
       "214       2  0.836575       accus\n",
       "214       3  0.000392       accus\n",
       "214       5  0.038828       accus\n",
       "214       6  0.089815       accus\n",
       "214       7  0.005099       accus\n",
       "214       8  0.023925       accus\n",
       "214       9  0.000392       accus\n",
       "214      10  0.004314       accus\n",
       "522       1  0.004510      action\n",
       "522       2  0.959070      action\n",
       "522       3  0.001503      action\n",
       "522       7  0.002255      action\n",
       "522       9  0.000752      action\n",
       "522      10  0.030817      action\n",
       "37        5  0.995687     address\n",
       "37       10  0.003375     address\n",
       "1770      3  0.005838      afghan\n",
       "...     ...       ...         ...\n",
       "1538      8  0.995949     without\n",
       "127       8  0.993360  wollongong\n",
       "1076      2  0.370002       woman\n",
       "1076      3  0.000539       woman\n",
       "1076      4  0.598152       woman\n",
       "1076      6  0.031283       woman\n",
       "1444      6  0.003529        wool\n",
       "1444      7  0.995281        wool\n",
       "211       1  0.967553        work\n",
       "211       4  0.001342        work\n",
       "211       5  0.000895        work\n",
       "211       6  0.001789        work\n",
       "211       7  0.000447        work\n",
       "211       8  0.025497        work\n",
       "211      10  0.002237        work\n",
       "428       3  0.766705       world\n",
       "428       5  0.000881       world\n",
       "428       6  0.000440       world\n",
       "428       7  0.000440       world\n",
       "428       8  0.012771       world\n",
       "428       9  0.019817       world\n",
       "428      10  0.199053       world\n",
       "2099      1  0.299461       worri\n",
       "2099      4  0.007106       worri\n",
       "2099      8  0.001015       worri\n",
       "2099      9  0.691299       worri\n",
       "3802      7  0.993755      worsen\n",
       "362       2  0.034769       young\n",
       "362       3  0.961435       young\n",
       "362       4  0.001512       young\n",
       "\n",
       "[2057 rows x 3 columns], R=30, lambda_step=0.01, plot_opts={'xlab': 'PC1', 'ylab': 'PC2'}, topic_order=[4, 3, 1, 2, 8, 7, 9, 5, 10, 6])"
      ]
     },
     "execution_count": 52,
     "metadata": {},
     "output_type": "execute_result"
    }
   ],
   "source": [
    "from pyLDAvis import gensim\n",
    "pyLDAvis.enable_notebook()\n",
    "vis = gensim.prepare(lda_model,bow_corpus, dictionary)\n",
    "vis"
   ]
  }
 ],
 "metadata": {
  "kernelspec": {
   "display_name": "Python 3",
   "language": "python",
   "name": "python3"
  },
  "language_info": {
   "codemirror_mode": {
    "name": "ipython",
    "version": 3
   },
   "file_extension": ".py",
   "mimetype": "text/x-python",
   "name": "python",
   "nbconvert_exporter": "python",
   "pygments_lexer": "ipython3",
   "version": "3.6.8"
  }
 },
 "nbformat": 4,
 "nbformat_minor": 2
}
